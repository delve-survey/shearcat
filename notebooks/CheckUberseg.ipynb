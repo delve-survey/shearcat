{
 "cells": [
  {
   "cell_type": "code",
   "execution_count": 4,
   "id": "6e3a04bc",
   "metadata": {},
   "outputs": [
    {
     "name": "stdout",
     "output_type": "stream",
     "text": [
      "%pylab is deprecated, use %matplotlib inline and import the required libraries.\n",
      "Populating the interactive namespace from numpy and matplotlib\n"
     ]
    }
   ],
   "source": [
    "import astropy.io.fits as pf\n",
    "import pylab as mplot\n",
    "import os\n",
    "%pylab inline"
   ]
  },
  {
   "cell_type": "code",
   "execution_count": 3,
   "id": "89fb5846",
   "metadata": {},
   "outputs": [],
   "source": [
    "shearcat_dir='/project/chihway/data/decade/shearcat_v2/'"
   ]
  },
  {
   "cell_type": "code",
   "execution_count": 5,
   "id": "7686d9db",
   "metadata": {},
   "outputs": [],
   "source": [
    "mcal_files = [f for f in os.listdir(shearcat_dir) if f.startswith('metacal_output')]"
   ]
  },
  {
   "cell_type": "code",
   "execution_count": 6,
   "id": "edaddbca",
   "metadata": {},
   "outputs": [
    {
     "data": {
      "text/plain": [
       "['metacal_output_DES1134+2043.fits',\n",
       " 'metacal_output_DES1105+1751.fits',\n",
       " 'metacal_output_DES1007-0333.fits',\n",
       " 'metacal_output_DES0817-0958.fits',\n",
       " 'metacal_output_DES1110+2043.fits',\n",
       " 'metacal_output_DES1042+2625.fits',\n",
       " 'metacal_output_DES0856-2249.fits',\n",
       " 'metacal_output_DES1057-0624.fits',\n",
       " 'metacal_output_DES1103+1000.fits',\n",
       " 'metacal_output_DES0755+1543.fits',\n",
       " 'metacal_output_DES0722+2543.fits',\n",
       " 'metacal_output_DES0913-1958.fits',\n",
       " 'metacal_output_DES1133+0835.fits',\n",
       " 'metacal_output_DES1007-0833.fits',\n",
       " 'metacal_output_DES1120+1043.fits',\n",
       " 'metacal_output_DES0819+1626.fits',\n",
       " 'metacal_output_DES1038+0917.fits',\n",
       " 'metacal_output_DES0951-1415.fits',\n",
       " 'metacal_output_DES1002+0418.fits',\n",
       " 'metacal_output_DES1035-1958.fits']"
      ]
     },
     "execution_count": 6,
     "metadata": {},
     "output_type": "execute_result"
    }
   ],
   "source": [
    "mcal_files"
   ]
  },
  {
   "cell_type": "code",
   "execution_count": null,
   "id": "3026f998",
   "metadata": {
    "scrolled": false
   },
   "outputs": [],
   "source": [
    "for i in range(20):\n",
    "    if os.path.isfile(shearcat_dir+mcal_files[i]) and os.path.isfile('/project/chihway/data/decade/shearcat_v1/'+mcal_files[i]):\n",
    "        new_file = pf.open(shearcat_dir+mcal_files[i])[1].data\n",
    "#         old_file = pf.open(shearcat_dir+'old/'+mcal_files[i])[1].data\n",
    "        old_file = pf.open('/project/chihway/data/decade/shearcat_v1/'+mcal_files[i])[1].data\n",
    "\n",
    "        mplot.figure()\n",
    "        mplot.hist(new_file['mcal_s2n_noshear'][new_file['mcal_flags']==0], range=(0,1000), bins=100, label='new')\n",
    "        mplot.hist(old_file['mcal_s2n_noshear'][old_file['mcal_flags']==0], range=(0,1000), bins=100, label='old')\n",
    "        mplot.legend()\n",
    "        mplot.yscale('log')\n",
    "        mplot.xlabel('S/N')"
   ]
  },
  {
   "cell_type": "code",
   "execution_count": null,
   "id": "0869c8bd",
   "metadata": {},
   "outputs": [],
   "source": []
  }
 ],
 "metadata": {
  "kernelspec": {
   "display_name": "Python 3 (ipykernel)",
   "language": "python",
   "name": "python3"
  },
  "language_info": {
   "codemirror_mode": {
    "name": "ipython",
    "version": 3
   },
   "file_extension": ".py",
   "mimetype": "text/x-python",
   "name": "python",
   "nbconvert_exporter": "python",
   "pygments_lexer": "ipython3",
   "version": "3.9.12"
  }
 },
 "nbformat": 4,
 "nbformat_minor": 5
}
