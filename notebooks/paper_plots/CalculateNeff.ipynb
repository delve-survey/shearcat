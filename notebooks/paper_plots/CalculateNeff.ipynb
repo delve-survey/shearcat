{
 "cells": [
  {
   "cell_type": "code",
   "execution_count": 5,
   "id": "24e2b4f7",
   "metadata": {},
   "outputs": [
    {
     "name": "stdout",
     "output_type": "stream",
     "text": [
      "Populating the interactive namespace from numpy and matplotlib\n"
     ]
    }
   ],
   "source": [
    "import sys\n",
    "sys.path.append('.conda/envs/shear/lib/python3.9/site-packages/')\n",
    "\n",
    "import numpy as np\n",
    "import astropy.io.fits as pf\n",
    "import pylab as mplot\n",
    "import yaml\n",
    "import h5py\n",
    "import healpy as hp\n",
    "\n",
    "%pylab inline"
   ]
  },
  {
   "cell_type": "code",
   "execution_count": 6,
   "id": "e973be2c",
   "metadata": {},
   "outputs": [],
   "source": [
    "tag = '0613'\n",
    "project_dir = '/project/chihway/data/decade/'"
   ]
  },
  {
   "cell_type": "code",
   "execution_count": 7,
   "id": "727e20ef",
   "metadata": {},
   "outputs": [
    {
     "name": "stdout",
     "output_type": "stream",
     "text": [
      "<KeysViewHDF5 ['BDF_FLUX_ERR_G', 'BDF_FLUX_ERR_I', 'BDF_FLUX_ERR_R', 'BDF_FLUX_ERR_Z', 'BDF_FLUX_G', 'BDF_FLUX_I', 'BDF_FLUX_R', 'BDF_FLUX_Z', 'BDF_S2N', 'BDF_T', 'COADD_OBJECT_ID', 'DEC', 'FLAGS_FOREGROUND', 'FLUXERR_AUTO_G', 'FLUXERR_AUTO_I', 'FLUXERR_AUTO_R', 'FLUXERR_AUTO_Z', 'FLUX_AUTO_G', 'FLUX_AUTO_I', 'FLUX_AUTO_R', 'FLUX_AUTO_Z', 'FLUX_RADIUS_G', 'FLUX_RADIUS_I', 'FLUX_RADIUS_R', 'FLUX_RADIUS_Z', 'Ncutouts_raw', 'RA', 'badfrac', 'id', 'mcal_T_1m', 'mcal_T_1p', 'mcal_T_2m', 'mcal_T_2p', 'mcal_T_noshear', 'mcal_T_ratio_1m', 'mcal_T_ratio_1p', 'mcal_T_ratio_2m', 'mcal_T_ratio_2p', 'mcal_T_ratio_noshear', 'mcal_flags', 'mcal_flux_1m', 'mcal_flux_1p', 'mcal_flux_2m', 'mcal_flux_2p', 'mcal_flux_err_1m', 'mcal_flux_err_1p', 'mcal_flux_err_2m', 'mcal_flux_err_2p', 'mcal_flux_err_noshear', 'mcal_flux_noshear', 'mcal_g_1m', 'mcal_g_1p', 'mcal_g_2m', 'mcal_g_2p', 'mcal_g_cov_1m', 'mcal_g_cov_1p', 'mcal_g_cov_2m', 'mcal_g_cov_2p', 'mcal_g_cov_noshear', 'mcal_g_noshear', 'mcal_g_w', 'mcal_g_w_v2', 'mcal_psf_T_noshear', 'mcal_psf_g_noshear', 'mcal_s2n_1m', 'mcal_s2n_1p', 'mcal_s2n_2m', 'mcal_s2n_2p', 'mcal_s2n_noshear', 'sg_bdf', 'x', 'y']>\n"
     ]
    }
   ],
   "source": [
    "with h5py.File(project_dir+'metacal_gold_combined_2023'+tag+'.hdf', 'r') as h5r:\n",
    "\n",
    "    print(h5r.keys())"
   ]
  },
  {
   "cell_type": "code",
   "execution_count": 8,
   "id": "b1df4022",
   "metadata": {},
   "outputs": [
    {
     "name": "stderr",
     "output_type": "stream",
     "text": [
      "/project/chihway/yomori/repo/anaconda3/envs/cosmosis/lib/python3.7/site-packages/ipykernel_launcher.py:13: RuntimeWarning: invalid value encountered in log10\n",
      "  del sys.path[0]\n",
      "/project/chihway/yomori/repo/anaconda3/envs/cosmosis/lib/python3.7/site-packages/ipykernel_launcher.py:14: RuntimeWarning: invalid value encountered in log10\n",
      "  \n",
      "/project/chihway/yomori/repo/anaconda3/envs/cosmosis/lib/python3.7/site-packages/ipykernel_launcher.py:15: RuntimeWarning: invalid value encountered in log10\n",
      "  from ipykernel import kernelapp as app\n",
      "/project/chihway/yomori/repo/anaconda3/envs/cosmosis/lib/python3.7/site-packages/ipykernel_launcher.py:29: RuntimeWarning: invalid value encountered in log10\n"
     ]
    }
   ],
   "source": [
    "# first get mask total\n",
    "\n",
    "with h5py.File(project_dir+'metacal_gold_combined_2023'+tag+'.hdf', 'r') as h5r:\n",
    "    size_ratio = h5r['mcal_T_ratio_noshear'][:]\n",
    "    s2n = h5r['mcal_s2n_noshear'][:]\n",
    "    sg = h5r['sg_bdf'][:] \n",
    "    fg = h5r['FLAGS_FOREGROUND'][:] \n",
    "    T = h5r['mcal_T_noshear'][:]\n",
    "    mcal_flags = h5r['mcal_flags'][:]\n",
    "    g1, g2  = h5r['mcal_g_noshear'][:].T\n",
    "    flux_r, flux_i, flux_z = h5r['mcal_flux_noshear'][:].T\n",
    "\n",
    "mag_r = -2.5*np.log10(flux_r)+30\n",
    "mag_i = -2.5*np.log10(flux_i)+30\n",
    "mag_z = -2.5*np.log10(flux_z)+30\n",
    "\n",
    "# PZ mask\n",
    "mcal_pz_mask = ((mag_i < 23.5) & (mag_i > 18) & \n",
    "                    (mag_r < 26)   & (mag_r > 15) & \n",
    "                    (mag_z < 26)   & (mag_z > 15) & \n",
    "                    (mag_r - mag_i < 4)   & (mag_r - mag_i > -1.5) & \n",
    "                    (mag_i - mag_z < 4)   & (mag_i - mag_z > -1.5))\n",
    "\n",
    "# Metacal cuts based on DES Y3 ones (from here: https://des.ncsa.illinois.edu/releases/y3a2/Y3key-catalogs)\n",
    "SNR_Mask   = (s2n > 10) & (s2n < 1000)\n",
    "Tratio_Mask= size_ratio > 0.5\n",
    "T_Mask = T < 10\n",
    "Flag_Mask = (mcal_flags == 0)\n",
    "Other_Mask = np.invert((T > 2) & (s2n < 30)) & np.invert((np.log10(T) < (22.25 - mag_r)/3.5) & (g1**2 + g2**2 > 0.8**2))\n",
    "SG_Mask = (sg>=4)\n",
    "FG_Mask = (fg==0)\n",
    "\n",
    "mask_total = mcal_pz_mask & SNR_Mask & Tratio_Mask & T_Mask & Flag_Mask & Other_Mask & SG_Mask & FG_Mask\n"
   ]
  },
  {
   "cell_type": "markdown",
   "id": "48857e4d",
   "metadata": {},
   "source": [
    "### get calibration"
   ]
  },
  {
   "cell_type": "code",
   "execution_count": 9,
   "id": "af7e8c2d",
   "metadata": {
    "scrolled": true
   },
   "outputs": [
    {
     "name": "stderr",
     "output_type": "stream",
     "text": [
      "/project/chihway/yomori/repo/anaconda3/envs/cosmosis/lib/python3.7/site-packages/ipykernel_launcher.py:13: RuntimeWarning: invalid value encountered in log10\n",
      "  del sys.path[0]\n",
      "/project/chihway/yomori/repo/anaconda3/envs/cosmosis/lib/python3.7/site-packages/ipykernel_launcher.py:14: RuntimeWarning: invalid value encountered in log10\n",
      "  \n",
      "/project/chihway/yomori/repo/anaconda3/envs/cosmosis/lib/python3.7/site-packages/ipykernel_launcher.py:15: RuntimeWarning: invalid value encountered in log10\n",
      "  from ipykernel import kernelapp as app\n",
      "/project/chihway/yomori/repo/anaconda3/envs/cosmosis/lib/python3.7/site-packages/ipykernel_launcher.py:29: RuntimeWarning: invalid value encountered in log10\n"
     ]
    }
   ],
   "source": [
    "Mask = {}\n",
    "for shear_type in ['noshear', '1p', '1m', '2p', '2m']: \n",
    "    with h5py.File(project_dir+'metacal_gold_combined_2023'+tag+'.hdf', 'r') as h5r:\n",
    "        sg = h5r['sg_bdf'][:] \n",
    "        fg = h5r['FLAGS_FOREGROUND'][:] \n",
    "        T = h5r['mcal_T_'+shear_type][:]\n",
    "        s2n = h5r['mcal_s2n_'+shear_type][:]\n",
    "        size_ratio = h5r['mcal_T_ratio_'+shear_type][:]\n",
    "        mcal_flags = h5r['mcal_flags'][:]\n",
    "        flux_r, flux_i, flux_z = h5r['mcal_flux_'+shear_type][:].T\n",
    "        g1, g2  = h5r['mcal_g_'+shear_type][:].T\n",
    "        \n",
    "    mag_r = -2.5*np.log10(flux_r)+30\n",
    "    mag_i = -2.5*np.log10(flux_i)+30\n",
    "    mag_z = -2.5*np.log10(flux_z)+30\n",
    "\n",
    "    # PZ mask\n",
    "    mcal_pz_mask = ((mag_i < 23.5) & (mag_i > 18) & \n",
    "                        (mag_r < 26)   & (mag_r > 15) & \n",
    "                        (mag_z < 26)   & (mag_z > 15) & \n",
    "                        (mag_r - mag_i < 4)   & (mag_r - mag_i > -1.5) & \n",
    "                        (mag_i - mag_z < 4)   & (mag_i - mag_z > -1.5))\n",
    "\n",
    "    # Metacal cuts based on DES Y3 ones (from here: https://des.ncsa.illinois.edu/releases/y3a2/Y3key-catalogs)\n",
    "    SNR_Mask   = (s2n > 10) & (s2n < 1000)\n",
    "    Tratio_Mask= size_ratio > 0.5\n",
    "    T_Mask = T < 10\n",
    "    Flag_Mask = (mcal_flags == 0)\n",
    "    Other_Mask = np.invert((T > 2) & (s2n < 30)) & np.invert((np.log10(T) < (22.25 - mag_r)/3.5) & (g1**2 + g2**2 > 0.8**2))\n",
    "    SG_Mask = (sg>=4)\n",
    "    FG_Mask = (fg==0)\n",
    "\n",
    "    mask_total_X = mcal_pz_mask & SNR_Mask & Tratio_Mask & T_Mask & Flag_Mask & Other_Mask & SG_Mask & FG_Mask\n",
    "    \n",
    "    Mask[shear_type] = mask_total_X\n",
    "    del T\n",
    "    del s2n\n",
    "    del size_ratio\n",
    "    del sg\n",
    "    del fg\n",
    "    del flux_r, flux_i, flux_z\n",
    "    del mag_r, mag_i, mag_z"
   ]
  },
  {
   "cell_type": "code",
   "execution_count": 10,
   "id": "7603a0a6",
   "metadata": {},
   "outputs": [],
   "source": [
    "def weight_average(values, weights):\n",
    "    return np.sum(values*weights)/np.sum(weights)"
   ]
  },
  {
   "cell_type": "code",
   "execution_count": 11,
   "id": "d329e0f4",
   "metadata": {},
   "outputs": [
    {
     "name": "stdout",
     "output_type": "stream",
     "text": [
      "R11 0.6944438564705219 R11s 0.034199649879673374\n",
      "R22 0.695467425003138 R22s 0.034768233522071375\n",
      "R11tot 0.7286435063501953 R22tot 0.7302356585252093\n"
     ]
    }
   ],
   "source": [
    "dgamma = 2*0.01\n",
    "with h5py.File(project_dir+'metacal_gold_combined_2023'+tag+'.hdf', 'r') as h5r:\n",
    "\n",
    "    R11_w1 =  (weight_average(h5r['mcal_g_1p'][:,0][Mask['noshear']],h5r['mcal_g_w'][Mask['noshear']]) - weight_average(h5r['mcal_g_1m'][:,0][Mask['noshear']], h5r['mcal_g_w'][Mask['noshear']]))/dgamma\n",
    "    R11s_w1 = (weight_average(h5r['mcal_g_noshear'][:,0][Mask['1p']], h5r['mcal_g_w'][Mask['1p']]) - weight_average(h5r['mcal_g_noshear'][:,0][Mask['1m']], h5r['mcal_g_w'][Mask['1m']]))/dgamma\n",
    "    R22_w1 =  (weight_average(h5r['mcal_g_2p'][:,1][Mask['noshear']], h5r['mcal_g_w'][Mask['noshear']]) - weight_average(h5r['mcal_g_2m'][:,1][Mask['noshear']], h5r['mcal_g_w'][Mask['noshear']]))/dgamma\n",
    "    R22s_w1 = (weight_average(h5r['mcal_g_noshear'][:,1][Mask['2p']], h5r['mcal_g_w'][Mask['2p']]) - weight_average(h5r['mcal_g_noshear'][:,1][Mask['2m']], h5r['mcal_g_w'][Mask['2m']]))/dgamma\n",
    "    R11tot_w1 = R11_w1+R11s_w1\n",
    "    R22tot_w1 = R22_w1+R22s_w1\n",
    "    \n",
    "    print('R11', R11_w1, 'R11s', R11s_w1)\n",
    "    print('R22', R22_w1, 'R22s', R22s_w1)\n",
    "    print('R11tot', R11tot_w1, 'R22tot', R22tot_w1)"
   ]
  },
  {
   "cell_type": "code",
   "execution_count": 12,
   "id": "10a66e8a",
   "metadata": {},
   "outputs": [
    {
     "name": "stdout",
     "output_type": "stream",
     "text": [
      "R11 0.7443824304923087 R11s 0.047189013967600654\n",
      "R22 0.7455737932558067 R22s 0.04767254335307269\n",
      "R11tot 0.7915714444599093 R22tot 0.7932463366088794\n"
     ]
    }
   ],
   "source": [
    "with h5py.File(project_dir+'metacal_gold_combined_2023'+tag+'.hdf', 'r') as h5r:\n",
    "    R11_w2 =  (weight_average(h5r['mcal_g_1p'][:,0][Mask['noshear']], h5r['mcal_g_w_v2'][Mask['noshear']]) - weight_average(h5r['mcal_g_1m'][:,0][Mask['noshear']], h5r['mcal_g_w_v2'][Mask['noshear']]))/dgamma\n",
    "    R11s_w2 = (weight_average(h5r['mcal_g_noshear'][:,0][Mask['1p']], h5r['mcal_g_w_v2'][Mask['1p']]) - weight_average(h5r['mcal_g_noshear'][:,0][Mask['1m']], h5r['mcal_g_w_v2'][Mask['1m']]))/dgamma\n",
    "    R22_w2 =  (weight_average(h5r['mcal_g_2p'][:,1][Mask['noshear']], h5r['mcal_g_w_v2'][Mask['noshear']]) - weight_average(h5r['mcal_g_2m'][:,1][Mask['noshear']], h5r['mcal_g_w_v2'][Mask['noshear']]))/dgamma\n",
    "    R22s_w2 = (weight_average(h5r['mcal_g_noshear'][:,1][Mask['2p']], h5r['mcal_g_w_v2'][Mask['2p']]) - weight_average(h5r['mcal_g_noshear'][:,1][Mask['2m']], h5r['mcal_g_w_v2'][Mask['2m']]))/dgamma\n",
    "    R11tot_w2 = R11_w2+R11s_w2\n",
    "    R22tot_w2 = R22_w2+R22s_w2\n",
    "    \n",
    "    print('R11', R11_w2, 'R11s', R11s_w2)\n",
    "    print('R22', R22_w2, 'R22s', R22s_w2)\n",
    "    print('R11tot', R11tot_w2, 'R22tot', R22tot_w2)\n"
   ]
  },
  {
   "cell_type": "markdown",
   "id": "b4811a80",
   "metadata": {},
   "source": [
    "### get area"
   ]
  },
  {
   "cell_type": "code",
   "execution_count": 13,
   "id": "eebf5c32",
   "metadata": {},
   "outputs": [],
   "source": [
    "with h5py.File(project_dir+'metacal_gold_combined_2023'+tag+'.hdf', 'r') as h5r:\n",
    "    ra = h5r['RA'][mask_total]\n",
    "    dec = h5r['DEC'][mask_total]\n",
    "    g1, g2  = h5r['mcal_g_noshear'][:][mask_total].T\n",
    "    w1 = h5r['mcal_g_w'][mask_total]\n",
    "    w2= h5r['mcal_g_w_v2'][mask_total]"
   ]
  },
  {
   "cell_type": "code",
   "execution_count": 14,
   "id": "e32302f6",
   "metadata": {},
   "outputs": [],
   "source": [
    "nside = 4096\n",
    "map_counts = np.zeros(hp.nside2npix(nside))\n",
    "\n",
    "phi = ra/180*np.pi\n",
    "theta = (90.-dec)/180*np.pi\n",
    "\n",
    "pix = hp.ang2pix(nside, theta, phi)"
   ]
  },
  {
   "cell_type": "code",
   "execution_count": 15,
   "id": "c7735da1",
   "metadata": {},
   "outputs": [],
   "source": [
    "for i in range(len(pix)):\n",
    "    map_counts[pix[i]] += 1"
   ]
  },
  {
   "cell_type": "code",
   "execution_count": 16,
   "id": "8447b8e4",
   "metadata": {},
   "outputs": [
    {
     "name": "stdout",
     "output_type": "stream",
     "text": [
      "area 2376.3284069720044 deg^2\n"
     ]
    }
   ],
   "source": [
    "area = len(map_counts[map_counts>0])/len(map_counts)*4*np.pi*(180./np.pi)**2*60*60\n",
    "print('area', area/60/60, 'deg^2')"
   ]
  },
  {
   "cell_type": "code",
   "execution_count": 28,
   "id": "a97b5fb5",
   "metadata": {},
   "outputs": [
    {
     "name": "stdout",
     "output_type": "stream",
     "text": [
      "5.534827367047062\n"
     ]
    }
   ],
   "source": [
    "# raw number\n",
    "print(len(ra)/area)\n",
    "n = len(ra)/area"
   ]
  },
  {
   "cell_type": "markdown",
   "id": "303e70ce",
   "metadata": {},
   "source": [
    "### H12 neff and sigmae"
   ]
  },
  {
   "cell_type": "code",
   "execution_count": 43,
   "id": "3a41c6e0",
   "metadata": {},
   "outputs": [],
   "source": [
    "def neff_H12(w, A):\n",
    "    return 1./A * (np.sum(w)**2) / (np.sum(w**2))\n",
    "\n",
    "def sigmae2_H12(w, g1, R1, g2, R2, neff, A):\n",
    "    return np.sqrt(0.5*((np.sum(w**2*(g1/R1)**2)/(np.sum(w))**2)\n",
    "                        +(np.sum(w**2*(g2/R2)**2)/(np.sum(w))**2))*(A*neff))\n"
   ]
  },
  {
   "cell_type": "code",
   "execution_count": 44,
   "id": "3af9f2f1",
   "metadata": {},
   "outputs": [],
   "source": [
    "# neff_H12_w1 = 1./area * (np.sum(w1)**2) / (np.sum(w1**2))\n",
    "# print('neff_H12_w1', neff_H12_w1)\n",
    "\n",
    "# neff_H12_w2 = 1./area * (np.sum(w2)**2) / (np.sum(w2**2))\n",
    "# print('neff_H12_w2', neff_H12_w2)"
   ]
  },
  {
   "cell_type": "code",
   "execution_count": 45,
   "id": "1d028a0a",
   "metadata": {},
   "outputs": [],
   "source": [
    "# sigmae2_H12_w1 = 0.5*((np.sum(w1**2*(g1/R_w1)**2)/(np.sum(w1))**2)+(np.sum(w1**2*(g2/R_w1)**2)/(np.sum(w1))**2))*(area*neff_H12_w1)\n",
    "# print('sigmae_H12_w1', sigmae2_H12_w1**0.5)\n",
    "\n",
    "# sigmae2_H12_w2 = 0.5*((np.sum(w2**2*(g1/R_w2)**2)/(np.sum(w2))**2)+(np.sum(w2**2*(g2/R_w2)**2)/(np.sum(w2))**2))*(area*neff_H12_w2)\n",
    "# print('sigmae_H12_w2', sigmae2_H12_w2**0.5)"
   ]
  },
  {
   "cell_type": "markdown",
   "id": "0408b7da",
   "metadata": {},
   "source": [
    "### C13 neff and sigmae"
   ]
  },
  {
   "cell_type": "code",
   "execution_count": 46,
   "id": "ed86c9a1",
   "metadata": {},
   "outputs": [],
   "source": [
    "with h5py.File(project_dir+'metacal_gold_combined_2023'+tag+'.hdf', 'r') as h5r:\n",
    "    mcal_g_cov = h5r['mcal_g_cov_noshear'][:][mask_total]"
   ]
  },
  {
   "cell_type": "code",
   "execution_count": 47,
   "id": "7808c0ce",
   "metadata": {},
   "outputs": [
    {
     "data": {
      "text/plain": [
       "(47349243, 2, 2)"
      ]
     },
     "execution_count": 47,
     "metadata": {},
     "output_type": "execute_result"
    }
   ],
   "source": [
    "mcal_g_cov.shape"
   ]
  },
  {
   "cell_type": "code",
   "execution_count": 48,
   "id": "3dad5315",
   "metadata": {},
   "outputs": [
    {
     "name": "stdout",
     "output_type": "stream",
     "text": [
      "[0.00012443 0.00056514 0.00039428 ... 0.00038864 0.00047486 0.0030966 ]\n",
      "[0.00012689 0.00055371 0.00041899 ... 0.00038122 0.00048586 0.00530337]\n"
     ]
    }
   ],
   "source": [
    "sigma2_e1_m = mcal_g_cov[:,0,0] \n",
    "sigma2_e2_m = mcal_g_cov[:,1,1]\n",
    "print(sigma2_e1_m)\n",
    "print(sigma2_e2_m)"
   ]
  },
  {
   "cell_type": "code",
   "execution_count": 50,
   "id": "cc08b900",
   "metadata": {},
   "outputs": [],
   "source": [
    "def sigmae2_C13(w, g1, R1, g2, R2, sigma2_e1_m, sigma2_e2_m):\n",
    "    return np.sqrt(0.5* np.sum(w**2*((g1/R1)**2+(g2/R2)**2 \n",
    "                                     - sigma2_e1_m/R1**2 - sigma2_e2_m/R2**2)) / np.sum(w**2))\n",
    "\n",
    "\n",
    "def neff_C13(w, g1, R1, g2, R2, sigma2_e1_m, sigma2_e2_m, A):\n",
    "    return (1./A * (np.sum(w)**2) / (np.sum(w**2))\n",
    "    *(np.sum(w**2*((g1/R1)**2+(g2/R2)**2 - sigma2_e1_m/R1**2 - sigma2_e2_m/R2**2)))\n",
    "    / np.sum(w**2*((g1/R1)**2+(g2/R2)**2)))\n"
   ]
  },
  {
   "cell_type": "code",
   "execution_count": 51,
   "id": "01b37d01",
   "metadata": {},
   "outputs": [],
   "source": [
    "# sigmae2_C13_w1 = 0.5* np.sum(w1**2*((g1/R_w1)**2+(g2/R_w1)**2 - sigma2_e_m/R_w1**2)) / np.sum(w1**2)\n",
    "# print('sigmae_C13_w1', sigmae2_C13_w1**0.5)\n",
    "\n",
    "# sigmae2_C13_w2 = 0.5* np.sum(w2**2*((g1/R_w2)**2+(g2/R_w2)**2 - sigma2_e_m/R_w2**2)) / np.sum(w2**2)\n",
    "# print('sigmae_C13_w2', sigmae2_C13_w2**0.5)"
   ]
  },
  {
   "cell_type": "code",
   "execution_count": 52,
   "id": "0cff0bc7",
   "metadata": {},
   "outputs": [],
   "source": [
    "# neff_C13_w1 = 1./area * (np.sum(w1)**2) / (np.sum(w1**2))*(np.sum(w1**2*((g1/R_w1)**2+(g2/R_w1)**2 - sigma2_e_m/R_w1**2)))/ np.sum(w1**2*((g1/R_w1)**2+(g2/R_w1)**2))\n",
    "# print('neff_C13_w1', neff_C13_w1)\n",
    "\n",
    "# neff_C13_w2 = 1./area * (np.sum(w2)**2) / (np.sum(w2**2))*(np.sum(w2**2*((g1/R_w2)**2+(g2/R_w2)**2 - sigma2_e_m/R_w2**2)))/ np.sum(w2**2*((g1/R_w2)**2+(g2/R_w2)**2))\n",
    "# print('neff_C13_w2', neff_C13_w2)"
   ]
  },
  {
   "cell_type": "code",
   "execution_count": 53,
   "id": "281849a7",
   "metadata": {},
   "outputs": [],
   "source": [
    "neff_H12_w1 = neff_H12(w1, area)\n",
    "neff_H12_w2 = neff_H12(w2, area)\n",
    "sigmae_H12_w1 = sigmae2_H12(w1, g1, R11tot_w1, g2, R22tot_w1, neff_H12_w1, area)\n",
    "sigmae_H12_w2 = sigmae2_H12(w2, g1, R11tot_w2, g2, R22tot_w2, neff_H12_w2, area)\n",
    "\n",
    "sigmae_C13_w1 = sigmae2_C13(w1, g1, R11tot_w1, g2, R22tot_w1, sigma2_e1_m, sigma2_e2_m)\n",
    "sigmae_C13_w2 = sigmae2_C13(w2, g1, R11tot_w2, g2, R22tot_w2, sigma2_e1_m, sigma2_e2_m)\n",
    "neff_C13_w1 = neff_C13(w1, g1, R11tot_w1, g2, R22tot_w1, sigma2_e1_m, sigma2_e2_m, area)\n",
    "neff_C13_w2 = neff_C13(w2, g1, R11tot_w2, g2, R22tot_w2, sigma2_e1_m, sigma2_e2_m, area)"
   ]
  },
  {
   "cell_type": "code",
   "execution_count": 55,
   "id": "77c8e80a",
   "metadata": {},
   "outputs": [
    {
     "name": "stdout",
     "output_type": "stream",
     "text": [
      "5.535 & 0.694 & 0.034 & 0.729 & 0.695 & 0.035 & 0.730 & 5.293 & 0.264 & 5.523 & 0.270 \n"
     ]
    }
   ],
   "source": [
    "print(\"%.3f & %.3f & %.3f & %.3f & %.3f & %.3f & %.3f & %.3f & %.3f & %.3f & %.3f \" \n",
    "      % (n, R11_w1, R11s_w1, R11tot_w1, R22_w1, R22s_w1, R22tot_w1, \n",
    "         neff_C13_w1, sigmae_C13_w1, neff_H12_w1, sigmae_H12_w1) ) "
   ]
  },
  {
   "cell_type": "code",
   "execution_count": 56,
   "id": "26426fef",
   "metadata": {},
   "outputs": [
    {
     "name": "stdout",
     "output_type": "stream",
     "text": [
      "5.535 & 0.744 & 0.047 & 0.792 & 0.746 & 0.048 & 0.793 & 4.478 & 0.235 & 4.581 & 0.238 \n"
     ]
    }
   ],
   "source": [
    "print(\"%.3f & %.3f & %.3f & %.3f & %.3f & %.3f & %.3f & %.3f & %.3f & %.3f & %.3f \" \n",
    "      % (n, R11_w2, R11s_w2, R11tot_w2, R22_w2, R22s_w2, R22tot_w2, \n",
    "         neff_C13_w2, sigmae_C13_w2, neff_H12_w2, sigmae_H12_w2) ) "
   ]
  },
  {
   "cell_type": "markdown",
   "id": "1538ad08",
   "metadata": {},
   "source": [
    "Continue to do for tomo bins"
   ]
  },
  {
   "cell_type": "code",
   "execution_count": null,
   "id": "03a893e5",
   "metadata": {},
   "outputs": [],
   "source": []
  }
 ],
 "metadata": {
  "kernelspec": {
   "display_name": "Python 3",
   "language": "python",
   "name": "python3"
  },
  "language_info": {
   "codemirror_mode": {
    "name": "ipython",
    "version": 3
   },
   "file_extension": ".py",
   "mimetype": "text/x-python",
   "name": "python",
   "nbconvert_exporter": "python",
   "pygments_lexer": "ipython3",
   "version": "3.7.10"
  }
 },
 "nbformat": 4,
 "nbformat_minor": 5
}
