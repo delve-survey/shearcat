{
 "cells": [
  {
   "cell_type": "code",
   "execution_count": 1,
   "id": "7acfb809",
   "metadata": {},
   "outputs": [
    {
     "name": "stdout",
     "output_type": "stream",
     "text": [
      "Populating the interactive namespace from numpy and matplotlib\n"
     ]
    }
   ],
   "source": [
    "import sys\n",
    "sys.path.append('.conda/envs/shear/lib/python3.9/site-packages/')\n",
    "\n",
    "import numpy as np\n",
    "import astropy.io.fits as pf\n",
    "import pylab as mplot\n",
    "import yaml\n",
    "import h5py\n",
    "import healpy as hp\n",
    "\n",
    "%pylab inline"
   ]
  },
  {
   "cell_type": "code",
   "execution_count": 7,
   "id": "e5c5190e",
   "metadata": {},
   "outputs": [],
   "source": [
    "tag = '0613'\n",
    "project_dir = '/project/chihway/data/decade/'"
   ]
  },
  {
   "cell_type": "code",
   "execution_count": 8,
   "id": "9d591d86",
   "metadata": {},
   "outputs": [
    {
     "name": "stdout",
     "output_type": "stream",
     "text": [
      "<KeysViewHDF5 ['BDF_FLUX_ERR_G', 'BDF_FLUX_ERR_I', 'BDF_FLUX_ERR_R', 'BDF_FLUX_ERR_Z', 'BDF_FLUX_G', 'BDF_FLUX_I', 'BDF_FLUX_R', 'BDF_FLUX_Z', 'BDF_S2N', 'BDF_T', 'COADD_OBJECT_ID', 'DEC', 'FLAGS_FOREGROUND', 'FLUXERR_AUTO_G', 'FLUXERR_AUTO_I', 'FLUXERR_AUTO_R', 'FLUXERR_AUTO_Z', 'FLUX_AUTO_G', 'FLUX_AUTO_I', 'FLUX_AUTO_R', 'FLUX_AUTO_Z', 'FLUX_RADIUS_G', 'FLUX_RADIUS_I', 'FLUX_RADIUS_R', 'FLUX_RADIUS_Z', 'Ncutouts_raw', 'RA', 'badfrac', 'id', 'mcal_T_1m', 'mcal_T_1p', 'mcal_T_2m', 'mcal_T_2p', 'mcal_T_noshear', 'mcal_T_ratio_1m', 'mcal_T_ratio_1p', 'mcal_T_ratio_2m', 'mcal_T_ratio_2p', 'mcal_T_ratio_noshear', 'mcal_flags', 'mcal_flux_1m', 'mcal_flux_1p', 'mcal_flux_2m', 'mcal_flux_2p', 'mcal_flux_err_1m', 'mcal_flux_err_1p', 'mcal_flux_err_2m', 'mcal_flux_err_2p', 'mcal_flux_err_noshear', 'mcal_flux_noshear', 'mcal_g_1m', 'mcal_g_1p', 'mcal_g_2m', 'mcal_g_2p', 'mcal_g_cov_1m', 'mcal_g_cov_1p', 'mcal_g_cov_2m', 'mcal_g_cov_2p', 'mcal_g_cov_noshear', 'mcal_g_noshear', 'mcal_g_w', 'mcal_g_w_v2', 'mcal_psf_T_noshear', 'mcal_psf_g_noshear', 'mcal_s2n_1m', 'mcal_s2n_1p', 'mcal_s2n_2m', 'mcal_s2n_2p', 'mcal_s2n_noshear', 'sg_bdf', 'x', 'y']>\n"
     ]
    }
   ],
   "source": [
    "with h5py.File(project_dir+'metacal_gold_combined_2023'+tag+'.hdf', 'r') as h5r:\n",
    "\n",
    "    print(h5r.keys())"
   ]
  },
  {
   "cell_type": "code",
   "execution_count": 36,
   "id": "6cccd289",
   "metadata": {},
   "outputs": [
    {
     "name": "stderr",
     "output_type": "stream",
     "text": [
      "/project/chihway/yomori/repo/anaconda3/envs/cosmosis/lib/python3.7/site-packages/ipykernel_launcher.py:13: RuntimeWarning: invalid value encountered in log10\n",
      "  del sys.path[0]\n",
      "/project/chihway/yomori/repo/anaconda3/envs/cosmosis/lib/python3.7/site-packages/ipykernel_launcher.py:14: RuntimeWarning: invalid value encountered in log10\n",
      "  \n",
      "/project/chihway/yomori/repo/anaconda3/envs/cosmosis/lib/python3.7/site-packages/ipykernel_launcher.py:15: RuntimeWarning: invalid value encountered in log10\n",
      "  from ipykernel import kernelapp as app\n",
      "/project/chihway/yomori/repo/anaconda3/envs/cosmosis/lib/python3.7/site-packages/ipykernel_launcher.py:29: RuntimeWarning: invalid value encountered in log10\n"
     ]
    }
   ],
   "source": [
    "# first get mask total\n",
    "\n",
    "with h5py.File(project_dir+'metacal_gold_combined_2023'+tag+'.hdf', 'r') as h5r:\n",
    "    size_ratio = h5r['mcal_T_ratio_noshear'][:]\n",
    "    s2n = h5r['mcal_s2n_noshear'][:]\n",
    "    sg = h5r['sg_bdf'][:] \n",
    "    fg = h5r['FLAGS_FOREGROUND'][:] \n",
    "    T = h5r['mcal_T_noshear'][:]\n",
    "    mcal_flags = h5r['mcal_flags'][:]\n",
    "    g1, g2  = h5r['mcal_g_noshear'][:].T\n",
    "    flux_r, flux_i, flux_z = h5r['mcal_flux_noshear'][:].T\n",
    "\n",
    "mag_r = -2.5*np.log10(flux_r)+30\n",
    "mag_i = -2.5*np.log10(flux_i)+30\n",
    "mag_z = -2.5*np.log10(flux_z)+30\n",
    "\n",
    "# PZ mask\n",
    "mcal_pz_mask = ((mag_i < 23.5) & (mag_i > 18) & \n",
    "                    (mag_r < 26)   & (mag_r > 15) & \n",
    "                    (mag_z < 26)   & (mag_z > 15) & \n",
    "                    (mag_r - mag_i < 4)   & (mag_r - mag_i > -1.5) & \n",
    "                    (mag_i - mag_z < 4)   & (mag_i - mag_z > -1.5))\n",
    "\n",
    "# Metacal cuts based on DES Y3 ones (from here: https://des.ncsa.illinois.edu/releases/y3a2/Y3key-catalogs)\n",
    "SNR_Mask   = (s2n > 10) & (s2n < 1000)\n",
    "Tratio_Mask= size_ratio > 0.5\n",
    "T_Mask = T < 10\n",
    "Flag_Mask = (mcal_flags == 0)\n",
    "Other_Mask = np.invert((T > 2) & (s2n < 30)) & np.invert((np.log10(T) < (22.25 - mag_r)/3.5) & (g1**2 + g2**2 > 0.8**2))\n",
    "SG_Mask = (sg>=4)\n",
    "FG_Mask = (fg==0)\n",
    "\n",
    "mask_total = mcal_pz_mask & SNR_Mask & Tratio_Mask & T_Mask & Flag_Mask & Other_Mask & SG_Mask & FG_Mask\n"
   ]
  },
  {
   "cell_type": "markdown",
   "id": "4343b508",
   "metadata": {},
   "source": [
    "### get calibration"
   ]
  },
  {
   "cell_type": "code",
   "execution_count": 26,
   "id": "7535d94d",
   "metadata": {
    "scrolled": true
   },
   "outputs": [
    {
     "name": "stderr",
     "output_type": "stream",
     "text": [
      "/project/chihway/yomori/repo/anaconda3/envs/cosmosis/lib/python3.7/site-packages/ipykernel_launcher.py:13: RuntimeWarning: invalid value encountered in log10\n",
      "  del sys.path[0]\n",
      "/project/chihway/yomori/repo/anaconda3/envs/cosmosis/lib/python3.7/site-packages/ipykernel_launcher.py:14: RuntimeWarning: invalid value encountered in log10\n",
      "  \n",
      "/project/chihway/yomori/repo/anaconda3/envs/cosmosis/lib/python3.7/site-packages/ipykernel_launcher.py:15: RuntimeWarning: invalid value encountered in log10\n",
      "  from ipykernel import kernelapp as app\n",
      "/project/chihway/yomori/repo/anaconda3/envs/cosmosis/lib/python3.7/site-packages/ipykernel_launcher.py:29: RuntimeWarning: invalid value encountered in log10\n"
     ]
    }
   ],
   "source": [
    "Mask = {}\n",
    "for shear_type in ['noshear', '1p', '1m', '2p', '2m']: \n",
    "    with h5py.File(project_dir+'metacal_gold_combined_2023'+tag+'.hdf', 'r') as h5r:\n",
    "        sg = h5r['sg_bdf'][:] \n",
    "        fg = h5r['FLAGS_FOREGROUND'][:] \n",
    "        T = h5r['mcal_T_'+shear_type][:]\n",
    "        s2n = h5r['mcal_s2n_'+shear_type][:]\n",
    "        size_ratio = h5r['mcal_T_ratio_'+shear_type][:]\n",
    "        mcal_flags = h5r['mcal_flags'][:]\n",
    "        flux_r, flux_i, flux_z = h5r['mcal_flux_'+shear_type][:].T\n",
    "        g1, g2  = h5r['mcal_g_'+shear_type][:].T\n",
    "        \n",
    "    mag_r = -2.5*np.log10(flux_r)+30\n",
    "    mag_i = -2.5*np.log10(flux_i)+30\n",
    "    mag_z = -2.5*np.log10(flux_z)+30\n",
    "\n",
    "    # PZ mask\n",
    "    mcal_pz_mask = ((mag_i < 23.5) & (mag_i > 18) & \n",
    "                        (mag_r < 26)   & (mag_r > 15) & \n",
    "                        (mag_z < 26)   & (mag_z > 15) & \n",
    "                        (mag_r - mag_i < 4)   & (mag_r - mag_i > -1.5) & \n",
    "                        (mag_i - mag_z < 4)   & (mag_i - mag_z > -1.5))\n",
    "\n",
    "    # Metacal cuts based on DES Y3 ones (from here: https://des.ncsa.illinois.edu/releases/y3a2/Y3key-catalogs)\n",
    "    SNR_Mask   = (s2n > 10) & (s2n < 1000)\n",
    "    Tratio_Mask= size_ratio > 0.5\n",
    "    T_Mask = T < 10\n",
    "    Flag_Mask = (mcal_flags == 0)\n",
    "    Other_Mask = np.invert((T > 2) & (s2n < 30)) & np.invert((np.log10(T) < (22.25 - mag_r)/3.5) & (g1**2 + g2**2 > 0.8**2))\n",
    "    SG_Mask = (sg>=4)\n",
    "    FG_Mask = (fg==0)\n",
    "\n",
    "    mask_total_X = mcal_pz_mask & SNR_Mask & Tratio_Mask & T_Mask & Flag_Mask & Other_Mask & SG_Mask & FG_Mask\n",
    "    \n",
    "    Mask[shear_type] = mask_total_X\n",
    "    del T\n",
    "    del s2n\n",
    "    del size_ratio\n",
    "    del sg\n",
    "    del fg\n",
    "    del flux_r, flux_i, flux_z\n",
    "    del mag_r, mag_i, mag_z"
   ]
  },
  {
   "cell_type": "code",
   "execution_count": 27,
   "id": "5d1b1249",
   "metadata": {},
   "outputs": [],
   "source": [
    "def weight_average(values, weights):\n",
    "    return np.sum(values*weights)/np.sum(weights)"
   ]
  },
  {
   "cell_type": "code",
   "execution_count": 28,
   "id": "749d805b",
   "metadata": {},
   "outputs": [
    {
     "name": "stdout",
     "output_type": "stream",
     "text": [
      "R11 0.6944438564705219 R11s 0.034199649879673374\n",
      "R22 0.695467425003138 R22s 0.034768233522071375\n",
      "R11tot 0.7286435063501953 R22tot 0.7302356585252093\n"
     ]
    }
   ],
   "source": [
    "dgamma = 2*0.01\n",
    "with h5py.File(project_dir+'metacal_gold_combined_2023'+tag+'.hdf', 'r') as h5r:\n",
    "\n",
    "    R11_w1 =  (weight_average(h5r['mcal_g_1p'][:,0][Mask['noshear']],h5r['mcal_g_w'][Mask['noshear']]) - weight_average(h5r['mcal_g_1m'][:,0][Mask['noshear']], h5r['mcal_g_w'][Mask['noshear']]))/dgamma\n",
    "    R11s_w1 = (weight_average(h5r['mcal_g_noshear'][:,0][Mask['1p']], h5r['mcal_g_w'][Mask['1p']]) - weight_average(h5r['mcal_g_noshear'][:,0][Mask['1m']], h5r['mcal_g_w'][Mask['1m']]))/dgamma\n",
    "    R22_w1 =  (weight_average(h5r['mcal_g_2p'][:,1][Mask['noshear']], h5r['mcal_g_w'][Mask['noshear']]) - weight_average(h5r['mcal_g_2m'][:,1][Mask['noshear']], h5r['mcal_g_w'][Mask['noshear']]))/dgamma\n",
    "    R22s_w1 = (weight_average(h5r['mcal_g_noshear'][:,1][Mask['2p']], h5r['mcal_g_w'][Mask['2p']]) - weight_average(h5r['mcal_g_noshear'][:,1][Mask['2m']], h5r['mcal_g_w'][Mask['2m']]))/dgamma\n",
    "    R11tot_w1 = R11_w1+R11s_w1\n",
    "    R22tot_w1 = R22_w1+R22s_w1\n",
    "    \n",
    "    print('R11', R11_w1, 'R11s', R11s_w1)\n",
    "    print('R22', R22_w1, 'R22s', R22s_w1)\n",
    "    print('R11tot', R11tot_w1, 'R22tot', R22tot_w1)"
   ]
  },
  {
   "cell_type": "code",
   "execution_count": 32,
   "id": "d2be0cfa",
   "metadata": {},
   "outputs": [
    {
     "name": "stdout",
     "output_type": "stream",
     "text": [
      "0.7294395824377022\n"
     ]
    }
   ],
   "source": [
    "R_w1 = 0.5*(R11tot_w1+R22tot_w1)\n",
    "print(R_w1)"
   ]
  },
  {
   "cell_type": "code",
   "execution_count": 29,
   "id": "20f3dcdd",
   "metadata": {},
   "outputs": [
    {
     "name": "stdout",
     "output_type": "stream",
     "text": [
      "R11 0.7443824304923087 R11s 0.047189013967600654\n",
      "R22 0.7455737932558067 R22s 0.04767254335307269\n",
      "R11tot 0.7915714444599093 R22tot 0.7932463366088794\n"
     ]
    }
   ],
   "source": [
    "with h5py.File(project_dir+'metacal_gold_combined_2023'+tag+'.hdf', 'r') as h5r:\n",
    "    R11_w2 =  (weight_average(h5r['mcal_g_1p'][:,0][Mask['noshear']], h5r['mcal_g_w_v2'][Mask['noshear']]) - weight_average(h5r['mcal_g_1m'][:,0][Mask['noshear']], h5r['mcal_g_w_v2'][Mask['noshear']]))/dgamma\n",
    "    R11s_w2 = (weight_average(h5r['mcal_g_noshear'][:,0][Mask['1p']], h5r['mcal_g_w_v2'][Mask['1p']]) - weight_average(h5r['mcal_g_noshear'][:,0][Mask['1m']], h5r['mcal_g_w_v2'][Mask['1m']]))/dgamma\n",
    "    R22_w2 =  (weight_average(h5r['mcal_g_2p'][:,1][Mask['noshear']], h5r['mcal_g_w_v2'][Mask['noshear']]) - weight_average(h5r['mcal_g_2m'][:,1][Mask['noshear']], h5r['mcal_g_w_v2'][Mask['noshear']]))/dgamma\n",
    "    R22s_w2 = (weight_average(h5r['mcal_g_noshear'][:,1][Mask['2p']], h5r['mcal_g_w_v2'][Mask['2p']]) - weight_average(h5r['mcal_g_noshear'][:,1][Mask['2m']], h5r['mcal_g_w_v2'][Mask['2m']]))/dgamma\n",
    "    R11tot_w2 = R11_w2+R11s_w2\n",
    "    R22tot_w2 = R22_w2+R22s_w2\n",
    "    \n",
    "    print('R11', R11_w2, 'R11s', R11s_w2)\n",
    "    print('R22', R22_w2, 'R22s', R22s_w2)\n",
    "    print('R11tot', R11tot_w2, 'R22tot', R22tot_w2)\n"
   ]
  },
  {
   "cell_type": "code",
   "execution_count": 33,
   "id": "720af78b",
   "metadata": {},
   "outputs": [
    {
     "name": "stdout",
     "output_type": "stream",
     "text": [
      "0.7924088905343945\n"
     ]
    }
   ],
   "source": [
    "R_w2 = 0.5*(R11tot_w2+R22tot_w2)\n",
    "print(R_w2)"
   ]
  },
  {
   "cell_type": "markdown",
   "id": "ca58b40a",
   "metadata": {},
   "source": [
    "### get area"
   ]
  },
  {
   "cell_type": "code",
   "execution_count": 38,
   "id": "a923d5e9",
   "metadata": {},
   "outputs": [],
   "source": [
    "with h5py.File(project_dir+'metacal_gold_combined_2023'+tag+'.hdf', 'r') as h5r:\n",
    "    ra = h5r['RA'][mask_total]\n",
    "    dec = h5r['DEC'][mask_total]\n",
    "    g1, g2  = h5r['mcal_g_noshear'][:][mask_total].T\n",
    "    w1 = h5r['mcal_g_w'][mask_total]\n",
    "    w2= h5r['mcal_g_w_v2'][mask_total]"
   ]
  },
  {
   "cell_type": "code",
   "execution_count": 39,
   "id": "f7338c00",
   "metadata": {},
   "outputs": [],
   "source": [
    "nside = 4096\n",
    "map_counts = np.zeros(hp.nside2npix(nside))\n",
    "\n",
    "phi = ra/180*np.pi\n",
    "theta = (90.-dec)/180*np.pi\n",
    "\n",
    "pix = hp.ang2pix(nside, theta, phi)"
   ]
  },
  {
   "cell_type": "code",
   "execution_count": 40,
   "id": "2c4ff6d6",
   "metadata": {},
   "outputs": [],
   "source": [
    "for i in range(len(pix)):\n",
    "    map_counts[pix[i]] += 1"
   ]
  },
  {
   "cell_type": "code",
   "execution_count": 41,
   "id": "b41657bc",
   "metadata": {},
   "outputs": [
    {
     "name": "stdout",
     "output_type": "stream",
     "text": [
      "area 2376.3284069720044 deg^2\n"
     ]
    }
   ],
   "source": [
    "area = len(map_counts[map_counts>0])/len(map_counts)*4*np.pi*(180./np.pi)**2*60*60\n",
    "print('area', area/60/60, 'deg^2')"
   ]
  },
  {
   "cell_type": "code",
   "execution_count": 45,
   "id": "5de9c7bc",
   "metadata": {},
   "outputs": [
    {
     "name": "stdout",
     "output_type": "stream",
     "text": [
      "5.534827367047062\n"
     ]
    }
   ],
   "source": [
    "# raw number\n",
    "print(len(ra)/area)"
   ]
  },
  {
   "cell_type": "markdown",
   "id": "6bf80100",
   "metadata": {},
   "source": [
    "### H12 neff and sigmae"
   ]
  },
  {
   "cell_type": "code",
   "execution_count": 42,
   "id": "f91a78c8",
   "metadata": {},
   "outputs": [
    {
     "name": "stdout",
     "output_type": "stream",
     "text": [
      "neff_H12_w1 5.522793378869633\n",
      "neff_H12_w2 4.5813679430333405\n"
     ]
    }
   ],
   "source": [
    "neff_H12_w1 = 1./area * (np.sum(w1)**2) / (np.sum(w1**2))\n",
    "print('neff_H12_w1', neff_H12_w1)\n",
    "\n",
    "neff_H12_w2 = 1./area * (np.sum(w2)**2) / (np.sum(w2**2))\n",
    "print('neff_H12_w2', neff_H12_w2)"
   ]
  },
  {
   "cell_type": "code",
   "execution_count": 43,
   "id": "c50404e8",
   "metadata": {},
   "outputs": [
    {
     "name": "stdout",
     "output_type": "stream",
     "text": [
      "sigmae_H12_w1 0.27015235124431114\n",
      "sigmae_H12_w2 0.2376053038749086\n"
     ]
    }
   ],
   "source": [
    "sigmae2_H12_w1 = 0.5*((np.sum(w1**2*(g1/R_w1)**2)/(np.sum(w1))**2)+(np.sum(w1**2*(g2/R_w1)**2)/(np.sum(w1))**2))*(area*neff_H12_w1)\n",
    "print('sigmae_H12_w1', sigmae2_H12_w1**0.5)\n",
    "\n",
    "sigmae2_H12_w2 = 0.5*((np.sum(w2**2*(g1/R_w2)**2)/(np.sum(w2))**2)+(np.sum(w2**2*(g2/R_w2)**2)/(np.sum(w2))**2))*(area*neff_H12_w2)\n",
    "print('sigmae_H12_w2', sigmae2_H12_w2**0.5)"
   ]
  },
  {
   "cell_type": "code",
   "execution_count": null,
   "id": "c4c34f37",
   "metadata": {},
   "outputs": [],
   "source": []
  },
  {
   "cell_type": "markdown",
   "id": "808623f1",
   "metadata": {},
   "source": [
    "### C13 neff and sigmae"
   ]
  },
  {
   "cell_type": "code",
   "execution_count": 46,
   "id": "647d98e3",
   "metadata": {},
   "outputs": [],
   "source": [
    "with h5py.File(project_dir+'metacal_gold_combined_2023'+tag+'.hdf', 'r') as h5r:\n",
    "    mcal_g_cov = h5r['mcal_g_cov_noshear'][:][mask_total]"
   ]
  },
  {
   "cell_type": "code",
   "execution_count": 47,
   "id": "a3b917b1",
   "metadata": {},
   "outputs": [
    {
     "data": {
      "text/plain": [
       "(47349243, 2, 2)"
      ]
     },
     "execution_count": 47,
     "metadata": {},
     "output_type": "execute_result"
    }
   ],
   "source": [
    "mcal_g_cov.shape"
   ]
  },
  {
   "cell_type": "code",
   "execution_count": 48,
   "id": "ad09a974",
   "metadata": {},
   "outputs": [
    {
     "name": "stdout",
     "output_type": "stream",
     "text": [
      "[0.00025132 0.00111886 0.00081327 ... 0.00076986 0.00096072 0.00839997]\n"
     ]
    }
   ],
   "source": [
    "sigma2_e_m = (mcal_g_cov[:,0,0] + mcal_g_cov[:,1,1])\n",
    "print(sigma2_e_m)"
   ]
  },
  {
   "cell_type": "code",
   "execution_count": 49,
   "id": "4cfcdbb6",
   "metadata": {},
   "outputs": [
    {
     "name": "stdout",
     "output_type": "stream",
     "text": [
      "sigmae_C13_w1 0.26448271637393356\n",
      "sigmae_C13_w2 0.23491319200660665\n"
     ]
    }
   ],
   "source": [
    "sigmae2_C13_w1 = 0.5* np.sum(w1**2*((g1/R_w1)**2+(g2/R_w1)**2 - sigma2_e_m/R_w1**2)) / np.sum(w1**2)\n",
    "print('sigmae_C13_w1', sigmae2_C13_w1**0.5)\n",
    "\n",
    "sigmae2_C13_w2 = 0.5* np.sum(w2**2*((g1/R_w2)**2+(g2/R_w2)**2 - sigma2_e_m/R_w2**2)) / np.sum(w2**2)\n",
    "print('sigmae_C13_w2', sigmae2_C13_w2**0.5)"
   ]
  },
  {
   "cell_type": "code",
   "execution_count": 51,
   "id": "aad39dce",
   "metadata": {},
   "outputs": [
    {
     "name": "stdout",
     "output_type": "stream",
     "text": [
      "neff_C13_w1 5.293414289453894\n",
      "neff_C13_w2 4.478140581630089\n"
     ]
    }
   ],
   "source": [
    "neff_C13_w1 = 1./area * (np.sum(w1)**2) / (np.sum(w1**2))*(np.sum(w1**2*((g1/R_w1)**2+(g2/R_w1)**2 - sigma2_e_m/R_w1**2)))/ np.sum(w1**2*((g1/R_w1)**2+(g2/R_w1)**2))\n",
    "print('neff_C13_w1', neff_C13_w1)\n",
    "\n",
    "neff_C13_w2 = 1./area * (np.sum(w2)**2) / (np.sum(w2**2))*(np.sum(w2**2*((g1/R_w2)**2+(g2/R_w2)**2 - sigma2_e_m/R_w2**2)))/ np.sum(w2**2*((g1/R_w2)**2+(g2/R_w2)**2))\n",
    "print('neff_C13_w2', neff_C13_w2)"
   ]
  },
  {
   "cell_type": "code",
   "execution_count": null,
   "id": "dfe21fc0",
   "metadata": {},
   "outputs": [],
   "source": []
  }
 ],
 "metadata": {
  "kernelspec": {
   "display_name": "Python 3",
   "language": "python",
   "name": "python3"
  },
  "language_info": {
   "codemirror_mode": {
    "name": "ipython",
    "version": 3
   },
   "file_extension": ".py",
   "mimetype": "text/x-python",
   "name": "python",
   "nbconvert_exporter": "python",
   "pygments_lexer": "ipython3",
   "version": "3.7.10"
  }
 },
 "nbformat": 4,
 "nbformat_minor": 5
}
