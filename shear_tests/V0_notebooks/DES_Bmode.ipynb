{
 "cells": [
  {
   "cell_type": "code",
   "execution_count": 1,
   "id": "0e1b4be5",
   "metadata": {
    "tags": []
   },
   "outputs": [],
   "source": [
    "import numpy as np\n",
    "import fitsio\n",
    "import matplotlib.pyplot as plt\n",
    "import h5py\n",
    "from scipy import interpolate\n",
    "import os\n",
    "import tqdm\n",
    "import scipy.optimize\n",
    "import healpy as hp\n",
    "# sys.path.append('/home/zhuoqizhang/miniconda3/envs/shearDM/lib/python3.10/site-packages/')\n",
    "import pymaster as nmt\n",
    "import os\n",
    "nside = 1024\n",
    "npix = hp.nside2npix(nside)"
   ]
  },
  {
   "cell_type": "code",
   "execution_count": 2,
   "id": "00af18d4",
   "metadata": {
    "tags": []
   },
   "outputs": [],
   "source": [
    "def rotate_ellipticities(e1, e2, rot_angle):\n",
    "        \"\"\"\n",
    "        Random rotate ellipticities e1 and e2 over\n",
    "        angles given in `rot_angle`, which is in\n",
    "        units of radians\n",
    "        \"\"\"\n",
    "\n",
    "        #Rotate galaxy shapes randomly\n",
    "        cos = np.cos(rot_angle)\n",
    "        sin = np.sin(rot_angle)\n",
    "\n",
    "        e1_rand = + e1 * cos + e2 * sin\n",
    "        e2_rand = - e1 * sin + e2 * cos\n",
    "\n",
    "        return e1_rand, e2_rand"
   ]
  },
  {
   "cell_type": "code",
   "execution_count": 3,
   "id": "4fd449b1-3ce3-449d-a75f-ccd3fd3ab68e",
   "metadata": {
    "tags": []
   },
   "outputs": [
    {
     "name": "stderr",
     "output_type": "stream",
     "text": [
      "/tmp/ipykernel_1272793/1036733914.py:20: RuntimeWarning: invalid value encountered in true_divide\n",
      "  map_e1 += np.bincount(pix,e1*weight,minlength=npix)/map_weight\n",
      "/tmp/ipykernel_1272793/1036733914.py:21: RuntimeWarning: invalid value encountered in true_divide\n",
      "  map_e2 += np.bincount(pix,e2*weight,minlength=npix)/map_weight\n"
     ]
    }
   ],
   "source": [
    "fname = 'DESY3_MetacalCat_Mask_All.npy'\n",
    "N=50\n",
    "\n",
    "data_array = np.load(fname)\n",
    "e1 = data_array['e1']\n",
    "e2 = -data_array['e2']\n",
    "ra = data_array['ra']\n",
    "dec = data_array['dec']\n",
    "weight = data_array['w']\n",
    "\n",
    "\n",
    "pix = hp.nside2npix(nside)\n",
    "map_counts = np.zeros(npix)\n",
    "map_e1 = np.zeros(npix)\n",
    "map_e2 = np.zeros(npix)\n",
    "pix = hp.ang2pix(nside, ra, dec, lonlat=True)\n",
    "ind, counts = np.unique(pix, return_counts=True)\n",
    "map_weight = np.bincount(pix, weight, minlength=npix)\n",
    "# Note that we set response to 1. This shouldn't change the relative amplitude of C_ell\n",
    "map_e1 += np.bincount(pix,e1*weight,minlength=npix)/map_weight\n",
    "map_e2 += np.bincount(pix,e2*weight,minlength=npix)/map_weight\n",
    "map_e1[np.isnan(map_e1)] = 0\n",
    "map_e2[np.isnan(map_e2)] = 0\n",
    "mask = map_weight\n",
    "\n",
    "\n",
    "edge = (np.linspace(np.sqrt(8), np.sqrt(2048), 33)**2).astype(np.int_)\n",
    "b = nmt.NmtBin.from_edges(edge[:-1],edge[1:])\n",
    "ell_eff = b.get_effective_ells()\n",
    "f2 = nmt.NmtField(mask, [map_e1, map_e2])"
   ]
  },
  {
   "cell_type": "code",
   "execution_count": 4,
   "id": "9ba2f5f6-0aba-4839-bb4c-c6ff58114c7f",
   "metadata": {
    "tags": []
   },
   "outputs": [],
   "source": [
    "w = nmt.NmtWorkspace()\n",
    "w.compute_coupling_matrix(f2, f2, b)\n",
    "cl_coupled = nmt.compute_coupled_cell(f2, f2)\n",
    "cl_decoupled = w.decouple_cell(cl_coupled)"
   ]
  },
  {
   "cell_type": "code",
   "execution_count": 5,
   "id": "c6799318-e42e-4c7e-9a62-96f1208470ba",
   "metadata": {
    "tags": []
   },
   "outputs": [
    {
     "name": "stderr",
     "output_type": "stream",
     "text": [
      "100%|██████████| 50/50 [33:57<00:00, 40.76s/it]\n"
     ]
    },
    {
     "data": {
      "image/png": "[encoded data removed]",
      "text/plain": [
       "<Figure size 432x288 with 1 Axes>"
      ]
     },
     "metadata": {
      "needs_background": "light"
     },
     "output_type": "display_data"
    }
   ],
   "source": [
    "#np.save(f'/project2/chihway/jackie/decade/Bmode-DES/Cl_{fname[17:]}', cl_decoupled)\n",
    "\n",
    "\n",
    "footprint = mask!=0\n",
    "BB_rand = []\n",
    "\n",
    "for j in tqdm.trange(N): \n",
    "\n",
    "    # generate random_samples\n",
    "    pix = hp.ang2pix(nside, ra, dec, lonlat=True)\n",
    "    rot_angle = np.random.default_rng(j).random(e1.size)*2*np.pi\n",
    "    e1_rot, e2_rot = rotate_ellipticities(e1, e2, rot_angle)\n",
    "\n",
    "    rand_e1 = np.zeros(npix)\n",
    "    rand_e2 = np.zeros(npix)\n",
    "    rand_e1[footprint] = np.bincount(pix,e1_rot*weight,minlength=npix)[footprint]/map_weight[footprint]\n",
    "    rand_e2[footprint] = np.bincount(pix,e2_rot*weight,minlength=npix)[footprint]/map_weight[footprint]\n",
    "    frand = nmt.NmtField(mask, [rand_e1, rand_e2])\n",
    "    BB_rand.append(w.decouple_cell(nmt.compute_coupled_cell(frand, frand)))\n",
    "\n",
    "BB_rand = np.array(BB_rand)   \n",
    "#np.save(f'/project2/chihway/jackie/decade/Bmode-DES/rand_{fname[17:]}', BB_rand)\n",
    "\n",
    "\n",
    "mean = np.mean(BB_rand[:,3,1:],axis=0)\n",
    "std = np.std(BB_rand[:,3,1:],axis=0)\n",
    "plt.errorbar(np.sqrt(ell_eff[1:]), 1e8*ell_eff[1:]*(cl_decoupled[3][1:]-mean), yerr=1e8*ell_eff[1:]*std,label='measured',fmt='.b')\n",
    "plt.plot(np.sqrt(ell_eff[1:]), 0*mean, color='tab:orange',label='radom mean')\n",
    "plt.legend()\n",
    "plt.xlabel(r'$\\sqrt{\\ell}$')\n",
    "plt.ylabel(r'$\\ell\\times C_\\ell^{BB}$')\n",
    "plt.title(fname[17:-4])\n",
    "plt.show()"
   ]
  },
  {
   "cell_type": "code",
   "execution_count": 6,
   "id": "dbf6826b-c401-42b0-b490-ac77e6f67d93",
   "metadata": {
    "tags": []
   },
   "outputs": [
    {
     "data": {
      "text/plain": [
       "40.12651431184128"
      ]
     },
     "execution_count": 6,
     "metadata": {},
     "output_type": "execute_result"
    }
   ],
   "source": [
    "np.sum((cl_decoupled[3][1:]-mean)**2/std**2)"
   ]
  },
  {
   "cell_type": "code",
   "execution_count": null,
   "id": "3c33ce70",
   "metadata": {},
   "outputs": [],
   "source": []
  }
 ],
 "metadata": {
  "kernelspec": {
   "display_name": "My-Conda-Env",
   "language": "python",
   "name": "my-conda-env"
  },
  "language_info": {
   "codemirror_mode": {
    "name": "ipython",
    "version": 3
   },
   "file_extension": ".py",
   "mimetype": "text/x-python",
   "name": "python",
   "nbconvert_exporter": "python",
   "pygments_lexer": "ipython3",
   "version": "3.8.5"
  }
 },
 "nbformat": 4,
 "nbformat_minor": 5
}
