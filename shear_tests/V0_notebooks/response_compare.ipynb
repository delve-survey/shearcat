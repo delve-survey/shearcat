{
 "cells": [
  {
   "cell_type": "code",
   "execution_count": 1,
   "id": "93271622",
   "metadata": {},
   "outputs": [],
   "source": [
    "import numpy as np\n",
    "import fitsio\n",
    "import matplotlib.pyplot as plt\n",
    "import h5py\n",
    "from scipy import interpolate\n",
    "import os\n",
    "from astropy.table import Table, hstack\n",
    "from astropy.io import fits\n",
    "import tqdm\n",
    "import scipy.optimize\n",
    "from astropy.table import Table, vstack"
   ]
  },
  {
   "cell_type": "code",
   "execution_count": 2,
   "id": "a9cd41cb",
   "metadata": {},
   "outputs": [],
   "source": [
    "dpi = 150\n",
    "plt.rcParams['figure.dpi']= dpi\n",
    "plt.rc(\"savefig\", dpi=dpi)\n",
    "plt.rc('font', size=10)\n",
    "plt.rc('xtick', direction='in') \n",
    "plt.rc('ytick', direction='in')\n",
    "plt.rc('xtick.major', pad=5) \n",
    "plt.rc('xtick.minor', pad=5)\n",
    "plt.rc('ytick.major', pad=5) \n",
    "plt.rc('ytick.minor', pad=5)\n",
    "plt.rcParams['lines.linewidth'] = 1\n",
    "plt.rcParams['lines.markersize'] = 3\n",
    "plt.rc('lines', dotted_pattern = [2., 2.])"
   ]
  },
  {
   "cell_type": "code",
   "execution_count": 3,
   "id": "3a2ff63a",
   "metadata": {},
   "outputs": [],
   "source": [
    "def mask_default(cat):\n",
    "    mask0_default = (~((cat['mcal_T_noshear'][:]>2)*(cat['mcal_s2n_noshear'][:]<30)))*(cat['mcal_T_noshear'][:]<10)*(cat['mcal_s2n_noshear'][:]<1000)*(cat['mcal_s2n_noshear'][:]>10)*(cat['mcal_T_ratio_noshear'][:]>0.5)\n",
    "    mask_1p_default = (~((cat['mcal_T_1p'][:]>2)*(cat['mcal_s2n_1p'][:]<30)))*(cat['mcal_T_1p'][:]<10)*(cat['mcal_s2n_1p'][:]<1000)*(cat['mcal_s2n_1p'][:]>10)*(cat['mcal_T_ratio_1p'][:]>0.5)\n",
    "    mask_1m_default = (~((cat['mcal_T_1m'][:]>2)*(cat['mcal_s2n_1m'][:]<30)))*(cat['mcal_T_1m'][:]<10)*(cat['mcal_s2n_1m'][:]<1000)*(cat['mcal_s2n_1m'][:]>10)*(cat['mcal_T_ratio_1m'][:]>0.5)\n",
    "    mask_2p_default = (~((cat['mcal_T_2p'][:]>2)*(cat['mcal_s2n_2p'][:]<30)))*(cat['mcal_T_2p'][:]<10)*(cat['mcal_s2n_2p'][:]<1000)*(cat['mcal_s2n_2p'][:]>10)*(cat['mcal_T_ratio_2p'][:]>0.5)\n",
    "    mask_2m_default = (~((cat['mcal_T_2m'][:]>2)*(cat['mcal_s2n_2m'][:]<30)))*(cat['mcal_T_2m'][:]<10)*(cat['mcal_s2n_2m'][:]<1000)*(cat['mcal_s2n_2m'][:]>10)*(cat['mcal_T_ratio_2m'][:]>0.5)\n",
    "\n",
    "    return mask0_default, mask_1p_default, mask_1m_default, mask_2p_default, mask_2m_default"
   ]
  },
  {
   "cell_type": "code",
   "execution_count": 5,
   "id": "a29b3895",
   "metadata": {},
   "outputs": [
    {
     "name": "stdout",
     "output_type": "stream",
     "text": [
      "<KeysViewHDF5 ['Ncutouts_raw', 'badfrac', 'ccdnum', 'dec', 'id', 'mcal_T_1m', 'mcal_T_1p', 'mcal_T_2m', 'mcal_T_2p', 'mcal_T_noshear', 'mcal_T_ratio_1m', 'mcal_T_ratio_1p', 'mcal_T_ratio_2m', 'mcal_T_ratio_2p', 'mcal_T_ratio_noshear', 'mcal_flags', 'mcal_flux_1m', 'mcal_flux_1p', 'mcal_flux_2m', 'mcal_flux_2p', 'mcal_flux_err_1m', 'mcal_flux_err_1p', 'mcal_flux_err_2m', 'mcal_flux_err_2p', 'mcal_flux_err_noshear', 'mcal_flux_noshear', 'mcal_g_1m', 'mcal_g_1p', 'mcal_g_2m', 'mcal_g_2p', 'mcal_g_cov_1m', 'mcal_g_cov_1p', 'mcal_g_cov_2m', 'mcal_g_cov_2p', 'mcal_g_cov_noshear', 'mcal_g_noshear', 'mcal_psf_T_noshear', 'mcal_psf_g_noshear', 'mcal_s2n_1m', 'mcal_s2n_1p', 'mcal_s2n_2m', 'mcal_s2n_2p', 'mcal_s2n_noshear', 'ra', 'x', 'x_exp', 'y', 'y_exp']>\n",
      "107820171\n"
     ]
    }
   ],
   "source": [
    "with h5py.File('/project2/chihway/data/decade/metacal_test_20230323.hdf', 'r') as cat: \n",
    "    print(cat.keys())\n",
    "    length = len(cat['ra'])\n",
    "    print(length)"
   ]
  },
  {
   "cell_type": "code",
   "execution_count": null,
   "id": "c076ec66",
   "metadata": {},
   "outputs": [],
   "source": []
  },
  {
   "cell_type": "code",
   "execution_count": 7,
   "id": "d0ee38cf",
   "metadata": {},
   "outputs": [
    {
     "name": "stderr",
     "output_type": "stream",
     "text": [
      "100%|███████████████████████████████████████████████████████████████████████████████| 108/108 [1:21:16<00:00, 45.15s/it]\n"
     ]
    }
   ],
   "source": [
    "million = 1000000\n",
    "dgamma = 2*0.01\n",
    "n_iter = int(np.ceil(length/million))\n",
    "\n",
    "R11i_1p_sum = 0\n",
    "R11i_1m_sum = 0\n",
    "R22i_2p_sum = 0\n",
    "R22i_2m_sum = 0\n",
    "\n",
    "R11s_1p_sum = 0\n",
    "R11s_1m_sum = 0\n",
    "R22s_2p_sum = 0\n",
    "R22s_2m_sum = 0\n",
    "\n",
    "R11_1p_sum = 0\n",
    "R11_1m_sum = 0\n",
    "R22_2p_sum = 0\n",
    "R22_2m_sum = 0\n",
    "\n",
    "mask0_count = 0\n",
    "mask_1p_count = 0\n",
    "mask_1m_count = 0\n",
    "mask_2p_count = 0\n",
    "mask_2m_count = 0\n",
    "\n",
    "with h5py.File('/project2/chihway/data/decade/metacal_test_20230323.hdf', 'r') as cat: \n",
    "    for i in tqdm.trange(0,n_iter): \n",
    "        mcal_T_noshear = np.array(cat['mcal_T_noshear'][i*million:(i+1)*million])\n",
    "        mcal_T_1p = np.array(cat['mcal_T_1p'][i*million:(i+1)*million])\n",
    "        mcal_T_1m = np.array(cat['mcal_T_1m'][i*million:(i+1)*million])\n",
    "        mcal_T_2p = np.array(cat['mcal_T_2p'][i*million:(i+1)*million])\n",
    "        mcal_T_2m = np.array(cat['mcal_T_2m'][i*million:(i+1)*million])\n",
    "\n",
    "        mcal_T_ratio_noshear = np.array(cat['mcal_T_ratio_noshear'][i*million:(i+1)*million])\n",
    "        mcal_T_ratio_1p = np.array(cat['mcal_T_ratio_1p'][i*million:(i+1)*million])\n",
    "        mcal_T_ratio_1m = np.array(cat['mcal_T_ratio_1m'][i*million:(i+1)*million])\n",
    "        mcal_T_ratio_2p = np.array(cat['mcal_T_ratio_2p'][i*million:(i+1)*million])\n",
    "        mcal_T_ratio_2m = np.array(cat['mcal_T_ratio_2m'][i*million:(i+1)*million])\n",
    "\n",
    "        mcal_s2n_noshear = np.array(cat['mcal_s2n_noshear'][i*million:(i+1)*million])\n",
    "        mcal_s2n_1p = np.array(cat['mcal_s2n_1p'][i*million:(i+1)*million])\n",
    "        mcal_s2n_1m = np.array(cat['mcal_s2n_1m'][i*million:(i+1)*million])\n",
    "        mcal_s2n_2p = np.array(cat['mcal_s2n_2p'][i*million:(i+1)*million])\n",
    "        mcal_s2n_2m = np.array(cat['mcal_s2n_2m'][i*million:(i+1)*million])\n",
    "\n",
    "        mcal_g_noshear = np.array(cat['mcal_g_noshear'][i*million:(i+1)*million])\n",
    "        mcal_g_1p = np.array(cat['mcal_g_1p'][i*million:(i+1)*million])\n",
    "        mcal_g_1m = np.array(cat['mcal_g_1m'][i*million:(i+1)*million])\n",
    "        mcal_g_2p = np.array(cat['mcal_g_2p'][i*million:(i+1)*million])\n",
    "        mcal_g_2m = np.array(cat['mcal_g_2m'][i*million:(i+1)*million])\n",
    "\n",
    "        mask0 = (~((mcal_T_noshear>2)*(mcal_s2n_noshear<30)))*(mcal_T_noshear<10)*(mcal_s2n_noshear<1000)*(mcal_s2n_noshear>10)*(mcal_T_ratio_noshear>0.5)\n",
    "        mask_1p = (~((mcal_T_1p>2)*(mcal_s2n_1p<30)))*(mcal_T_1p<10)*(mcal_s2n_1p<1000)*(mcal_s2n_1p>10)*(mcal_T_ratio_1p>0.5)\n",
    "        mask_1m = (~((mcal_T_1m>2)*(mcal_s2n_1m<30)))*(mcal_T_1m<10)*(mcal_s2n_1m<1000)*(mcal_s2n_1m>10)*(mcal_T_ratio_1m>0.5)\n",
    "        mask_2p = (~((mcal_T_2p>2)*(mcal_s2n_2p<30)))*(mcal_T_2p<10)*(mcal_s2n_2p<1000)*(mcal_s2n_2p>10)*(mcal_T_ratio_2p>0.5)\n",
    "        mask_2m = (~((mcal_T_2m>2)*(mcal_s2n_2m<30)))*(mcal_T_2m<10)*(mcal_s2n_2m<1000)*(mcal_s2n_2m>10)*(mcal_T_ratio_2m>0.5)\n",
    "\n",
    "        R11i_1p_sum += np.sum(mcal_g_1p[:,0][mask0])\n",
    "        R11i_1m_sum += np.sum(mcal_g_1m[:,0][mask0])\n",
    "        R22i_2p_sum += np.sum(mcal_g_2p[:,1][mask0])\n",
    "        R22i_2m_sum += np.sum(mcal_g_2m[:,1][mask0])\n",
    "\n",
    "        R11s_1p_sum += np.sum(mcal_g_noshear[:,0][mask_1p])\n",
    "        R11s_1m_sum += np.sum(mcal_g_noshear[:,0][mask_1m])\n",
    "        R22s_2p_sum += np.sum(mcal_g_noshear[:,1][mask_2p])\n",
    "        R22s_2m_sum += np.sum(mcal_g_noshear[:,1][mask_2m])\n",
    "\n",
    "        R11_1p_sum += np.sum(mcal_g_1p[:,0][mask_1p])\n",
    "        R11_1m_sum += np.sum(mcal_g_1m[:,0][mask_1m])\n",
    "        R22_2p_sum += np.sum(mcal_g_2p[:,1][mask_2p])\n",
    "        R22_2m_sum += np.sum(mcal_g_2m[:,1][mask_2m])\n",
    "\n",
    "        mask0_count += np.sum(mask0)\n",
    "        mask_1p_count += np.sum(mask_1p)\n",
    "        mask_1m_count += np.sum(mask_1m)\n",
    "        mask_2p_count += np.sum(mask_2p)\n",
    "        mask_2m_count += np.sum(mask_2m)\n",
    "\n",
    "    \n",
    "R11i = (R11i_1p_sum/mask0_count - R11i_1m_sum/mask0_count)/dgamma\n",
    "R11s = (R11s_1p_sum/mask_1p_count - R11s_1m_sum/mask_1m_count)/dgamma\n",
    "R11tot = R11i + R11s\n",
    "\n",
    "R22i = (R22i_2p_sum/mask0_count - R22i_2m_sum/mask0_count)/dgamma\n",
    "R22s = (R22s_2p_sum/mask_2p_count - R22s_2m_sum/mask_2m_count)/dgamma\n",
    "R22tot = R22i + R22s\n",
    "\n",
    "R11 = (R11_1p_sum/mask_1p_count - R11_1m_sum/mask_1m_count)/dgamma\n",
    "R22 = (R22_2p_sum/mask_2p_count - R22_2m_sum/mask_2m_count)/dgamma\n"
   ]
  },
  {
   "cell_type": "code",
   "execution_count": 8,
   "id": "141f3fe2",
   "metadata": {},
   "outputs": [
    {
     "name": "stdout",
     "output_type": "stream",
     "text": [
      "0.7356327303821948 0.7367618447379479\n",
      "0.7358509828007623 0.7369249358421287\n"
     ]
    }
   ],
   "source": [
    "print(R11tot, R22tot)\n",
    "print(R11, R22)"
   ]
  },
  {
   "cell_type": "code",
   "execution_count": 10,
   "id": "ba1af89c",
   "metadata": {},
   "outputs": [
    {
     "data": {
      "text/plain": [
       "(-0.00029668666109262395, -0.00022136203896224783)"
      ]
     },
     "execution_count": 10,
     "metadata": {},
     "output_type": "execute_result"
    }
   ],
   "source": [
    "(0.7356327303821948-0.7358509828007623)/0.7356327303821948,\\\n",
    "(0.7367618447379479-0.7369249358421287)/0.7367618447379479"
   ]
  },
  {
   "cell_type": "code",
   "execution_count": 16,
   "id": "29e218bc",
   "metadata": {},
   "outputs": [
    {
     "name": "stderr",
     "output_type": "stream",
     "text": [
      "100%|███████████████████████████████████████████████████████████████████████████████| 108/108 [1:19:38<00:00, 44.25s/it]\n"
     ]
    }
   ],
   "source": [
    "R11i_1p_err_sum = 0\n",
    "R11i_1m_err_sum = 0\n",
    "R22i_2p_err_sum = 0\n",
    "R22i_2m_err_sum = 0\n",
    "\n",
    "R11s_1p_err_sum = 0\n",
    "R11s_1m_err_sum = 0\n",
    "R22s_2p_err_sum = 0\n",
    "R22s_2m_err_sum = 0\n",
    "\n",
    "R11_1p_err_sum = 0\n",
    "R11_1m_err_sum = 0\n",
    "R22_2p_err_sum = 0\n",
    "R22_2m_err_sum = 0\n",
    "\n",
    "\n",
    "with h5py.File('/project2/chihway/data/decade/metacal_test_20230323.hdf', 'r') as cat: \n",
    "    for i in tqdm.trange(0,n_iter): \n",
    "        mcal_T_noshear = np.array(cat['mcal_T_noshear'][i*million:(i+1)*million])\n",
    "        mcal_T_1p = np.array(cat['mcal_T_1p'][i*million:(i+1)*million])\n",
    "        mcal_T_1m = np.array(cat['mcal_T_1m'][i*million:(i+1)*million])\n",
    "        mcal_T_2p = np.array(cat['mcal_T_2p'][i*million:(i+1)*million])\n",
    "        mcal_T_2m = np.array(cat['mcal_T_2m'][i*million:(i+1)*million])\n",
    "\n",
    "        mcal_T_ratio_noshear = np.array(cat['mcal_T_ratio_noshear'][i*million:(i+1)*million])\n",
    "        mcal_T_ratio_1p = np.array(cat['mcal_T_ratio_1p'][i*million:(i+1)*million])\n",
    "        mcal_T_ratio_1m = np.array(cat['mcal_T_ratio_1m'][i*million:(i+1)*million])\n",
    "        mcal_T_ratio_2p = np.array(cat['mcal_T_ratio_2p'][i*million:(i+1)*million])\n",
    "        mcal_T_ratio_2m = np.array(cat['mcal_T_ratio_2m'][i*million:(i+1)*million])\n",
    "\n",
    "        mcal_s2n_noshear = np.array(cat['mcal_s2n_noshear'][i*million:(i+1)*million])\n",
    "        mcal_s2n_1p = np.array(cat['mcal_s2n_1p'][i*million:(i+1)*million])\n",
    "        mcal_s2n_1m = np.array(cat['mcal_s2n_1m'][i*million:(i+1)*million])\n",
    "        mcal_s2n_2p = np.array(cat['mcal_s2n_2p'][i*million:(i+1)*million])\n",
    "        mcal_s2n_2m = np.array(cat['mcal_s2n_2m'][i*million:(i+1)*million])\n",
    "\n",
    "        mcal_g_noshear = np.array(cat['mcal_g_noshear'][i*million:(i+1)*million])\n",
    "        mcal_g_1p = np.array(cat['mcal_g_1p'][i*million:(i+1)*million])\n",
    "        mcal_g_1m = np.array(cat['mcal_g_1m'][i*million:(i+1)*million])\n",
    "        mcal_g_2p = np.array(cat['mcal_g_2p'][i*million:(i+1)*million])\n",
    "        mcal_g_2m = np.array(cat['mcal_g_2m'][i*million:(i+1)*million])\n",
    "\n",
    "        mask0 = (~((mcal_T_noshear>2)*(mcal_s2n_noshear<30)))*(mcal_T_noshear<10)*(mcal_s2n_noshear<1000)*(mcal_s2n_noshear>10)*(mcal_T_ratio_noshear>0.5)\n",
    "        mask_1p = (~((mcal_T_1p>2)*(mcal_s2n_1p<30)))*(mcal_T_1p<10)*(mcal_s2n_1p<1000)*(mcal_s2n_1p>10)*(mcal_T_ratio_1p>0.5)\n",
    "        mask_1m = (~((mcal_T_1m>2)*(mcal_s2n_1m<30)))*(mcal_T_1m<10)*(mcal_s2n_1m<1000)*(mcal_s2n_1m>10)*(mcal_T_ratio_1m>0.5)\n",
    "        mask_2p = (~((mcal_T_2p>2)*(mcal_s2n_2p<30)))*(mcal_T_2p<10)*(mcal_s2n_2p<1000)*(mcal_s2n_2p>10)*(mcal_T_ratio_2p>0.5)\n",
    "        mask_2m = (~((mcal_T_2m>2)*(mcal_s2n_2m<30)))*(mcal_T_2m<10)*(mcal_s2n_2m<1000)*(mcal_s2n_2m>10)*(mcal_T_ratio_2m>0.5)\n",
    "\n",
    "        R11i_1p_err_sum += np.sum((mcal_g_1p[:,0][mask0]-R11i_1p_sum/mask0_count)**2)\n",
    "        R11i_1m_err_sum += np.sum((mcal_g_1m[:,0][mask0]-R11i_1m_sum/mask0_count)**2)\n",
    "        R22i_2p_err_sum += np.sum((mcal_g_2p[:,1][mask0]-R22i_2p_sum/mask0_count)**2)\n",
    "        R22i_2m_err_sum += np.sum((mcal_g_2m[:,1][mask0]-R22i_2m_sum/mask0_count)**2)\n",
    "\n",
    "        R11s_1p_err_sum += np.sum((mcal_g_noshear[:,0][mask_1p]-R11s_1p_sum/mask_1p_count)**2)\n",
    "        R11s_1m_err_sum += np.sum((mcal_g_noshear[:,0][mask_1m]-R11s_1m_sum/mask_1m_count)**2)\n",
    "        R22s_2p_err_sum += np.sum((mcal_g_noshear[:,1][mask_2p]-R22s_2p_sum/mask_2p_count)**2)\n",
    "        R22s_2m_err_sum += np.sum((mcal_g_noshear[:,1][mask_2m]-R22s_2m_sum/mask_2m_count)**2)\n",
    "\n",
    "        R11_1p_err_sum += np.sum((mcal_g_1p[:,0][mask_1p]-R11_1p_sum/mask_1p_count)**2)\n",
    "        R11_1m_err_sum += np.sum((mcal_g_1m[:,0][mask_1m]-R11_1m_sum/mask_1m_count)**2)\n",
    "        R22_2p_err_sum += np.sum((mcal_g_2p[:,1][mask_2p]-R22_2p_sum/mask_2p_count)**2)\n",
    "        R22_2m_err_sum += np.sum((mcal_g_2m[:,1][mask_2m]-R22_2m_sum/mask_2m_count)**2)"
   ]
  },
  {
   "cell_type": "code",
   "execution_count": 17,
   "id": "372860b9",
   "metadata": {},
   "outputs": [],
   "source": [
    "R11tot_err = np.sqrt( R11i_1p_err_sum/(mask0_count**2)/dgamma**2\\\n",
    "                     +R11i_1m_err_sum/(mask0_count**2)/dgamma**2\\\n",
    "                     +R11s_1p_err_sum/(mask_1p_count**2)/dgamma**2\\\n",
    "                     +R11s_1m_err_sum/(mask_1m_count**2)/dgamma**2)\n",
    "\n",
    "R22tot_err = np.sqrt( R22i_2p_err_sum/(mask0_count**2)/dgamma**2\\\n",
    "                     +R22i_2m_err_sum/(mask0_count**2)/dgamma**2\\\n",
    "                     +R22s_2p_err_sum/(mask_2p_count**2)/dgamma**2\\\n",
    "                     +R22s_2m_err_sum/(mask_2m_count**2)/dgamma**2)\n",
    "\n",
    "R11_err = np.sqrt( R11_1p_err_sum/(mask_1p_count**2)/dgamma**2\\\n",
    "                  +R11_1m_err_sum/(mask_1m_count**2)/dgamma**2)\n",
    "\n",
    "R22_err = np.sqrt( R22_2p_err_sum/(mask_2p_count**2)/dgamma**2\\\n",
    "                  +R22_2m_err_sum/(mask_2m_count**2)/dgamma**2)"
   ]
  },
  {
   "cell_type": "code",
   "execution_count": 18,
   "id": "a3da4fe3",
   "metadata": {},
   "outputs": [
    {
     "name": "stdout",
     "output_type": "stream",
     "text": [
      "0.0026727755066305566 0.0026734576057785325 0.0018903318043964235 0.0018908369756403206\n"
     ]
    }
   ],
   "source": [
    "print(R11tot_err,R22tot_err,R11_err,R22_err)"
   ]
  },
  {
   "cell_type": "code",
   "execution_count": null,
   "id": "9ab4049d",
   "metadata": {},
   "outputs": [],
   "source": []
  }
 ],
 "metadata": {
  "kernelspec": {
   "display_name": "Python 3 (ipykernel)",
   "language": "python",
   "name": "python3"
  },
  "language_info": {
   "codemirror_mode": {
    "name": "ipython",
    "version": 3
   },
   "file_extension": ".py",
   "mimetype": "text/x-python",
   "name": "python",
   "nbconvert_exporter": "python",
   "pygments_lexer": "ipython3",
   "version": "3.7.6"
  }
 },
 "nbformat": 4,
 "nbformat_minor": 5
}
