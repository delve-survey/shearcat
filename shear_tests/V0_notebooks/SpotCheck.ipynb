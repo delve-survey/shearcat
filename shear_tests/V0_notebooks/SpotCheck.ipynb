{
 "cells": [
  {
   "cell_type": "code",
   "execution_count": 12,
   "metadata": {},
   "outputs": [
    {
     "name": "stdout",
     "output_type": "stream",
     "text": [
      "%pylab is deprecated, use %matplotlib inline and import the required libraries.\n",
      "Populating the interactive namespace from numpy and matplotlib\n"
     ]
    }
   ],
   "source": [
    "%pylab inline\n",
    "import matplotlib.pyplot as pl\n",
    "from astropy.io import fits\n",
    "from ngmix.medsreaders import NGMixMEDS\n",
    "import numpy as np\n",
    "import galsim\n",
    "import fitsio\n",
    "import meds\n",
    "import astropy.io.fits as pf\n",
    "import os"
   ]
  },
  {
   "cell_type": "code",
   "execution_count": 11,
   "metadata": {},
   "outputs": [],
   "source": [
    "!cd /project2/chihway/data/decade"
   ]
  },
  {
   "cell_type": "code",
   "execution_count": 9,
   "metadata": {},
   "outputs": [],
   "source": [
    "tiles = np.loadtxt('../code/measurement/tiles2.txt',dtype='str')"
   ]
  },
  {
   "cell_type": "code",
   "execution_count": 14,
   "metadata": {},
   "outputs": [
    {
     "name": "stderr",
     "output_type": "stream",
     "text": [
      "--2022-07-19 16:52:59--  https://decade.ncsa.illinois.edu/deca_archive/DEC/multiepoch/delve/r5918/DES0647+2543/p01/meds/\n",
      "Resolving decade.ncsa.illinois.edu (decade.ncsa.illinois.edu)... 141.142.161.28\n",
      "Connecting to decade.ncsa.illinois.edu (decade.ncsa.illinois.edu)|141.142.161.28|:443... connected.\n",
      "HTTP request sent, awaiting response... "
     ]
    }
   ],
   "source": [
    "for i in range(1):\n",
    "    tile = tiles[i]\n",
    "    command = 'wget --user=decade --password=decaFil3s  --recursive --no-parent https://decade.ncsa.illinois.edu/deca_archive/DEC/multiepoch/delve/r5918/' + tile + '/p01/meds/'\n",
    "    os.system(command)\n",
    "    "
   ]
  },
  {
   "cell_type": "code",
   "execution_count": null,
   "metadata": {},
   "outputs": [],
   "source": []
  }
 ],
 "metadata": {
  "kernelspec": {
   "display_name": "shear_decade",
   "language": "python",
   "name": "shear_decade"
  },
  "language_info": {
   "codemirror_mode": {
    "name": "ipython",
    "version": 3
   },
   "file_extension": ".py",
   "mimetype": "text/x-python",
   "name": "python",
   "nbconvert_exporter": "python",
   "pygments_lexer": "ipython3",
   "version": "3.9.7"
  }
 },
 "nbformat": 4,
 "nbformat_minor": 4
}
