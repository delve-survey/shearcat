{
 "cells": [
  {
   "cell_type": "code",
   "execution_count": 1,
   "id": "2fb516bc",
   "metadata": {},
   "outputs": [],
   "source": [
    "import numpy as np\n",
    "import matplotlib.pyplot as plt\n",
    "import glob, os"
   ]
  },
  {
   "cell_type": "code",
   "execution_count": 2,
   "id": "1a222136",
   "metadata": {},
   "outputs": [],
   "source": [
    "plt.rcParams[\"axes.linewidth\"]  = 1.0\n",
    "plt.rcParams[\"xtick.major.size\"]  = 10\n",
    "plt.rcParams[\"xtick.minor.size\"]  = 5\n",
    "plt.rcParams[\"ytick.major.size\"]  = 10\n",
    "plt.rcParams[\"ytick.minor.size\"]  = 5\n",
    "plt.rcParams[\"xtick.direction\"]  = \"in\"\n",
    "plt.rcParams[\"ytick.direction\"]  = \"in\"\n",
    "plt.rcParams[\"legend.frameon\"] = 'False'\n",
    "plt.rcParams['figure.figsize'] = [10, 10]\n",
    "plt.rc('text', usetex=True)\n",
    "plt.rc('font', family='serif', size=13)\n",
    "\n",
    "\n",
    "COLORS = [\"f07167\",\"219ebc\",\"c767ac\",\"ffb703\",\"59a270\"]\n",
    "COLORS = ['#' + c if c[0] != '#' else c for c in COLORS ]\n",
    "\n",
    "from cycler import cycler\n",
    "\n",
    "# Update the default prop_cycle\n",
    "plt.rcParams['axes.prop_cycle'] = cycler(color=COLORS)"
   ]
  },
  {
   "cell_type": "markdown",
   "id": "2652b302",
   "metadata": {},
   "source": [
    "# Load tables"
   ]
  },
  {
   "cell_type": "code",
   "execution_count": 3,
   "id": "78238420",
   "metadata": {},
   "outputs": [],
   "source": [
    "DIR = '/scratch/midway3/dhayaa/SHEARTESTS_20240504/FIDUCIAL/'"
   ]
  },
  {
   "cell_type": "code",
   "execution_count": 4,
   "id": "94793931",
   "metadata": {},
   "outputs": [],
   "source": [
    "Y = np.load(os.path.join(DIR, 'BrighterFatter.npy'))\n",
    "X = np.load(os.path.join(DIR, 'BrighterFatter_bins.npy'))"
   ]
  },
  {
   "cell_type": "code",
   "execution_count": 5,
   "id": "6143978a",
   "metadata": {},
   "outputs": [],
   "source": [
    "def func(X):\n",
    "    \n",
    "    med = np.median(X, axis = 0)\n",
    "    upp = np.percentile(X, 84, axis = 0) - med\n",
    "    low = np.percentile(X, 16, axis = 0) - med\n",
    "    \n",
    "    upp = upp * np.sqrt(len(X))\n",
    "    low = low * np.sqrt(len(X))\n",
    "    \n",
    "    return med, upp, low"
   ]
  },
  {
   "cell_type": "code",
   "execution_count": 7,
   "id": "6c46c4a0",
   "metadata": {},
   "outputs": [
    {
     "data": {
      "image/png": "[encoded data removed]",
      "text/plain": [
       "<Figure size 500x700 with 3 Axes>"
      ]
     },
     "metadata": {},
     "output_type": "display_data"
    }
   ],
   "source": [
    "fig, ax = plt.subplots(3, 1, figsize = (5, 7), sharex = True)\n",
    "plt.subplots_adjust(hspace = 0.1)\n",
    "\n",
    "\n",
    "med, upp, low = func(Y[0] * 1e3)\n",
    "ax[0].scatter(X, med, s = 10)\n",
    "ax[0].errorbar(X, med, yerr = [upp, np.abs(low)], lw = 0, elinewidth = 1)\n",
    "ax[0].set_ylabel('$T_\\star - T_{\\\\rm psf}$   [$10^{-3} \\\\rm arcsec^2 $]', size = 13, labelpad = 10)\n",
    "ax[0].axhline(0, color = 'k', ls = '--', lw = 2, alpha = 0.3)\n",
    "\n",
    "\n",
    "med, upp, low = func(Y[1] * 1e3)\n",
    "ax[1].scatter(X, med, s = 10)\n",
    "ax[1].errorbar(X, med, yerr = [upp, np.abs(low)], lw = 0, elinewidth = 1)\n",
    "ax[1].set_ylabel('$1 - T_{\\\\rm psf}\\,/\\,T_\\star$   [$10^{-3}$]', size = 13, labelpad = 10)\n",
    "ax[1].axhline(0, color = 'k', ls = '--', lw = 2, alpha = 0.3)\n",
    "\n",
    "\n",
    "med, upp, low = func(Y[2] * 1e4)\n",
    "ax[2].scatter(X, med, s = 10, label = r'$e_1$')\n",
    "ax[2].errorbar(X, med, yerr = [upp, np.abs(low)], lw = 0, elinewidth = 1)\n",
    "ax[2].set_ylabel('$e^{1, 2}_\\star - e^{1, 2}_{\\\\rm psf}$   [$10^{-4}$]', size = 13, labelpad = 10)\n",
    "ax[2].axhline(0, color = 'k', ls = '--', lw = 2, alpha = 0.3)\n",
    "\n",
    "med, upp, low = func(Y[3] * 1e4)\n",
    "ax[2].scatter(X + 0.1, med, s = 10, label = '$e_2$')\n",
    "ax[2].errorbar(X + 0.1, med, yerr = [np.abs(low), upp, ], lw = 0, elinewidth = 1)\n",
    "ax[2].set_xlabel('$r/i/z$ magnitude of star', size = 13)\n",
    "\n",
    "\n",
    "ax[2].legend(fontsize = 13, frameon = False, ncol = 2, loc=1)\n",
    "\n",
    "ax[2].tick_params(pad = 10)\n",
    "ax[2].set_ylim(-2.8, 2.8)\n",
    "\n",
    "# ax[2].axhspan(-1, 1, color = 'k', alpha = 0.1)\n",
    "\n",
    "plt.savefig('./BrighterFatter.pdf', dpi = 300, bbox_inches = 'tight')"
   ]
  },
  {
   "cell_type": "code",
   "execution_count": null,
   "id": "dce94c24-438d-4c80-8e72-db41213f324f",
   "metadata": {},
   "outputs": [],
   "source": []
  }
 ],
 "metadata": {
  "kernelspec": {
   "display_name": "shear",
   "language": "python",
   "name": "shear"
  },
  "language_info": {
   "codemirror_mode": {
    "name": "ipython",
    "version": 3
   },
   "file_extension": ".py",
   "mimetype": "text/x-python",
   "name": "python",
   "nbconvert_exporter": "python",
   "pygments_lexer": "ipython3",
   "version": "3.9.12"
  }
 },
 "nbformat": 4,
 "nbformat_minor": 5
}
