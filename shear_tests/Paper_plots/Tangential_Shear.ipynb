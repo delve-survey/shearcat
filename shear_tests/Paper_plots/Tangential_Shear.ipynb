{
 "cells": [
  {
   "cell_type": "code",
   "execution_count": 1,
   "id": "dc96044b",
   "metadata": {},
   "outputs": [],
   "source": [
    "import numpy as np\n",
    "import matplotlib.pyplot as plt\n",
    "import glob, os\n",
    "\n",
    "from scipy import optimize, stats"
   ]
  },
  {
   "cell_type": "code",
   "execution_count": 2,
   "id": "a3d27e2e",
   "metadata": {},
   "outputs": [],
   "source": [
    "plt.rcParams[\"axes.linewidth\"]  = 1.0\n",
    "plt.rcParams[\"xtick.major.size\"]  = 10\n",
    "plt.rcParams[\"xtick.minor.size\"]  = 5\n",
    "plt.rcParams[\"ytick.major.size\"]  = 10\n",
    "plt.rcParams[\"ytick.minor.size\"]  = 5\n",
    "plt.rcParams[\"xtick.direction\"]  = \"in\"\n",
    "plt.rcParams[\"ytick.direction\"]  = \"in\"\n",
    "plt.rcParams[\"legend.frameon\"] = 'False'\n",
    "plt.rcParams['figure.figsize'] = [10, 10]\n",
    "plt.rc('text', usetex=True)\n",
    "plt.rc('font', family='serif', size=13)\n",
    "\n",
    "\n",
    "COLORS = [\"f07167\",\"219ebc\",\"c767ac\",\"ffba0a\",\"59a270\"]\n",
    "COLORS = ['#' + c if c[0] != '#' else c for c in COLORS ]\n",
    "\n",
    "from cycler import cycler\n",
    "\n",
    "# Update the default prop_cycle\n",
    "plt.rcParams['axes.prop_cycle'] = cycler(color=COLORS)"
   ]
  },
  {
   "cell_type": "markdown",
   "id": "8c9b1096",
   "metadata": {},
   "source": [
    "# Load tables"
   ]
  },
  {
   "cell_type": "code",
   "execution_count": 3,
   "id": "cd9a37f6",
   "metadata": {},
   "outputs": [],
   "source": [
    "DIR = '/scratch/midway3/dhayaa/SHEARTESTS_20240504/FIDUCIAL/'"
   ]
  },
  {
   "cell_type": "code",
   "execution_count": 11,
   "id": "35c452cd",
   "metadata": {},
   "outputs": [
    {
     "name": "stdout",
     "output_type": "stream",
     "text": [
      "----------BRIGHT STARS----------\n",
      "P-val: 0.5218185916367762\n",
      "Chi2, Chi2/ndof: 23.957704232778156 0.9583081693111262\n",
      "--------------------------------\n",
      "\n",
      "\n",
      "----------FAINT STARS----------\n",
      "P-val: 0.108186323371398\n",
      "Chi2, Chi2/ndof: 33.986985786549795 1.3594794314619918\n",
      "--------------------------------\n",
      "\n",
      "\n",
      "----------FIELD CENTER----------\n",
      "P-val: 0.24047617581619563\n",
      "Chi2, Chi2/ndof: 29.5780824036268 1.1831232961450722\n",
      "--------------------------------\n",
      "\n",
      "\n"
     ]
    },
    {
     "data": {
      "image/png": "[encoded data removed]",
      "text/plain": [
       "<Figure size 500x350 with 2 Axes>"
      ]
     },
     "metadata": {},
     "output_type": "display_data"
    }
   ],
   "source": [
    "import matplotlib.pyplot as plt\n",
    "\n",
    "fig, ax = plt.subplots(2, 1, figsize = (5,3.5), sharex = True)\n",
    "\n",
    "plt.subplots_adjust(hspace = 0.05)\n",
    "plt.xscale('log')\n",
    "\n",
    "X = np.loadtxt(DIR + '/starshears_bright_treecorr.txt')\n",
    "Y = np.loadtxt(DIR + '/starshears_bright_rands_treecorr.txt')\n",
    "Z = np.loadtxt(DIR + '/starshears_bright_cov_treecorr.txt')[:25,:25]\n",
    "\n",
    "d = (X[:, 3] - Y[:, 3])\n",
    "inv = np.linalg.inv(Z) * (150 - len(d) - 2)/(150 - 1)\n",
    "chi2 = d @ inv @ d\n",
    "print(\"----------BRIGHT STARS----------\")\n",
    "print(\"P-val:\", 1 - stats.chi2(df = len(d)).cdf(chi2))\n",
    "print(\"Chi2, Chi2/ndof:\", chi2, chi2/len(d))\n",
    "print(\"--------------------------------\\n\\n\")\n",
    "\n",
    "\n",
    "ax[0].scatter(X[:, 0], 1e5 * (X - Y)[:, 3], lw = 0, s=16, color = COLORS[0], label = r'$m_X < 16.5$')\n",
    "ax[0].errorbar(X[:, 0], 1e5 * (X - Y)[:, 3], yerr = 1e5 * (X)[:, 5], fmt = 'none', color = COLORS[0], lw = 0, elinewidth = 1)\n",
    "\n",
    "\n",
    "    # ax.flatten()[i].scatter(x[:, 0] * (1 + 0.05), np.abs(coeffs[i]) * np.abs(x[:, 3]), s=13, label = 'SNR $>$ 60', color = COLORS[1])\n",
    "\n",
    "    # ax.flatten()[i].errorbar(x[:, 0] * (1 + 0.05), np.abs(coeffs[i]) * np.abs(x[:, 3]), yerr = np.abs(coeffs[i]) * x[:, 7], \n",
    "    #                          alpha = 1, fmt = 'none', color = COLORS[1], lw = 0, elinewidth = 1)\n",
    "\n",
    "\n",
    "\n",
    "X = np.loadtxt(DIR + '/starshears_faint_treecorr.txt')\n",
    "Y = np.loadtxt(DIR + '/starshears_faint_rands_treecorr.txt')\n",
    "Z = np.loadtxt(DIR + '/starshears_faint_cov_treecorr.txt')[:25,:25]\n",
    "\n",
    "d = (X[:, 3] - Y[:, 3])\n",
    "inv = np.linalg.inv(Z) * (150 - len(d) - 2)/(150 - 1)\n",
    "\n",
    "chi2 = d @ inv @ d\n",
    "\n",
    "print(\"----------FAINT STARS----------\")\n",
    "print(\"P-val:\", 1 - stats.chi2(df = len(d)).cdf(chi2))\n",
    "print(\"Chi2, Chi2/ndof:\", chi2, chi2/len(d))\n",
    "print(\"--------------------------------\\n\\n\")\n",
    "\n",
    "# plt.scatter(X[:, 0], (X - Y)[:, 3], s = 100)\n",
    "# ax[0].errorbar(X[:, 0] * (1 + 0.05), 1e5 * (X - Y)[:, 3], yerr = 1e5 * (X)[:, 5], lw = 0, elinewidth = 4, color = COLORS[1], label = r'$m_X > 16.5$')\n",
    "\n",
    "ax[0].scatter(X[:, 0] * (1 + 0.05), 1e5 * (X - Y)[:, 3], lw = 0, s=16, color = COLORS[1], label = r'$m_X > 16.5$')\n",
    "ax[0].errorbar(X[:, 0] * (1 + 0.05), 1e5 * (X - Y)[:, 3], yerr = 1e5 * (X)[:, 5], fmt = 'none', color = COLORS[1], lw = 0, elinewidth = 1)\n",
    "\n",
    "\n",
    "X = np.loadtxt(DIR + '/fieldcenter_treecorr.txt')\n",
    "Y = np.loadtxt(DIR + '/fieldcenter_rands_treecorr.txt')\n",
    "Z = np.loadtxt(DIR + '/fieldcenter_cov_treecorr.txt')[:25,:25]\n",
    "\n",
    "d = (X[:, 3] - Y[:, 3])\n",
    "inv = np.linalg.inv(Z) * (150 - len(d) - 2)/(150 - 1)\n",
    "\n",
    "chi2 = d @ inv @ d\n",
    "\n",
    "print(\"----------FIELD CENTER----------\")\n",
    "print(\"P-val:\", 1 - stats.chi2(df = len(d)).cdf(chi2))\n",
    "print(\"Chi2, Chi2/ndof:\", chi2, chi2/len(d))\n",
    "print(\"--------------------------------\\n\\n\")\n",
    "\n",
    "# plt.scatter(X[:, 0], (X - Y)[:, 3], s = 100)\n",
    "# ax[1].errorbar(X[:, 0], 1e3 * (X - Y)[:, 3], yerr = 1e3 * (X)[:, 5], lw = 0, elinewidth = 4, color = COLORS[4], label = r'Field centers')\n",
    "\n",
    "ax[1].scatter(X[:, 0], 1e3 * (X - Y)[:, 3], lw = 0, s=16, color = COLORS[4], label = r'Field centers')\n",
    "ax[1].errorbar(X[:, 0], 1e3 * (X - Y)[:, 3], yerr = 1e3 * (X)[:, 5], fmt = 'none', color = COLORS[4], lw = 0, elinewidth = 1)\n",
    "\n",
    "\n",
    "ax[0].set_ylabel(r'$\\gamma_{\\rm t}$ [$10^{-5}$]', size = 13)\n",
    "ax[1].set_ylabel(r'$\\gamma_{\\rm t}$ [$10^{-3}$]', size = 13)\n",
    "ax[1].set_xlabel(r'$\\theta$ [arcmin]', size = 13)\n",
    "\n",
    "ax[0].legend(fontsize = 13, frameon = False, loc = 'lower right')\n",
    "ax[1].legend(fontsize = 13, frameon = False, loc = 'lower right')\n",
    "ax[0].axhline(0, color = 'k', ls = '--', alpha = 0.3)\n",
    "ax[1].axhline(0, color = 'k', ls = '--', alpha = 0.3)\n",
    "\n",
    "ax[0].set_xlim(2,300)\n",
    "ax[1].set_xlim(2,300)\n",
    "\n",
    "\n",
    "plt.savefig('./gammat.pdf', dpi = 300, bbox_inches = 'tight')\n",
    "plt.show()"
   ]
  },
  {
   "cell_type": "code",
   "execution_count": null,
   "id": "bee0ff4d-fd16-4296-bb34-834e5b67654d",
   "metadata": {},
   "outputs": [],
   "source": []
  },
  {
   "cell_type": "code",
   "execution_count": null,
   "id": "8f1f7058-2f41-4c70-9311-7fd9f802334a",
   "metadata": {},
   "outputs": [],
   "source": []
  }
 ],
 "metadata": {
  "kernelspec": {
   "display_name": "shear",
   "language": "python",
   "name": "shear"
  },
  "language_info": {
   "codemirror_mode": {
    "name": "ipython",
    "version": 3
   },
   "file_extension": ".py",
   "mimetype": "text/x-python",
   "name": "python",
   "nbconvert_exporter": "python",
   "pygments_lexer": "ipython3",
   "version": "3.9.12"
  }
 },
 "nbformat": 4,
 "nbformat_minor": 5
}
