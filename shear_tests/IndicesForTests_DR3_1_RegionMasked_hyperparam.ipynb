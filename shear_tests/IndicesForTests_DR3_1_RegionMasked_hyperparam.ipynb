{
 "cells": [
  {
   "cell_type": "code",
   "execution_count": 1,
   "id": "c6aa3bde",
   "metadata": {},
   "outputs": [],
   "source": [
    "import h5py\n",
    "import healpy as hp\n",
    "import numpy as np\n",
    "import os\n",
    "import matplotlib.pyplot as plt"
   ]
  },
  {
   "cell_type": "code",
   "execution_count": 2,
   "id": "f5827ece",
   "metadata": {},
   "outputs": [
    {
     "name": "stdout",
     "output_type": "stream",
     "text": [
      "385M -rw-rw-r-- 1 dhayaa pi-chihway 385M Nov  5 10:07 /project/chihway/dhayaa/DECADE/Foreground_Masks/GOLD_Ext0.05_Star5.fits\r\n",
      "385M -rw-rw-r-- 1 dhayaa pi-chihway 385M Nov  5 10:04 /project/chihway/dhayaa/DECADE/Foreground_Masks/GOLD_Ext0.1_Star5.fits\r\n",
      "385M -rw-rw-r-- 1 dhayaa pi-chihway 385M Dec  3 19:33 /project/chihway/dhayaa/DECADE/Foreground_Masks/GOLD_Ext0.25_Star5.fits\r\n",
      "385M -rw-rw-r-- 1 dhayaa pi-chihway 385M Nov  5 10:19 /project/chihway/dhayaa/DECADE/Foreground_Masks/GOLD_Ext0.2_Star10.fits\r\n",
      "385M -rw-rw-r-- 1 dhayaa pi-chihway 385M Nov  5 10:22 /project/chihway/dhayaa/DECADE/Foreground_Masks/GOLD_Ext0.2_Star20.fits\r\n",
      "385M -rw-rw-r-- 1 dhayaa pi-chihway 385M Nov  5 10:10 /project/chihway/dhayaa/DECADE/Foreground_Masks/GOLD_Ext0.2_Star3.fits\r\n",
      "385M -rw-rw-r-- 1 dhayaa pi-chihway 385M Nov  5 10:13 /project/chihway/dhayaa/DECADE/Foreground_Masks/GOLD_Ext0.2_Star4.fits\r\n",
      "385M -rw-rw-r-- 1 dhayaa pi-chihway 385M Nov  5 10:16 /project/chihway/dhayaa/DECADE/Foreground_Masks/GOLD_Ext0.2_Star5.fits\r\n",
      "385M -rw-rw-r-- 1 dhayaa pi-chihway 385M Nov  5 09:58 /project/chihway/dhayaa/DECADE/Foreground_Masks/GOLD_Ext0.3_Star5.fits\r\n",
      "385M -rw-rw-r-- 1 dhayaa pi-chihway 385M Nov  5 09:55 /project/chihway/dhayaa/DECADE/Foreground_Masks/GOLD_Ext0.4_Star5.fits\r\n"
     ]
    }
   ],
   "source": [
    "!ls -lsh /project/chihway/dhayaa/DECADE/Foreground_Masks/*"
   ]
  },
  {
   "cell_type": "markdown",
   "id": "7efe3986",
   "metadata": {},
   "source": [
    "# fiducial catalog alone"
   ]
  },
  {
   "cell_type": "code",
   "execution_count": 11,
   "id": "a8c04c52",
   "metadata": {},
   "outputs": [
    {
     "data": {
      "text/plain": [
       "(56707987,)"
      ]
     },
     "execution_count": 11,
     "metadata": {},
     "output_type": "execute_result"
    }
   ],
   "source": [
    "import fitsio\n",
    "\n",
    "fitsio.read('/project/chihway/dhayaa/DES_Catalogs/psf_y3a1-v29.fits').shape"
   ]
  },
  {
   "cell_type": "code",
   "execution_count": 2,
   "id": "28489a41",
   "metadata": {},
   "outputs": [],
   "source": [
    "Badcolor_map = hp.read_map('/project2/kadrlica/chinyi/DELVE_DR3_1_bad_colour_mask.fits', dtype = int)"
   ]
  },
  {
   "cell_type": "code",
   "execution_count": 3,
   "id": "a5cf2ef2",
   "metadata": {},
   "outputs": [
    {
     "name": "stderr",
     "output_type": "stream",
     "text": [
      "mkdir: cannot create directory ‘/scratch/midway3/dhayaa/SHEARTESTS/DR3_hyperparam’: File exists\n",
      "/scratch/local/jobs/19175856/ipykernel_915898/1034493550.py:29: RuntimeWarning: invalid value encountered in divide\n",
      "  M = (f['FLUX_AUTO'][:] / f['FLUXERR_AUTO'][:] > 1)\n"
     ]
    },
    {
     "name": "stdout",
     "output_type": "stream",
     "text": [
      "CHANGING LENGTH 809078890 ---> 200000000\n",
      "DONE WITH DR3_hyperparam\n"
     ]
    }
   ],
   "source": [
    "PATHS = [\n",
    "         '/project/chihway/dhayaa/DECADE/Foreground_Masks/GOLD_Ext0.2_Star5.fits',\n",
    "         ]\n",
    "\n",
    "NAMES = ['DR3_hyperparam',\n",
    "         ]\n",
    "\n",
    "for NAME, PATH in zip(NAMES, PATHS):\n",
    "    \n",
    "    GOLD_Foreground  = hp.read_map(PATH, dtype = int)\n",
    "        \n",
    "    path = '/scratch/midway3/dhayaa/SHEARTESTS/%s' % NAME\n",
    "    os.system('mkdir %s' % path)\n",
    "    \n",
    "    with h5py.File('/project/chihway/data/decade/metacal_gold_combined_20240209.hdf', 'r') as f:\n",
    "        \n",
    "        Region_mask = np.invert(f['DEC'][:] > np.where(f['RA'][:] < 225, 30 - (30 - 12)/(225 - 200) * (f['RA'][:] - 200), 12.))\n",
    "        M = ((f['mcal_s2n_noshear'][:] > 3) & \n",
    "             (f['mcal_T_ratio_noshear'][:] > 0.2) & (f['mcal_flags'][:] == 0) & Region_mask)\n",
    "\n",
    "        pix_assign       = hp.ang2pix(hp.npix2nside(GOLD_Foreground.size), f['RA'][:], f['DEC'][:], lonlat = True)\n",
    "        FLAGS_Foreground = GOLD_Foreground[pix_assign]\n",
    "        FLAGS_BADCOLOR   = Badcolor_map[pix_assign]\n",
    "        M = M & (FLAGS_Foreground ==  0) & (FLAGS_BADCOLOR == 0)\n",
    "        np.save(path + '/shear_inds.npy', np.where(M)[0])\n",
    "\n",
    "\n",
    "    with h5py.File('/project/chihway/dhayaa/DECADE/star_psf_shapecat_20231216.hdf5', 'r') as f:\n",
    "        M = (f['FLUX_AUTO'][:] / f['FLUXERR_AUTO'][:] > 1)\n",
    "\n",
    "        Region_mask = np.invert(f['dec'][:] > np.where(f['ra'][:] < 225, 30 - (30 - 13)/(225 - 200) * (f['ra'][:] - 200), 13.))\n",
    "        \n",
    "        pix_assign       = hp.ang2pix(hp.npix2nside(GOLD_Foreground.size), f['ra'][:], f['dec'][:], lonlat = True)\n",
    "        FLAGS_Foreground = GOLD_Foreground[pix_assign]\n",
    "        FLAGS_BADCOLOR   = Badcolor_map[pix_assign]\n",
    "        M = M & (FLAGS_Foreground ==  0) & (FLAGS_BADCOLOR == 0)\n",
    "        \n",
    "        inds = np.where(M)[0]\n",
    "        Max_size = 200_000_000\n",
    "        if len(inds) > Max_size:\n",
    "            inds = np.random.default_rng(42).choice(inds, size = Max_size, replace = False)\n",
    "            print(\"CHANGING LENGTH %d ---> %d\" % (np.sum(M), len(inds)))\n",
    "        \n",
    "        np.save(path + '/psf_inds.npy', inds)\n",
    "        \n",
    "        \n",
    "    JOB_TXT = \"\"\"#!/bin/bash\n",
    "#SBATCH --job-name ShearTests_%(NAME)s\n",
    "#SBATCH --partition=caslake\n",
    "#SBATCH --account=pi-kadrlica\n",
    "#SBATCH --nodes=1\n",
    "#SBATCH --ntasks-per-node=48\n",
    "#SBATCH --time=30:00:00\n",
    "#SBATCH --output=/home/dhayaa/DECADE/shearcat/shear_tests/runs/%(NAME)s.log\n",
    "#SBATCH --mail-user=dhayaa@uchicago.edu\n",
    "#SBATCH --mail-type=BEGIN,END\n",
    "\n",
    "#X=${TMPDIR}\n",
    "#echo $TMPDIR\n",
    "if [ \"$USER\" == \"dhayaa\" ]\n",
    "then\n",
    "    conda activate /project/chihway/dhayaa/MyEnvs_Midway3/shear\n",
    "fi\n",
    "\n",
    "\n",
    "RUN_DIR=/home/dhayaa/DECADE/shearcat/shear_tests\n",
    "\n",
    "python -u $RUN_DIR/ShearTestRunner.py --psf_cat \"/project/chihway/dhayaa/DECADE/star_psf_shapecat_20231216.hdf5\" \\\\\n",
    "                                      --galaxy_cat \"/project/chihway/data/decade/metacal_gold_combined_20240209.hdf\" \\\\\n",
    "                                      --psf_cat_inds \"%(PSF_INDS)s\" \\\\\n",
    "                                      --galaxy_cat_inds \"%(SHEAR_INDS)s\" \\\\\n",
    "                                      --output_path \"%(OUTPUT)s\" \\\\\n",
    "                                      --sim_Cls_path \"/project/chihway/dhayaa/DECADE/cosmosis/Lucas_files/Kappa_Cls.txt\" \\\\\n",
    "                                      --All\n",
    "\n",
    "    \"\"\"\n",
    "    \n",
    "    args = {'NAME' : NAME,\n",
    "            'PSF_INDS' : path + '/psf_inds.npy',\n",
    "            'SHEAR_INDS' : path + '/shear_inds.npy',\n",
    "            'OUTPUT' : path}\n",
    "    \n",
    "    with open('runs/job_%s.sh' % NAME, 'w') as f:\n",
    "        \n",
    "        f.write(JOB_TXT % args)\n",
    "\n",
    "    print(\"DONE WITH\", NAME)"
   ]
  },
  {
   "cell_type": "markdown",
   "id": "b936672a",
   "metadata": {},
   "source": [
    "# Make job files"
   ]
  },
  {
   "cell_type": "code",
   "execution_count": 4,
   "id": "11371d9a",
   "metadata": {},
   "outputs": [],
   "source": [
    "JOB_TXT = \"\"\"#!/bin/bash\n",
    "#SBATCH --job-name ShearTests_%(NAME)s\n",
    "#SBATCH --partition=caslake\n",
    "#SBATCH --account=pi-jfrieman\n",
    "#SBATCH --nodes=1\n",
    "#SBATCH --ntasks-per-node=48\n",
    "#SBATCH --time=36:00:00\n",
    "#SBATCH --output=/home/dhayaa/DECADE/shearcat/shear_tests/runs/%(NAME)s.log\n",
    "#SBATCH --mail-user=dhayaa@uchicago.edu\n",
    "#SBATCH --mail-type=BEGIN,END\n",
    "\n",
    "#X=${TMPDIR}\n",
    "#echo $TMPDIR\n",
    "if [ \"$USER\" == \"dhayaa\" ]\n",
    "then\n",
    "    conda activate /project/chihway/dhayaa/MyEnvs_Midway3/shear\n",
    "fi\n",
    "\n",
    "\n",
    "RUN_DIR=/home/dhayaa/DECADE/shearcat/shear_tests\n",
    "\n",
    "python -u $RUN_DIR/ShearTestRunner.py --psf_cat \"/project/chihway/dhayaa/DECADE/star_psf_shapecat_20231216.hdf5\" \\\\\n",
    "                                      --galaxy_cat \"/project/chihway/data/decade/metacal_gold_combined_20240209.hdf\" \\\\\n",
    "                                      --psf_cat_inds \"%(PSF_INDS)s\" \\\\\n",
    "                                      --galaxy_cat_inds \"%(SHEAR_INDS)s\" \\\\\n",
    "                                      --output_path \"%(OUTPUT)s\" \\\\\n",
    "                                      --sim_Cls_path \"/project/chihway/dhayaa/DECADE/cosmosis/Lucas_files/Kappa_Cls.txt\" \\\\\n",
    "                                      --Star_SNR_min %(Star_SNR_min)d\\\\\n",
    "                                      --Npatch %(Npatch)d\\\\\n",
    "                                      --MapNSIDE_weightrands %(MapNSIDE_weightrands)d\\\\\n",
    "                                      --All\n",
    "\n",
    "        \"\"\""
   ]
  },
  {
   "cell_type": "code",
   "execution_count": 5,
   "id": "595bc19e",
   "metadata": {},
   "outputs": [
    {
     "name": "stderr",
     "output_type": "stream",
     "text": [
      "mkdir: cannot create directory ‘/scratch/midway3/dhayaa/SHEARTESTS/STARSNR_1’: File exists\n",
      "mkdir: cannot create directory ‘/scratch/midway3/dhayaa/SHEARTESTS/STARSNR_20’: File exists\n",
      "mkdir: cannot create directory ‘/scratch/midway3/dhayaa/SHEARTESTS/STARSNR_40’: File exists\n",
      "mkdir: cannot create directory ‘/scratch/midway3/dhayaa/SHEARTESTS/STARSNR_60’: File exists\n",
      "mkdir: cannot create directory ‘/scratch/midway3/dhayaa/SHEARTESTS/STARSNR_80’: File exists\n",
      "mkdir: cannot create directory ‘/scratch/midway3/dhayaa/SHEARTESTS/STARSNR_100’: File exists\n",
      "mkdir: cannot create directory ‘/scratch/midway3/dhayaa/SHEARTESTS/STARSNR_150’: File exists\n"
     ]
    }
   ],
   "source": [
    "for SNR in [1, 20, 40, 60, 80, 100, 150]:\n",
    "\n",
    "    NAME = 'STARSNR_%d' %SNR\n",
    "    path = '/scratch/midway3/dhayaa/SHEARTESTS/%s' % NAME\n",
    "    os.system('mkdir %s' % path)\n",
    "\n",
    "    args = {'NAME' : NAME,\n",
    "            'PSF_INDS' : '/scratch/midway3/dhayaa/SHEARTESTS/DR3_hyperparam/' + '/psf_inds.npy',\n",
    "            'SHEAR_INDS' : '/scratch/midway3/dhayaa/SHEARTESTS//DR3_hyperparam/' + '/shear_inds.npy',\n",
    "            'OUTPUT' : path,\n",
    "            'Star_SNR_min' : SNR,\n",
    "            'Npatch' : 100,\n",
    "            'MapNSIDE_weightrands' : 256}\n",
    "\n",
    "    with open('runs/job_%s.sh' % NAME, 'w') as f:\n",
    "\n",
    "        f.write(JOB_TXT % args)"
   ]
  },
  {
   "cell_type": "code",
   "execution_count": 6,
   "id": "0217a2ed",
   "metadata": {},
   "outputs": [
    {
     "name": "stderr",
     "output_type": "stream",
     "text": [
      "mkdir: cannot create directory ‘/scratch/midway3/dhayaa/SHEARTESTS/NPATCH_100’: File exists\n",
      "mkdir: cannot create directory ‘/scratch/midway3/dhayaa/SHEARTESTS/NPATCH_150’: File exists\n",
      "mkdir: cannot create directory ‘/scratch/midway3/dhayaa/SHEARTESTS/NPATCH_200’: File exists\n",
      "mkdir: cannot create directory ‘/scratch/midway3/dhayaa/SHEARTESTS/NPATCH_300’: File exists\n"
     ]
    }
   ],
   "source": [
    "for Npatch in [100, 150, 200, 300]:\n",
    "\n",
    "    NAME = 'NPATCH_%d' %Npatch\n",
    "    path = '/scratch/midway3/dhayaa/SHEARTESTS/%s' % NAME\n",
    "    os.system('mkdir %s' % path)\n",
    "\n",
    "    args = {'NAME' : NAME,\n",
    "            'PSF_INDS' : '/scratch/midway3/dhayaa/SHEARTESTS/DR3_hyperparam/' + '/psf_inds.npy',\n",
    "            'SHEAR_INDS' : '/scratch/midway3/dhayaa/SHEARTESTS//DR3_hyperparam/' + '/shear_inds.npy',\n",
    "            'OUTPUT' : path,\n",
    "            'Star_SNR_min' : 80,\n",
    "            'Npatch' : Npatch,\n",
    "            'MapNSIDE_weightrands' : 256}\n",
    "\n",
    "    with open('runs/job_%s.sh' % NAME, 'w') as f:\n",
    "\n",
    "        f.write(JOB_TXT % args)"
   ]
  },
  {
   "cell_type": "code",
   "execution_count": 7,
   "id": "6f6ba7be",
   "metadata": {},
   "outputs": [
    {
     "name": "stderr",
     "output_type": "stream",
     "text": [
      "mkdir: cannot create directory ‘/scratch/midway3/dhayaa/SHEARTESTS/MAPNSIDE_128’: File exists\n",
      "mkdir: cannot create directory ‘/scratch/midway3/dhayaa/SHEARTESTS/MAPNSIDE_256’: File exists\n",
      "mkdir: cannot create directory ‘/scratch/midway3/dhayaa/SHEARTESTS/MAPNSIDE_512’: File exists\n",
      "mkdir: cannot create directory ‘/scratch/midway3/dhayaa/SHEARTESTS/MAPNSIDE_1024’: File exists\n"
     ]
    }
   ],
   "source": [
    "for NSIDE in [128, 256, 512, 1024]:\n",
    "\n",
    "    NAME = 'MAPNSIDE_%d' % NSIDE\n",
    "    path = '/scratch/midway3/dhayaa/SHEARTESTS/%s' % NAME\n",
    "    os.system('mkdir %s' % path)\n",
    "\n",
    "    args = {'NAME' : NAME,\n",
    "            'PSF_INDS' : '/scratch/midway3/dhayaa/SHEARTESTS/DR3_hyperparam/' + '/psf_inds.npy',\n",
    "            'SHEAR_INDS' : '/scratch/midway3/dhayaa/SHEARTESTS//DR3_hyperparam/' + '/shear_inds.npy',\n",
    "            'OUTPUT' : path,\n",
    "            'Star_SNR_min' : 80,\n",
    "            'Npatch' : 100,\n",
    "            'MapNSIDE_weightrands' : NSIDE}\n",
    "\n",
    "    with open('runs/job_%s.sh' % NAME, 'w') as f:\n",
    "\n",
    "        f.write(JOB_TXT % args)"
   ]
  },
  {
   "cell_type": "code",
   "execution_count": null,
   "id": "ed66485f",
   "metadata": {},
   "outputs": [],
   "source": []
  },
  {
   "cell_type": "code",
   "execution_count": null,
   "id": "7eccf1b4",
   "metadata": {},
   "outputs": [],
   "source": []
  },
  {
   "cell_type": "code",
   "execution_count": null,
   "id": "cf15c27f",
   "metadata": {},
   "outputs": [],
   "source": []
  }
 ],
 "metadata": {
  "kernelspec": {
   "display_name": "shear",
   "language": "python",
   "name": "shear"
  },
  "language_info": {
   "codemirror_mode": {
    "name": "ipython",
    "version": 3
   },
   "file_extension": ".py",
   "mimetype": "text/x-python",
   "name": "python",
   "nbconvert_exporter": "python",
   "pygments_lexer": "ipython3",
   "version": "3.9.16"
  }
 },
 "nbformat": 4,
 "nbformat_minor": 5
}
