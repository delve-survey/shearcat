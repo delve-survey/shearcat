{
 "cells": [
  {
   "cell_type": "code",
   "execution_count": 1,
   "id": "0e1b4be5",
   "metadata": {
    "tags": []
   },
   "outputs": [],
   "source": [
    "import numpy as np\n",
    "import fitsio\n",
    "import matplotlib.pyplot as plt\n",
    "import h5py\n",
    "from scipy import interpolate\n",
    "import os\n",
    "import tqdm\n",
    "import scipy.optimize\n",
    "import healpy as hp\n",
    "# sys.path.append('/home/zhuoqizhang/miniconda3/envs/shearDM/lib/python3.10/site-packages/')\n",
    "import pymaster as nmt\n",
    "import os\n",
    "nside = 1024\n",
    "npix = hp.nside2npix(nside)"
   ]
  },
  {
   "cell_type": "code",
   "execution_count": 3,
   "id": "d288469e-dcb4-4415-beb1-2953282c9456",
   "metadata": {
    "tags": []
   },
   "outputs": [],
   "source": [
    "abspath = False\n",
    "\n",
    "catpath = 'metacal_gold_combined_20230613.hdf'\n",
    "fgpath = 'Gold_Foreground_20230607.fits'\n",
    "    \n",
    "if abspath: \n",
    "    catpath = '/project2/chihway/data/decade/metacal_gold_combined_20230613.hdf'\n",
    "    fgpath = '/project/chihway/dhayaa/DECADE/Gold_Foreground_20230607.fits'"
   ]
  },
  {
   "cell_type": "code",
   "execution_count": 4,
   "id": "00af18d4",
   "metadata": {
    "tags": []
   },
   "outputs": [],
   "source": [
    "def rotate_ellipticities(e1, e2, rot_angle):\n",
    "        \"\"\"\n",
    "        Random rotate ellipticities e1 and e2 over\n",
    "        angles given in `rot_angle`, which is in\n",
    "        units of radians\n",
    "        \"\"\"\n",
    "\n",
    "        #Rotate galaxy shapes randomly\n",
    "        cos = np.cos(rot_angle)\n",
    "        sin = np.sin(rot_angle)\n",
    "\n",
    "        e1_rand = + e1 * cos + e2 * sin\n",
    "        e2_rand = - e1 * sin + e2 * cos\n",
    "\n",
    "        return e1_rand, e2_rand"
   ]
  },
  {
   "cell_type": "code",
   "execution_count": 5,
   "id": "97153c35-2159-49ab-8c84-ebe977aa2133",
   "metadata": {
    "tags": []
   },
   "outputs": [
    {
     "name": "stderr",
     "output_type": "stream",
     "text": [
      "/tmp/ipykernel_298935/4114472705.py:8: RuntimeWarning: invalid value encountered in log10\n",
      "  mag_r   = 30 - 2.5*np.log10(np.array(f['mcal_flux_noshear'])[:, 0])\n",
      "/tmp/ipykernel_298935/4114472705.py:9: RuntimeWarning: invalid value encountered in log10\n",
      "  mag_i   = 30 - 2.5*np.log10(np.array(f['mcal_flux_noshear'])[:, 1])\n",
      "/tmp/ipykernel_298935/4114472705.py:10: RuntimeWarning: invalid value encountered in log10\n",
      "  mag_z   = 30 - 2.5*np.log10(np.array(f['mcal_flux_noshear'])[:, 2])\n",
      "/tmp/ipykernel_298935/4114472705.py:26: RuntimeWarning: invalid value encountered in log10\n",
      "  Other_Mask = np.invert((T > 2) & (SNR < 30)) & np.invert((np.log10(T) < (22.25 - mag_r)/3.5) & (e1**2 + e2**2 > 0.8**2))\n"
     ]
    },
    {
     "name": "stdout",
     "output_type": "stream",
     "text": [
      "133507096 109339922 242858406 244200019 240073201\n",
      "TOTAL NUM 45407069\n"
     ]
    }
   ],
   "source": [
    "with h5py.File(catpath, 'r') as f:\n",
    "\n",
    "    ra      = np.array(f['RA'])\n",
    "    dec     = np.array(f['DEC'])\n",
    "    e1, e2  = np.array(f['mcal_g_noshear']).T\n",
    "    weight  = np.array(f['mcal_g_w'])\n",
    "\n",
    "    mag_r   = 30 - 2.5*np.log10(np.array(f['mcal_flux_noshear'])[:, 0])\n",
    "    mag_i   = 30 - 2.5*np.log10(np.array(f['mcal_flux_noshear'])[:, 1])\n",
    "    mag_z   = 30 - 2.5*np.log10(np.array(f['mcal_flux_noshear'])[:, 2])\n",
    "\n",
    "    SNR     = np.array(f['mcal_s2n_noshear'])\n",
    "    T_ratio = np.array(f['mcal_T_ratio_noshear'])\n",
    "    T       = np.array(f['mcal_T_noshear'])\n",
    "    flags   = np.array(f['mcal_flags'])\n",
    "\n",
    "    GOLD_Foreground  = hp.read_map(fgpath, dtype = int)\n",
    "    FLAGS_Foreground = GOLD_Foreground[hp.ang2pix(hp.npix2nside(GOLD_Foreground.size), ra, dec, lonlat = True)]\n",
    "\n",
    "    #Metacal cuts based on DES Y3 ones (from here: https://des.ncsa.illinois.edu/releases/y3a2/Y3key-catalogs)\n",
    "\n",
    "    SNR_Mask   = (SNR > 10) & (SNR < 1000)\n",
    "    Tratio_Mask= T_ratio > 0.5\n",
    "    T_Mask     = T < 10\n",
    "    Flag_Mask  = flags == 0\n",
    "    Other_Mask = np.invert((T > 2) & (SNR < 30)) & np.invert((np.log10(T) < (22.25 - mag_r)/3.5) & (e1**2 + e2**2 > 0.8**2))\n",
    "    GOLD_Mask  = FLAGS_Foreground == 0 #From gold catalog\n",
    "    SG_Mask    = np.array(f['sg_bdf']) >= 4 #Star-galaxy separator\n",
    "    Color_Mask = ((18 < mag_i) & (mag_i < 23.5) & \n",
    "                  (15 < mag_r) & (mag_r < 26) & \n",
    "                  (15 < mag_z) & (mag_z < 26) & \n",
    "                  (-1.5 < mag_r - mag_i) & (mag_r - mag_i < 4) & \n",
    "                  (-1.5 < mag_i - mag_z) & (mag_i - mag_z < 4)\n",
    "                 )\n",
    "\n",
    "    print(np.sum(SNR_Mask), np.sum(Tratio_Mask), np.sum(T_Mask), np.sum(Flag_Mask), np.sum(Other_Mask))\n",
    "\n",
    "    Mask = SNR_Mask & Tratio_Mask & T_Mask & Flag_Mask & Color_Mask & Other_Mask & GOLD_Mask & SG_Mask\n",
    "    print(\"TOTAL NUM\", np.sum(Mask))\n",
    "\n",
    "    e1  = e1[Mask]\n",
    "    e2  = -e2[Mask]\n",
    "    ra  = ra[Mask]\n",
    "    dec = dec[Mask]\n",
    "    #weight   = np.ones_like(weight[Mask])\n",
    "    weight = weight[Mask]"
   ]
  },
  {
   "cell_type": "code",
   "execution_count": 6,
   "id": "4fd449b1-3ce3-449d-a75f-ccd3fd3ab68e",
   "metadata": {
    "tags": []
   },
   "outputs": [
    {
     "name": "stderr",
     "output_type": "stream",
     "text": [
      "/tmp/ipykernel_298935/2127273188.py:9: RuntimeWarning: invalid value encountered in true_divide\n",
      "  map_e1 += np.bincount(pix,e1*weight,minlength=npix)/map_weight\n",
      "/tmp/ipykernel_298935/2127273188.py:10: RuntimeWarning: invalid value encountered in true_divide\n",
      "  map_e2 += np.bincount(pix,e2*weight,minlength=npix)/map_weight\n"
     ]
    }
   ],
   "source": [
    "pix = hp.nside2npix(nside)\n",
    "map_counts = np.zeros(npix)\n",
    "map_e1 = np.zeros(npix)\n",
    "map_e2 = np.zeros(npix)\n",
    "pix = hp.ang2pix(nside, ra, dec, lonlat=True)\n",
    "ind, counts = np.unique(pix, return_counts=True)\n",
    "map_weight = np.bincount(pix, weight, minlength=npix)\n",
    "# Note that we set response to 1. This shouldn't change the relative amplitude of C_ell\n",
    "map_e1 += np.bincount(pix,e1*weight,minlength=npix)/map_weight\n",
    "map_e2 += np.bincount(pix,e2*weight,minlength=npix)/map_weight\n",
    "map_e1[np.isnan(map_e1)] = 0\n",
    "map_e2[np.isnan(map_e2)] = 0\n",
    "mask = map_weight>0\n",
    "#mask = map_weight\n",
    "\n",
    "\n",
    "edge = (np.linspace(np.sqrt(8), np.sqrt(2048), 33)**2).astype(np.int_)\n",
    "b = nmt.NmtBin.from_edges(edge[:-1],edge[1:])\n",
    "ell_eff = b.get_effective_ells()\n",
    "f2 = nmt.NmtField(mask, [map_e1, map_e2])"
   ]
  },
  {
   "cell_type": "code",
   "execution_count": 18,
   "id": "9ba2f5f6-0aba-4839-bb4c-c6ff58114c7f",
   "metadata": {
    "tags": []
   },
   "outputs": [],
   "source": [
    "w = nmt.NmtWorkspace()\n",
    "w.compute_coupling_matrix(f2, f2, b)\n",
    "cl_coupled = nmt.compute_coupled_cell(f2, f2)\n",
    "cl_decoupled = w.decouple_cell(cl_coupled)"
   ]
  },
  {
   "cell_type": "code",
   "execution_count": 19,
   "id": "c6799318-e42e-4c7e-9a62-96f1208470ba",
   "metadata": {
    "tags": []
   },
   "outputs": [
    {
     "name": "stderr",
     "output_type": "stream",
     "text": [
      "100%|██████████| 50/50 [35:45<00:00, 42.91s/it]\n"
     ]
    },
    {
     "data": {
      "image/png": "[encoded data removed]",
      "text/plain": [
       "<Figure size 432x288 with 1 Axes>"
      ]
     },
     "metadata": {
      "needs_background": "light"
     },
     "output_type": "display_data"
    }
   ],
   "source": [
    "#np.save(f'/project2/chihway/jackie/decade/Bmode-DES/Cl_{fname[17:]}', cl_decoupled)\n",
    "\n",
    "N=50\n",
    "footprint = mask!=0\n",
    "BB_rand = []\n",
    "\n",
    "for j in tqdm.trange(N): \n",
    "\n",
    "    # generate random_samples\n",
    "    pix = hp.ang2pix(nside, ra, dec, lonlat=True)\n",
    "    rot_angle = np.random.default_rng(j).random(e1.size)*2*np.pi\n",
    "    e1_rot, e2_rot = rotate_ellipticities(e1, e2, rot_angle)\n",
    "\n",
    "    rand_e1 = np.zeros(npix)\n",
    "    rand_e2 = np.zeros(npix)\n",
    "    rand_e1[footprint] = np.bincount(pix,e1_rot*weight,minlength=npix)[footprint]/map_weight[footprint]\n",
    "    rand_e2[footprint] = np.bincount(pix,e2_rot*weight,minlength=npix)[footprint]/map_weight[footprint]\n",
    "    frand = nmt.NmtField(mask, [rand_e1, rand_e2])\n",
    "    BB_rand.append(w.decouple_cell(nmt.compute_coupled_cell(frand, frand)))\n",
    "\n",
    "BB_rand = np.array(BB_rand)   \n",
    "#np.save(f'/project2/chihway/jackie/decade/Bmode-DES/rand_{fname[17:]}', BB_rand)\n",
    "\n",
    "\n",
    "mean = np.mean(BB_rand[:,3,1:],axis=0)\n",
    "std = np.std(BB_rand[:,3,1:],axis=0)\n",
    "plt.errorbar(np.sqrt(ell_eff[1:]), 1e8*ell_eff[1:]*(cl_decoupled[3][1:]-mean), yerr=1e8*ell_eff[1:]*std,label='measured',fmt='.b')\n",
    "plt.plot(np.sqrt(ell_eff[1:]), 0*mean, color='tab:orange',label='radom mean')\n",
    "plt.legend()\n",
    "plt.xlabel(r'$\\sqrt{\\ell}$')\n",
    "plt.ylabel(r'$\\ell\\times C_\\ell^{BB}$')\n",
    "#plt.title(fname[17:-4])\n",
    "plt.show()"
   ]
  },
  {
   "cell_type": "code",
   "execution_count": null,
   "id": "b2cb21c9-0277-462a-b2c9-67d101fc74c1",
   "metadata": {},
   "outputs": [],
   "source": []
  },
  {
   "cell_type": "code",
   "execution_count": 20,
   "id": "dbf6826b-c401-42b0-b490-ac77e6f67d93",
   "metadata": {
    "tags": []
   },
   "outputs": [
    {
     "data": {
      "image/png": "[encoded data removed]",
      "text/plain": [
       "<Figure size 432x288 with 1 Axes>"
      ]
     },
     "metadata": {
      "needs_background": "light"
     },
     "output_type": "display_data"
    }
   ],
   "source": [
    "chi2 = np.round(np.sum((cl_decoupled[3][1:]-mean)**2/std**2),1)\n",
    "mean = np.mean(BB_rand[:,3,1:],axis=0)\n",
    "std = np.std(BB_rand[:,3,1:],axis=0)\n",
    "plt.errorbar(np.sqrt(ell_eff[1:]), 1e8*ell_eff[1:]*(cl_decoupled[3][1:]-mean), yerr=1e8*ell_eff[1:]*std,label='measured',fmt='.b')\n",
    "plt.plot(np.sqrt(ell_eff[1:]), 0*mean, color='tab:orange',label='random mean')\n",
    "plt.legend()\n",
    "plt.xlabel(r'$\\sqrt{\\ell}$')\n",
    "plt.ylabel(r'$\\ell\\times C_\\ell^{BB}$')\n",
    "plt.title(f'weight=`mcal_g_w_v2`, mask=binary, chi2={chi2}/32')\n",
    "plt.show()"
   ]
  },
  {
   "cell_type": "code",
   "execution_count": null,
   "id": "3c33ce70",
   "metadata": {},
   "outputs": [],
   "source": []
  },
  {
   "cell_type": "code",
   "execution_count": null,
   "id": "ba1b6a70-c5c5-4bd4-be55-4368c6e28942",
   "metadata": {},
   "outputs": [],
   "source": []
  }
 ],
 "metadata": {
  "kernelspec": {
   "display_name": "My-Conda-Env",
   "language": "python",
   "name": "my-conda-env"
  },
  "language_info": {
   "codemirror_mode": {
    "name": "ipython",
    "version": 3
   },
   "file_extension": ".py",
   "mimetype": "text/x-python",
   "name": "python",
   "nbconvert_exporter": "python",
   "pygments_lexer": "ipython3",
   "version": "3.8.5"
  }
 },
 "nbformat": 4,
 "nbformat_minor": 5
}
