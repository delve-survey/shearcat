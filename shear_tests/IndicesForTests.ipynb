{
 "cells": [
  {
   "cell_type": "code",
   "execution_count": 1,
   "id": "c6aa3bde",
   "metadata": {},
   "outputs": [],
   "source": [
    "import h5py\n",
    "import healpy as hp\n",
    "import numpy as np\n",
    "import os\n",
    "import matplotlib.pyplot as plt"
   ]
  },
  {
   "cell_type": "code",
   "execution_count": 2,
   "id": "f5827ece",
   "metadata": {},
   "outputs": [
    {
     "name": "stdout",
     "output_type": "stream",
     "text": [
      "385M -rw-rw-r-- 1 dhayaa pi-chihway 385M Nov  5 10:07 /project/chihway/dhayaa/DECADE/Foreground_Masks/GOLD_Ext0.05_Star5.fits\r\n",
      "385M -rw-rw-r-- 1 dhayaa pi-chihway 385M Nov  5 10:04 /project/chihway/dhayaa/DECADE/Foreground_Masks/GOLD_Ext0.1_Star5.fits\r\n",
      "385M -rw-rw-r-- 1 dhayaa pi-chihway 385M Nov  5 10:19 /project/chihway/dhayaa/DECADE/Foreground_Masks/GOLD_Ext0.2_Star10.fits\r\n",
      "385M -rw-rw-r-- 1 dhayaa pi-chihway 385M Nov  5 10:22 /project/chihway/dhayaa/DECADE/Foreground_Masks/GOLD_Ext0.2_Star20.fits\r\n",
      "385M -rw-rw-r-- 1 dhayaa pi-chihway 385M Nov  5 10:10 /project/chihway/dhayaa/DECADE/Foreground_Masks/GOLD_Ext0.2_Star3.fits\r\n",
      "385M -rw-rw-r-- 1 dhayaa pi-chihway 385M Nov  5 10:13 /project/chihway/dhayaa/DECADE/Foreground_Masks/GOLD_Ext0.2_Star4.fits\r\n",
      "385M -rw-rw-r-- 1 dhayaa pi-chihway 385M Nov  5 10:16 /project/chihway/dhayaa/DECADE/Foreground_Masks/GOLD_Ext0.2_Star5.fits\r\n",
      "385M -rw-rw-r-- 1 dhayaa pi-chihway 385M Nov  5 09:58 /project/chihway/dhayaa/DECADE/Foreground_Masks/GOLD_Ext0.3_Star5.fits\r\n",
      "385M -rw-rw-r-- 1 dhayaa pi-chihway 385M Nov  5 09:55 /project/chihway/dhayaa/DECADE/Foreground_Masks/GOLD_Ext0.4_Star5.fits\r\n"
     ]
    }
   ],
   "source": [
    "!ls -lsh /project/chihway/dhayaa/DECADE/Foreground_Masks/*"
   ]
  },
  {
   "cell_type": "code",
   "execution_count": 3,
   "id": "223da2f5",
   "metadata": {},
   "outputs": [
    {
     "name": "stdout",
     "output_type": "stream",
     "text": [
      "Ext0.3_Star5  Ext0.4_Star5\r\n"
     ]
    }
   ],
   "source": [
    "!ls /scratch/midway3/dhayaa/SHEARTESTS/"
   ]
  },
  {
   "cell_type": "code",
   "execution_count": 4,
   "id": "2a4565a5",
   "metadata": {},
   "outputs": [
    {
     "name": "stderr",
     "output_type": "stream",
     "text": [
      "mkdir: cannot create directory ‘/scratch/midway3/dhayaa/SHEARTESTS/Ext0.4_Star5’: File exists\n",
      "/scratch/local/jobs/10851023/ipykernel_4191796/1494271393.py:41: RuntimeWarning: invalid value encountered in true_divide\n",
      "  M = (f['FLUX_APER_8'][:]/f['FLUXERR_APER_8'][:] > 1)\n"
     ]
    },
    {
     "name": "stdout",
     "output_type": "stream",
     "text": [
      "CHANGING LENGTH 501848103 ---> 100000000\n",
      "DONE WITH Ext0.4_Star5\n"
     ]
    },
    {
     "name": "stderr",
     "output_type": "stream",
     "text": [
      "mkdir: cannot create directory ‘/scratch/midway3/dhayaa/SHEARTESTS/Ext0.3_Star5’: File exists\n"
     ]
    },
    {
     "name": "stdout",
     "output_type": "stream",
     "text": [
      "CHANGING LENGTH 500110260 ---> 100000000\n",
      "DONE WITH Ext0.3_Star5\n",
      "CHANGING LENGTH 492572209 ---> 100000000\n",
      "DONE WITH Ext0.2_Star5\n",
      "CHANGING LENGTH 450514981 ---> 100000000\n",
      "DONE WITH Ext0.1_Star5\n",
      "CHANGING LENGTH 290713689 ---> 100000000\n",
      "DONE WITH Ext0.05_Star5\n",
      "CHANGING LENGTH 394274499 ---> 100000000\n",
      "DONE WITH Ext0.2_Star3\n",
      "CHANGING LENGTH 451233237 ---> 100000000\n",
      "DONE WITH Ext0.2_Star4\n"
     ]
    },
    {
     "name": "stderr",
     "output_type": "stream",
     "text": [
      "mkdir: cannot create directory ‘/scratch/midway3/dhayaa/SHEARTESTS/Ext0.2_Star5’: File exists\n"
     ]
    },
    {
     "name": "stdout",
     "output_type": "stream",
     "text": [
      "CHANGING LENGTH 492572209 ---> 100000000\n",
      "DONE WITH Ext0.2_Star5\n",
      "CHANGING LENGTH 556845187 ---> 100000000\n",
      "DONE WITH Ext0.2_Star10\n",
      "CHANGING LENGTH 561033002 ---> 100000000\n",
      "DONE WITH Ext0.2_Star20\n"
     ]
    }
   ],
   "source": [
    "PATHS = ['/project/chihway/dhayaa/DECADE/Foreground_Masks/GOLD_Ext0.4_Star5.fits',\n",
    "         '/project/chihway/dhayaa/DECADE/Foreground_Masks/GOLD_Ext0.3_Star5.fits',\n",
    "         '/project/chihway/dhayaa/DECADE/Foreground_Masks/GOLD_Ext0.2_Star5.fits',\n",
    "         '/project/chihway/dhayaa/DECADE/Foreground_Masks/GOLD_Ext0.1_Star5.fits',\n",
    "         '/project/chihway/dhayaa/DECADE/Foreground_Masks/GOLD_Ext0.05_Star5.fits',\n",
    "         '/project/chihway/dhayaa/DECADE/Foreground_Masks/GOLD_Ext0.2_Star3.fits',\n",
    "         '/project/chihway/dhayaa/DECADE/Foreground_Masks/GOLD_Ext0.2_Star4.fits',\n",
    "         '/project/chihway/dhayaa/DECADE/Foreground_Masks/GOLD_Ext0.2_Star5.fits',\n",
    "         '/project/chihway/dhayaa/DECADE/Foreground_Masks/GOLD_Ext0.2_Star10.fits',\n",
    "         '/project/chihway/dhayaa/DECADE/Foreground_Masks/GOLD_Ext0.2_Star20.fits']\n",
    "\n",
    "NAMES = ['Ext0.4_Star5',\n",
    "         'Ext0.3_Star5',\n",
    "         'Ext0.2_Star5',\n",
    "         'Ext0.1_Star5',\n",
    "         'Ext0.05_Star5',\n",
    "         'Ext0.2_Star3',\n",
    "         'Ext0.2_Star4',\n",
    "         'Ext0.2_Star5',\n",
    "         'Ext0.2_Star10',\n",
    "         'Ext0.2_Star20']\n",
    "\n",
    "for NAME, PATH in zip(NAMES, PATHS):\n",
    "    \n",
    "    GOLD_Foreground  = hp.read_map(PATH, dtype = int)\n",
    "        \n",
    "    path = '/scratch/midway3/dhayaa/SHEARTESTS/%s' % NAME\n",
    "    os.system('mkdir %s' % path)\n",
    "    \n",
    "    with h5py.File('/project/chihway/data/decade/metacal_gold_combined_20231002.hdf', 'r') as f:\n",
    "        M = ((f['sg_bdf'][:] >= 4) & (f['mcal_s2n_noshear'][:] > 3) & \n",
    "             (f['mcal_T_ratio_noshear'][:] > 0.2) & (f['mcal_flags'][:] == 0))\n",
    "\n",
    "        FLAGS_Foreground = GOLD_Foreground[hp.ang2pix(hp.npix2nside(GOLD_Foreground.size), f['RA'][:], f['DEC'][:], lonlat = True)]\n",
    "\n",
    "        M = M & (FLAGS_Foreground ==  0)\n",
    "        np.save(path + '/shear_inds.npy', np.where(M)[0])\n",
    "\n",
    "\n",
    "    with h5py.File('/project/chihway/dhayaa/DECADE/star_psf_shapecatalog_20230510.hdf5', 'r') as f:\n",
    "        M = (f['FLUX_APER_8'][:]/f['FLUXERR_APER_8'][:] > 1)\n",
    "\n",
    "        FLAGS_Foreground = GOLD_Foreground[hp.ang2pix(hp.npix2nside(GOLD_Foreground.size), f['ra'][:], f['dec'][:], lonlat = True)]\n",
    "\n",
    "        M = M & (FLAGS_Foreground ==  0)\n",
    "        \n",
    "        inds = np.where(M)[0]\n",
    "        Max_size = 100_000_000\n",
    "        if len(inds) > Max_size:\n",
    "            inds = np.random.default_rng(42).choice(inds, size = Max_size, replace = False)\n",
    "            print(\"CHANGING LENGTH %d ---> %d\" % (np.sum(M), len(inds)))\n",
    "        \n",
    "        np.save(path + '/psf_inds.npy', inds)\n",
    "        \n",
    "        \n",
    "    JOB_TXT = \"\"\"#!/bin/bash\n",
    "#SBATCH --job-name ShearTests_%(NAME)s\n",
    "#SBATCH --partition=caslake\n",
    "#SBATCH --account=pi-chihway\n",
    "#SBATCH --nodes=1\n",
    "#SBATCH --ntasks-per-node=48\n",
    "#SBATCH --time=30:00:00\n",
    "#SBATCH --output=/home/dhayaa/DECADE/shearcat/shear_tests/runs/%(NAME)s.log\n",
    "#SBATCH --mail-user=dhayaa@uchicago.edu\n",
    "#SBATCH --mail-type=BEGIN,END\n",
    "\n",
    "#X=${TMPDIR}\n",
    "#echo $TMPDIR\n",
    "if [ \"$USER\" == \"dhayaa\" ]\n",
    "then\n",
    "    conda activate /project/chihway/dhayaa/MyEnvs_Midway3/shear\n",
    "fi\n",
    "\n",
    "shearcatalog=/project/chihway/data/decade/metacal_gold_combined_20230613.hdf\n",
    "psfcatalog=/project/chihway/dhayaa/DECADE/star_psf_shapecatalog_20230510.hdf5\n",
    "\n",
    "RUN_DIR=/home/dhayaa/DECADE/shearcat/shear_tests\n",
    "\n",
    "python -u $RUN_DIR/ShearTestRunner.py --psf_cat \"/project/chihway/dhayaa/DECADE/star_psf_shapecatalog_20230510.hdf5\" \\\\\n",
    "                                      --galaxy_cat \"/project/chihway/data/decade/metacal_gold_combined_20231002.hdf\" \\\\\n",
    "                                      --psf_cat_inds \"%(PSF_INDS)s\" \\\\\n",
    "                                      --galaxy_cat_inds \"%(SHEAR_INDS)s\" \\\\\n",
    "                                      --output_path \"%(OUTPUT)s\" \\\\\n",
    "                                      --sim_Cls_path \"/project/chihway/dhayaa/DECADE/cosmosis/Lucas_files/Kappa_Cls.txt\"\n",
    "\n",
    "    \"\"\"\n",
    "    \n",
    "    args = {'NAME' : NAME,\n",
    "            'PSF_INDS' : path + '/psf_inds.npy',\n",
    "            'SHEAR_INDS' : path + '/shear_inds.npy',\n",
    "            'OUTPUT' : path}\n",
    "    \n",
    "    with open('runs/job_%s.sh' % NAME, 'w') as f:\n",
    "        \n",
    "        f.write(JOB_TXT % args)\n",
    "\n",
    "    print(\"DONE WITH\", NAME)"
   ]
  },
  {
   "cell_type": "markdown",
   "id": "6647f9ba",
   "metadata": {},
   "source": [
    "# Check which component of mask is most important"
   ]
  },
  {
   "cell_type": "code",
   "execution_count": 5,
   "id": "5d0464e9",
   "metadata": {},
   "outputs": [
    {
     "name": "stderr",
     "output_type": "stream",
     "text": [
      "/scratch/local/jobs/10851023/ipykernel_4191796/3997682259.py:24: RuntimeWarning: invalid value encountered in true_divide\n",
      "  M = (f['FLUX_APER_8'][:]/f['FLUXERR_APER_8'][:] > 1)\n"
     ]
    },
    {
     "name": "stdout",
     "output_type": "stream",
     "text": [
      "CHANGING LENGTH 721323813 ---> 100000000\n",
      "DONE WITH GOLD_OnlyBit0\n",
      "CHANGING LENGTH 717013703 ---> 100000000\n",
      "DONE WITH GOLD_OnlyBit1\n",
      "CHANGING LENGTH 718287510 ---> 100000000\n",
      "DONE WITH GOLD_OnlyBit2\n",
      "CHANGING LENGTH 704195107 ---> 100000000\n",
      "DONE WITH GOLD_OnlyBit4\n",
      "CHANGING LENGTH 695707357 ---> 100000000\n",
      "DONE WITH GOLD_OnlyBit8\n",
      "CHANGING LENGTH 662159053 ---> 100000000\n",
      "DONE WITH GOLD_OnlyBit16\n",
      "CHANGING LENGTH 720495879 ---> 100000000\n",
      "DONE WITH GOLD_OnlyBit32\n",
      "CHANGING LENGTH 715949042 ---> 100000000\n",
      "DONE WITH GOLD_OnlyBit64\n",
      "CHANGING LENGTH 714754649 ---> 100000000\n",
      "DONE WITH GOLD_OnlyBit256\n",
      "CHANGING LENGTH 555503798 ---> 100000000\n",
      "DONE WITH GOLD_OnlyBit1024\n",
      "CHANGING LENGTH 629844847 ---> 100000000\n",
      "DONE WITH GOLD_OnlyBit2048\n",
      "CHANGING LENGTH 492572209 ---> 100000000\n",
      "DONE WITH GOLD_OnlyBit3455\n"
     ]
    }
   ],
   "source": [
    "BITS = [0, 1, 2, 4, 8, 16, 32, 64, 256, 1024, 2048]\n",
    "BITS.append(np.sum(BITS))\n",
    "\n",
    "for BIT in BITS:\n",
    "    \n",
    "        \n",
    "    NAME = 'GOLD_OnlyBit%d' % BIT\n",
    "    path = '/scratch/midway3/dhayaa/SHEARTESTS/%s' % NAME\n",
    "    os.system('mkdir %s' % path)\n",
    "    \n",
    "    GOLD_Foreground  = hp.read_map('/project/chihway/dhayaa/DECADE/Foreground_Masks/GOLD_Ext0.2_Star5.fits', dtype = int)\n",
    "    \n",
    "    with h5py.File('/project/chihway/data/decade/metacal_gold_combined_20231002.hdf', 'r') as f:\n",
    "        M = ((f['sg_bdf'][:] >= 4) & (f['mcal_s2n_noshear'][:] > 3) & \n",
    "             (f['mcal_T_ratio_noshear'][:] > 0.2) & (f['mcal_flags'][:] == 0))\n",
    "\n",
    "        FLAGS_Foreground = GOLD_Foreground[hp.ang2pix(hp.npix2nside(GOLD_Foreground.size), f['RA'][:], f['DEC'][:], lonlat = True)]\n",
    "\n",
    "        M = M & ((FLAGS_Foreground & BIT) == 0)\n",
    "        np.save(path + '/shear_inds.npy', np.where(M)[0])\n",
    "\n",
    "\n",
    "    with h5py.File('/project/chihway/dhayaa/DECADE/star_psf_shapecatalog_20230510.hdf5', 'r') as f:\n",
    "        M = (f['FLUX_APER_8'][:]/f['FLUXERR_APER_8'][:] > 1)\n",
    "\n",
    "        FLAGS_Foreground = GOLD_Foreground[hp.ang2pix(hp.npix2nside(GOLD_Foreground.size), f['ra'][:], f['dec'][:], lonlat = True)]\n",
    "\n",
    "        M = M & ((FLAGS_Foreground & BIT) == 0)\n",
    "        \n",
    "        inds = np.where(M)[0]\n",
    "        Max_size = 100_000_000\n",
    "        if len(inds) > Max_size:\n",
    "            inds = np.random.default_rng(42).choice(inds, size = Max_size, replace = False)\n",
    "            print(\"CHANGING LENGTH %d ---> %d\" % (np.sum(M), len(inds)))\n",
    "        \n",
    "        np.save(path + '/psf_inds.npy', inds)\n",
    "        \n",
    "        \n",
    "    JOB_TXT = \"\"\"#!/bin/bash\n",
    "#SBATCH --job-name ShearTests_%(NAME)s\n",
    "#SBATCH --partition=caslake\n",
    "#SBATCH --account=pi-chihway\n",
    "#SBATCH --nodes=1\n",
    "#SBATCH --ntasks-per-node=48\n",
    "#SBATCH --time=30:00:00\n",
    "#SBATCH --output=/home/dhayaa/DECADE/shearcat/shear_tests/runs/%(NAME)s.log\n",
    "#SBATCH --mail-user=dhayaa@uchicago.edu\n",
    "#SBATCH --mail-type=BEGIN,END\n",
    "\n",
    "#X=${TMPDIR}\n",
    "#echo $TMPDIR\n",
    "if [ \"$USER\" == \"dhayaa\" ]\n",
    "then\n",
    "    conda activate /project/chihway/dhayaa/MyEnvs_Midway3/shear\n",
    "fi\n",
    "\n",
    "shearcatalog=/project/chihway/data/decade/metacal_gold_combined_20230613.hdf\n",
    "psfcatalog=/project/chihway/dhayaa/DECADE/star_psf_shapecatalog_20230510.hdf5\n",
    "\n",
    "RUN_DIR=/home/dhayaa/DECADE/shearcat/shear_tests\n",
    "\n",
    "python -u $RUN_DIR/ShearTestRunner.py --psf_cat \"/project/chihway/dhayaa/DECADE/star_psf_shapecatalog_20230510.hdf5\" \\\\\n",
    "                                      --galaxy_cat \"/project/chihway/data/decade/metacal_gold_combined_20231002.hdf\" \\\\\n",
    "                                      --psf_cat_inds \"%(PSF_INDS)s\" \\\\\n",
    "                                      --galaxy_cat_inds \"%(SHEAR_INDS)s\" \\\\\n",
    "                                      --output_path \"%(OUTPUT)s\" \\\\\n",
    "                                      --sim_Cls_path \"/project/chihway/dhayaa/DECADE/cosmosis/Lucas_files/Kappa_Cls.txt\"\n",
    "\n",
    "    \"\"\"\n",
    "    \n",
    "    args = {'NAME' : NAME,\n",
    "            'PSF_INDS' : path + '/psf_inds.npy',\n",
    "            'SHEAR_INDS' : path + '/shear_inds.npy',\n",
    "            'OUTPUT' : path}\n",
    "    \n",
    "    with open('runs/job_%s.sh' % NAME, 'w') as f:\n",
    "        \n",
    "        f.write(JOB_TXT % args)\n",
    "\n",
    "    print(\"DONE WITH\", NAME)"
   ]
  },
  {
   "cell_type": "code",
   "execution_count": 6,
   "id": "91eb3422",
   "metadata": {},
   "outputs": [
    {
     "name": "stderr",
     "output_type": "stream",
     "text": [
      "/scratch/local/jobs/10851023/ipykernel_4191796/1975137130.py:24: RuntimeWarning: invalid value encountered in true_divide\n",
      "  M = (f['FLUX_APER_8'][:]/f['FLUXERR_APER_8'][:] > 1)\n"
     ]
    },
    {
     "name": "stdout",
     "output_type": "stream",
     "text": [
      "CHANGING LENGTH 228364164 ---> 100000000\n",
      "DONE WITH GOLD_WithoutBit1\n",
      "CHANGING LENGTH 228425366 ---> 100000000\n",
      "DONE WITH GOLD_WithoutBit2\n",
      "CHANGING LENGTH 225145550 ---> 100000000\n",
      "DONE WITH GOLD_WithoutBit4\n",
      "CHANGING LENGTH 227711340 ---> 100000000\n",
      "DONE WITH GOLD_WithoutBit8\n",
      "CHANGING LENGTH 209221895 ---> 100000000\n",
      "DONE WITH GOLD_WithoutBit16\n",
      "CHANGING LENGTH 228044310 ---> 100000000\n",
      "DONE WITH GOLD_WithoutBit32\n",
      "CHANGING LENGTH 225066163 ---> 100000000\n",
      "DONE WITH GOLD_WithoutBit64\n",
      "CHANGING LENGTH 225642931 ---> 100000000\n",
      "DONE WITH GOLD_WithoutBit256\n",
      "CHANGING LENGTH 160189994 ---> 100000000\n",
      "DONE WITH GOLD_WithoutBit1024\n",
      "CHANGING LENGTH 218689549 ---> 100000000\n",
      "DONE WITH GOLD_WithoutBit2048\n"
     ]
    }
   ],
   "source": [
    "BITS = [1, 2, 4, 8, 16, 32, 64, 256, 1024, 2048]\n",
    "\n",
    "TOTAL = np.sum(BITS)\n",
    "\n",
    "for BIT in BITS:\n",
    "    \n",
    "#     GOLD_Foreground  = hp.read_map('/project/chihway/dhayaa/DECADE/Foreground_Masks/GOLD_Ext0.2_Star5.fits', dtype = int)\n",
    "        \n",
    "    NAME = 'GOLD_WithoutBit%d' % BIT\n",
    "    path = '/scratch/midway3/dhayaa/SHEARTESTS/%s' % NAME\n",
    "    os.system('mkdir %s' % path)\n",
    "    \n",
    "    with h5py.File('/project/chihway/data/decade/metacal_gold_combined_20231002.hdf', 'r') as f:\n",
    "        M = ((f['sg_bdf'][:] >= 4) & (f['mcal_s2n_noshear'][:] > 3) & \n",
    "             (f['mcal_T_ratio_noshear'][:] > 0.2) & (f['mcal_flags'][:] == 0))\n",
    "\n",
    "        FLAGS_Foreground = GOLD_Foreground[hp.ang2pix(hp.npix2nside(GOLD_Foreground.size), f['RA'][:], f['DEC'][:], lonlat = True)]\n",
    "\n",
    "        M = M & ((FLAGS_Foreground & (TOTAL - BIT)) != 0)\n",
    "        np.save(path + '/shear_inds.npy', np.where(M)[0])\n",
    "\n",
    "\n",
    "    with h5py.File('/project/chihway/dhayaa/DECADE/star_psf_shapecatalog_20230510.hdf5', 'r') as f:\n",
    "        M = (f['FLUX_APER_8'][:]/f['FLUXERR_APER_8'][:] > 1)\n",
    "\n",
    "        FLAGS_Foreground = GOLD_Foreground[hp.ang2pix(hp.npix2nside(GOLD_Foreground.size), f['ra'][:], f['dec'][:], lonlat = True)]\n",
    "\n",
    "        M = M & ((FLAGS_Foreground & (TOTAL - BIT)) != 0)\n",
    "        \n",
    "        inds = np.where(M)[0]\n",
    "        Max_size = 100_000_000\n",
    "        if len(inds) > Max_size:\n",
    "            inds = np.random.default_rng(42).choice(inds, size = Max_size, replace = False)\n",
    "            print(\"CHANGING LENGTH %d ---> %d\" % (np.sum(M), len(inds)))\n",
    "        \n",
    "        np.save(path + '/psf_inds.npy', inds)\n",
    "        \n",
    "        \n",
    "    JOB_TXT = \"\"\"#!/bin/bash\n",
    "#SBATCH --job-name ShearTests_%(NAME)s\n",
    "#SBATCH --partition=caslake\n",
    "#SBATCH --account=pi-chihway\n",
    "#SBATCH --nodes=1\n",
    "#SBATCH --ntasks-per-node=48\n",
    "#SBATCH --time=30:00:00\n",
    "#SBATCH --output=/home/dhayaa/DECADE/shearcat/shear_tests/runs/%(NAME)s.log\n",
    "#SBATCH --mail-user=dhayaa@uchicago.edu\n",
    "#SBATCH --mail-type=BEGIN,END\n",
    "\n",
    "#X=${TMPDIR}\n",
    "#echo $TMPDIR\n",
    "if [ \"$USER\" == \"dhayaa\" ]\n",
    "then\n",
    "    conda activate /project/chihway/dhayaa/MyEnvs_Midway3/shear\n",
    "fi\n",
    "\n",
    "shearcatalog=/project/chihway/data/decade/metacal_gold_combined_20230613.hdf\n",
    "psfcatalog=/project/chihway/dhayaa/DECADE/star_psf_shapecatalog_20230510.hdf5\n",
    "\n",
    "RUN_DIR=/home/dhayaa/DECADE/shearcat/shear_tests\n",
    "\n",
    "python -u $RUN_DIR/ShearTestRunner.py --psf_cat \"/project/chihway/dhayaa/DECADE/star_psf_shapecatalog_20230510.hdf5\" \\\\\n",
    "                                      --galaxy_cat \"/project/chihway/data/decade/metacal_gold_combined_20231002.hdf\" \\\\\n",
    "                                      --psf_cat_inds \"%(PSF_INDS)s\" \\\\\n",
    "                                      --galaxy_cat_inds \"%(SHEAR_INDS)s\" \\\\\n",
    "                                      --output_path \"%(OUTPUT)s\" \\\\\n",
    "                                      --sim_Cls_path \"/project/chihway/dhayaa/DECADE/cosmosis/Lucas_files/Kappa_Cls.txt\"\n",
    "\n",
    "    \"\"\"\n",
    "    \n",
    "    args = {'NAME' : NAME,\n",
    "            'PSF_INDS' : path + '/psf_inds.npy',\n",
    "            'SHEAR_INDS' : path + '/shear_inds.npy',\n",
    "            'OUTPUT' : path}\n",
    "    \n",
    "    with open('runs/job_%s.sh' % NAME, 'w') as f:\n",
    "        \n",
    "        f.write(JOB_TXT % args)\n",
    "\n",
    "    print(\"DONE WITH\", NAME)"
   ]
  },
  {
   "cell_type": "markdown",
   "id": "7bd70ba8",
   "metadata": {},
   "source": [
    "# DEC differences, due to airmass"
   ]
  },
  {
   "cell_type": "code",
   "execution_count": 8,
   "id": "436c7279",
   "metadata": {},
   "outputs": [
    {
     "name": "stderr",
     "output_type": "stream",
     "text": [
      "mkdir: cannot create directory ‘/scratch/midway3/dhayaa/SHEARTESTS/GOLD_DECpatch0’: File exists\n",
      "/scratch/local/jobs/10851023/ipykernel_4191796/2936430452.py:23: RuntimeWarning: invalid value encountered in true_divide\n",
      "  M = (f['FLUX_APER_8'][:]/f['FLUXERR_APER_8'][:] > 1)\n"
     ]
    },
    {
     "name": "stdout",
     "output_type": "stream",
     "text": [
      "NOT CHANGING LENGTH 25873022 ---> 25873022\n",
      "DONE WITH GOLD_DECpatch0\n"
     ]
    },
    {
     "name": "stderr",
     "output_type": "stream",
     "text": [
      "mkdir: cannot create directory ‘/scratch/midway3/dhayaa/SHEARTESTS/GOLD_DECpatch1’: File exists\n"
     ]
    },
    {
     "name": "stdout",
     "output_type": "stream",
     "text": [
      "CHANGING LENGTH 233634704 ---> 100000000\n",
      "DONE WITH GOLD_DECpatch1\n"
     ]
    },
    {
     "name": "stderr",
     "output_type": "stream",
     "text": [
      "mkdir: cannot create directory ‘/scratch/midway3/dhayaa/SHEARTESTS/GOLD_DECpatch2’: File exists\n"
     ]
    },
    {
     "name": "stdout",
     "output_type": "stream",
     "text": [
      "CHANGING LENGTH 232808231 ---> 100000000\n",
      "DONE WITH GOLD_DECpatch2\n"
     ]
    }
   ],
   "source": [
    "GOLD_Foreground  = hp.read_map('/project/chihway/dhayaa/DECADE/Foreground_Masks/GOLD_Ext0.2_Star5.fits', dtype = int)\n",
    "\n",
    "for i in range(3):\n",
    "    \n",
    "    NAME = 'GOLD_DECpatch%d' % i\n",
    "    path = '/scratch/midway3/dhayaa/SHEARTESTS/%s' % NAME\n",
    "    os.system('mkdir %s' % path)\n",
    "\n",
    "    with h5py.File('/project/chihway/data/decade/metacal_gold_combined_20231002.hdf', 'r') as f:\n",
    "        M = ((f['sg_bdf'][:] >= 4) & (f['mcal_s2n_noshear'][:] > 3) & \n",
    "             (f['mcal_T_ratio_noshear'][:] > 0.2) & (f['mcal_flags'][:] == 0))\n",
    "\n",
    "        FLAGS_Foreground = GOLD_Foreground[hp.ang2pix(hp.npix2nside(GOLD_Foreground.size), f['RA'][:], f['DEC'][:], lonlat = True)]\n",
    "\n",
    "        DEC_list = np.quantile(f['DEC'][:], [0, 1/3, 2/3,1])\n",
    "\n",
    "\n",
    "        M = M & (FLAGS_Foreground == 0)  & ((f['DEC'][:] > DEC_list[i]) & (f['DEC'][:] < DEC_list[i +1]))\n",
    "        np.save(path + '/shear_inds.npy', np.where(M)[0])\n",
    "\n",
    "\n",
    "    with h5py.File('/project/chihway/dhayaa/DECADE/star_psf_shapecatalog_20230510.hdf5', 'r') as f:\n",
    "        M = (f['FLUX_APER_8'][:]/f['FLUXERR_APER_8'][:] > 1)\n",
    "\n",
    "        FLAGS_Foreground = GOLD_Foreground[hp.ang2pix(hp.npix2nside(GOLD_Foreground.size), f['ra'][:], f['dec'][:], lonlat = True)]\n",
    "\n",
    "        M = M & (FLAGS_Foreground == 0)  & ((f['dec'][:] > DEC_list[i]) & (f['dec'][:] < DEC_list[i +1]))\n",
    "        \n",
    "        inds = np.where(M)[0]\n",
    "        Max_size = 100_000_000\n",
    "        if len(inds) > Max_size:\n",
    "            inds = np.random.default_rng(42).choice(inds, size = Max_size, replace = False)\n",
    "            print(\"CHANGING LENGTH %d ---> %d\" % (np.sum(M), len(inds)))\n",
    "        else:\n",
    "            print(\"NOT CHANGING LENGTH %d ---> %d\" % (np.sum(M), len(inds)))\n",
    "        \n",
    "        np.save(path + '/psf_inds.npy', inds)\n",
    "\n",
    "\n",
    "    JOB_TXT = \"\"\"#!/bin/bash\n",
    "#SBATCH --job-name ShearTests_%(NAME)s\n",
    "#SBATCH --partition=caslake\n",
    "#SBATCH --account=pi-chihway\n",
    "#SBATCH --nodes=1\n",
    "#SBATCH --ntasks-per-node=48\n",
    "#SBATCH --time=30:00:00\n",
    "#SBATCH --output=/home/dhayaa/DECADE/shearcat/shear_tests/runs/%(NAME)s.log\n",
    "#SBATCH --mail-user=dhayaa@uchicago.edu\n",
    "#SBATCH --mail-type=BEGIN,END\n",
    "\n",
    "#X=${TMPDIR}\n",
    "#echo $TMPDIR\n",
    "if [ \"$USER\" == \"dhayaa\" ]\n",
    "then\n",
    "    conda activate /project/chihway/dhayaa/MyEnvs_Midway3/shear\n",
    "fi\n",
    "\n",
    "shearcatalog=/project/chihway/data/decade/metacal_gold_combined_20230613.hdf\n",
    "psfcatalog=/project/chihway/dhayaa/DECADE/star_psf_shapecatalog_20230510.hdf5\n",
    "\n",
    "RUN_DIR=/home/dhayaa/DECADE/shearcat/shear_tests\n",
    "\n",
    "python -u $RUN_DIR/ShearTestRunner.py --psf_cat \"/project/chihway/dhayaa/DECADE/star_psf_shapecatalog_20230510.hdf5\" \\\\\n",
    "                                      --galaxy_cat \"/project/chihway/data/decade/metacal_gold_combined_20231002.hdf\" \\\\\n",
    "                                      --psf_cat_inds \"%(PSF_INDS)s\" \\\\\n",
    "                                      --galaxy_cat_inds \"%(SHEAR_INDS)s\" \\\\\n",
    "                                      --output_path \"%(OUTPUT)s\" \\\\\n",
    "                                      --sim_Cls_path \"/project/chihway/dhayaa/DECADE/cosmosis/Lucas_files/Kappa_Cls.txt\"\n",
    "\n",
    "    \"\"\"\n",
    "\n",
    "    args = {'NAME' : NAME,\n",
    "            'PSF_INDS' : path + '/psf_inds.npy',\n",
    "            'SHEAR_INDS' : path + '/shear_inds.npy',\n",
    "            'OUTPUT' : path}\n",
    "\n",
    "    with open('runs/job_%s.sh' % NAME, 'w') as f:\n",
    "\n",
    "        f.write(JOB_TXT % args)\n",
    "\n",
    "    print(\"DONE WITH\", NAME)"
   ]
  },
  {
   "cell_type": "markdown",
   "id": "c26eb0ba",
   "metadata": {},
   "source": [
    "# Dependence on stellar density"
   ]
  },
  {
   "cell_type": "code",
   "execution_count": 9,
   "id": "0f5ed96f",
   "metadata": {},
   "outputs": [],
   "source": [
    "STARS = hp.read_map('/home/dhayaa/DECADE/foreground_mask/data/stellar_density/gaia_stellar_density_G21_equ_n128_v0.fits')\n",
    "STARS = hp.ud_grade(STARS, 4096)\n",
    "AAAA = np.quantile(STARS[GOLD_Foreground == 0], [0, 1/3, 2/3,1])"
   ]
  },
  {
   "cell_type": "code",
   "execution_count": 10,
   "id": "ff49d049",
   "metadata": {},
   "outputs": [
    {
     "data": {
      "text/plain": [
       "array([0.4673242 , 0.89890403, 1.7197001 , 4.99891281])"
      ]
     },
     "execution_count": 10,
     "metadata": {},
     "output_type": "execute_result"
    }
   ],
   "source": [
    "AAAA"
   ]
  },
  {
   "cell_type": "code",
   "execution_count": 11,
   "id": "42281d53",
   "metadata": {},
   "outputs": [
    {
     "name": "stdout",
     "output_type": "stream",
     "text": [
      "0.18525506059328714\n"
     ]
    },
    {
     "data": {
      "image/png": "[encoded data removed]",
      "text/plain": [
       "<Figure size 850x540 with 2 Axes>"
      ]
     },
     "metadata": {},
     "output_type": "display_data"
    },
    {
     "name": "stdout",
     "output_type": "stream",
     "text": [
      "0.18484119574228922\n"
     ]
    },
    {
     "data": {
      "image/png": "[encoded data removed]",
      "text/plain": [
       "<Figure size 850x540 with 2 Axes>"
      ]
     },
     "metadata": {},
     "output_type": "display_data"
    },
    {
     "name": "stdout",
     "output_type": "stream",
     "text": [
      "0.1851478318373362\n"
     ]
    },
    {
     "data": {
      "image/png": "[encoded data removed]",
      "text/plain": [
       "<Figure size 850x540 with 2 Axes>"
      ]
     },
     "metadata": {},
     "output_type": "display_data"
    }
   ],
   "source": [
    "for i in range(3):\n",
    "    maaa = (STARS > AAAA[i]) & (STARS < AAAA[i + 1]) & (GOLD_Foreground == 0)\n",
    "    hp.mollview(maaa)\n",
    "    print(np.average(maaa))\n",
    "    plt.show()"
   ]
  },
  {
   "cell_type": "code",
   "execution_count": 13,
   "id": "cab2104d",
   "metadata": {},
   "outputs": [
    {
     "name": "stderr",
     "output_type": "stream",
     "text": [
      "mkdir: cannot create directory ‘/scratch/midway3/dhayaa/SHEARTESTS/GOLD_nstarpatch0’: File exists\n"
     ]
    },
    {
     "name": "stdout",
     "output_type": "stream",
     "text": [
      "0 55276189\n"
     ]
    },
    {
     "name": "stderr",
     "output_type": "stream",
     "text": [
      "/scratch/local/jobs/10851023/ipykernel_4191796/2127192339.py:26: RuntimeWarning: invalid value encountered in true_divide\n",
      "  M = (f['FLUX_APER_8'][:]/f['FLUXERR_APER_8'][:] > 1)\n"
     ]
    },
    {
     "name": "stdout",
     "output_type": "stream",
     "text": [
      "NOT CHANGING LENGTH 69268782 ---> 69268782\n",
      "0 69268782\n",
      "DONE WITH GOLD_nstarpatch0\n"
     ]
    },
    {
     "name": "stderr",
     "output_type": "stream",
     "text": [
      "mkdir: cannot create directory ‘/scratch/midway3/dhayaa/SHEARTESTS/GOLD_nstarpatch1’: File exists\n"
     ]
    },
    {
     "name": "stdout",
     "output_type": "stream",
     "text": [
      "1 82499441\n",
      "CHANGING LENGTH 197220794 ---> 100000000\n",
      "1 197220794\n",
      "DONE WITH GOLD_nstarpatch1\n"
     ]
    },
    {
     "name": "stderr",
     "output_type": "stream",
     "text": [
      "mkdir: cannot create directory ‘/scratch/midway3/dhayaa/SHEARTESTS/GOLD_nstarpatch2’: File exists\n"
     ]
    },
    {
     "name": "stdout",
     "output_type": "stream",
     "text": [
      "2 73498457\n",
      "CHANGING LENGTH 225346113 ---> 100000000\n",
      "2 225346113\n",
      "DONE WITH GOLD_nstarpatch2\n"
     ]
    }
   ],
   "source": [
    "GOLD_Foreground  = hp.read_map('/project/chihway/dhayaa/DECADE/Foreground_Masks/GOLD_Ext0.2_Star5.fits', dtype = int)\n",
    "# STARS = hp.read_map('/home/dhayaa/DECADE/foreground_mask/data/stellar_density/gaia_stellar_density_G21_equ_n128_v0.fits')\n",
    "# STARS = hp.ud_grade(STARS, 4096)\n",
    "\n",
    "for i in range(3):\n",
    "    \n",
    "    NAME = 'GOLD_nstarpatch%d' % i\n",
    "    path = '/scratch/midway3/dhayaa/SHEARTESTS/%s' % NAME\n",
    "    os.system('mkdir %s' % path)\n",
    "\n",
    "    with h5py.File('/project/chihway/data/decade/metacal_gold_combined_20231002.hdf', 'r') as f:\n",
    "        M = ((f['sg_bdf'][:] >= 4) & (f['mcal_s2n_noshear'][:] > 3) & \n",
    "             (f['mcal_T_ratio_noshear'][:] > 0.2) & (f['mcal_flags'][:] == 0))\n",
    "\n",
    "        FLAGS_Foreground = GOLD_Foreground[hp.ang2pix(hp.npix2nside(GOLD_Foreground.size), f['RA'][:], f['DEC'][:], lonlat = True)]\n",
    "        STARS_DENSITY    = STARS[hp.ang2pix(hp.npix2nside(STARS.size), f['RA'][:], f['DEC'][:], lonlat = True)]\n",
    "        STAR_list = np.quantile(STARS[GOLD_Foreground == 0], [0, 1/3, 2/3,1])\n",
    "\n",
    "\n",
    "        M = M & (FLAGS_Foreground == 0)  & ((STARS_DENSITY > STAR_list[i]) & (STARS_DENSITY < STAR_list[i +1]))\n",
    "        np.save(path + '/shear_inds.npy', np.where(M)[0])\n",
    "        print(i, M.sum())\n",
    "\n",
    "\n",
    "    with h5py.File('/project/chihway/dhayaa/DECADE/star_psf_shapecatalog_20230510.hdf5', 'r') as f:\n",
    "        M = (f['FLUX_APER_8'][:]/f['FLUXERR_APER_8'][:] > 1)\n",
    "\n",
    "        FLAGS_Foreground = GOLD_Foreground[hp.ang2pix(hp.npix2nside(GOLD_Foreground.size), f['ra'][:], f['dec'][:], lonlat = True)]\n",
    "        STARS_DENSITY    = STARS[hp.ang2pix(hp.npix2nside(STARS.size), f['ra'][:], f['dec'][:], lonlat = True)]\n",
    "        \n",
    "        M = M & (FLAGS_Foreground == 0)  & ((STARS_DENSITY > STAR_list[i]) & (STARS_DENSITY < STAR_list[i +1]))\n",
    "        \n",
    "        inds = np.where(M)[0]\n",
    "        Max_size = 100_000_000\n",
    "        if len(inds) > Max_size:\n",
    "            inds = np.random.default_rng(42).choice(inds, size = Max_size, replace = False)\n",
    "            print(\"CHANGING LENGTH %d ---> %d\" % (np.sum(M), len(inds)))\n",
    "        else:\n",
    "            print(\"NOT CHANGING LENGTH %d ---> %d\" % (np.sum(M), len(inds)))\n",
    "        \n",
    "        np.save(path + '/psf_inds.npy', inds)\n",
    "        print(i, M.sum())\n",
    "\n",
    "\n",
    "    JOB_TXT = \"\"\"#!/bin/bash\n",
    "#SBATCH --job-name ShearTests_%(NAME)s\n",
    "#SBATCH --partition=caslake\n",
    "#SBATCH --account=pi-chihway\n",
    "#SBATCH --nodes=1\n",
    "#SBATCH --ntasks-per-node=48\n",
    "#SBATCH --time=30:00:00\n",
    "#SBATCH --output=/home/dhayaa/DECADE/shearcat/shear_tests/runs/%(NAME)s.log\n",
    "#SBATCH --mail-user=dhayaa@uchicago.edu\n",
    "#SBATCH --mail-type=BEGIN,END\n",
    "\n",
    "#X=${TMPDIR}\n",
    "#echo $TMPDIR\n",
    "if [ \"$USER\" == \"dhayaa\" ]\n",
    "then\n",
    "    conda activate /project/chihway/dhayaa/MyEnvs_Midway3/shear\n",
    "fi\n",
    "\n",
    "shearcatalog=/project/chihway/data/decade/metacal_gold_combined_20230613.hdf\n",
    "psfcatalog=/project/chihway/dhayaa/DECADE/star_psf_shapecatalog_20230510.hdf5\n",
    "\n",
    "RUN_DIR=/home/dhayaa/DECADE/shearcat/shear_tests\n",
    "\n",
    "python -u $RUN_DIR/ShearTestRunner.py --psf_cat \"/project/chihway/dhayaa/DECADE/star_psf_shapecatalog_20230510.hdf5\" \\\\\n",
    "                                      --galaxy_cat \"/project/chihway/data/decade/metacal_gold_combined_20231002.hdf\" \\\\\n",
    "                                      --psf_cat_inds \"%(PSF_INDS)s\" \\\\\n",
    "                                      --galaxy_cat_inds \"%(SHEAR_INDS)s\" \\\\\n",
    "                                      --output_path \"%(OUTPUT)s\" \\\\\n",
    "                                      --sim_Cls_path \"/project/chihway/dhayaa/DECADE/cosmosis/Lucas_files/Kappa_Cls.txt\"\n",
    "\n",
    "    \"\"\"\n",
    "\n",
    "    args = {'NAME' : NAME,\n",
    "            'PSF_INDS' : path + '/psf_inds.npy',\n",
    "            'SHEAR_INDS' : path + '/shear_inds.npy',\n",
    "            'OUTPUT' : path}\n",
    "\n",
    "    with open('runs/job_%s.sh' % NAME, 'w') as f:\n",
    "\n",
    "        f.write(JOB_TXT % args)\n",
    "\n",
    "    print(\"DONE WITH\", NAME)"
   ]
  }
 ],
 "metadata": {
  "kernelspec": {
   "display_name": "shear",
   "language": "python",
   "name": "shear"
  },
  "language_info": {
   "codemirror_mode": {
    "name": "ipython",
    "version": 3
   },
   "file_extension": ".py",
   "mimetype": "text/x-python",
   "name": "python",
   "nbconvert_exporter": "python",
   "pygments_lexer": "ipython3",
   "version": "3.9.16"
  }
 },
 "nbformat": 4,
 "nbformat_minor": 5
}
