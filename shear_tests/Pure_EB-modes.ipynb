{
 "cells": [
  {
   "cell_type": "code",
   "execution_count": 2,
   "id": "0dd65565",
   "metadata": {},
   "outputs": [],
   "source": [
    "import numpy as np\n",
    "import matplotlib.pyplot as plt\n",
    "import hybrideb #https://github.com/beckermr/hybrideb\n",
    "from tqdm import tqdm"
   ]
  },
  {
   "cell_type": "code",
   "execution_count": null,
   "id": "6fdbd740",
   "metadata": {},
   "outputs": [],
   "source": [
    "import hybrideb\n",
    "\n",
    "theta_min = 2.5 # arcmin\n",
    "theta_max = 250 # arcmin\n",
    "Ntheta = 1000 # number of bins in log(theta)\n",
    "\n",
    "heb = hybrideb.HybridEB(theta_min, theta_max, Ntheta)\n",
    "beb = hybrideb.BinEB(theta_min, theta_max, Ntheta)\n",
    "\n",
    "geb = hybrideb.GaussEB(beb, heb)\n",
    "\n",
    "res = geb(3)  # grab the third estimator\n",
    "theta_rad = res[0]\n",
    "# X+ = np.sum((fp*xip + fm*xim)/2)\n",
    "# X- = np.sum((fp*xip - fm*xim)/2)\n",
    "fp = res[1]\n",
    "fm = res[2]\n",
    "\n",
    "# X+ = \\int ell factors(ell) (wp * Pe + wm * Pb)\n",
    "# X- = \\int ell factors(ell) (wm * Pe + wp * Pb)\n",
    "ell = res[3]\n",
    "wp = res[4]\n",
    "wm = res[5]"
   ]
  },
  {
   "cell_type": "code",
   "execution_count": null,
   "id": "b271cc2f",
   "metadata": {},
   "outputs": [],
   "source": [
    "np.save('EB_Coefficients_DESscales', np.array([geb(i) for i in range(20)]))"
   ]
  },
  {
   "cell_type": "code",
   "execution_count": null,
   "id": "f478c188",
   "metadata": {},
   "outputs": [],
   "source": [
    "plt.yscale('log')\n",
    "plt.xscale('log')\n",
    "x = np.loadtxt('Shear_treecorr.txt')\n",
    "\n",
    "plt.yticks([], [])\n",
    "\n",
    "plt.plot(x[:, 0], x[:, 3])\n",
    "\n",
    "plt.xlabel('arcmin', size = 20)\n",
    "plt.ylabel('Nope  :)', size = 20)\n",
    "plt.title('xi+', size = 20)"
   ]
  },
  {
   "cell_type": "code",
   "execution_count": null,
   "id": "941baf16",
   "metadata": {},
   "outputs": [],
   "source": [
    "#Plot the coefficients\n",
    "for i in range(20):\n",
    "    \n",
    "    plt.figure(figsize = (12,3))\n",
    "    plt.xscale('log')\n",
    "    res = geb(i)\n",
    "    plt.plot(res[0] * 180/np.pi * 60, res[2])\n",
    "    plt.plot(res[0] * 180/np.pi * 60, res[1])\n",
    "    plt.show()"
   ]
  },
  {
   "cell_type": "code",
   "execution_count": null,
   "id": "6bb6ba3c",
   "metadata": {},
   "outputs": [],
   "source": [
    "x = np.loadtxt('shear_treecorr.txt')\n",
    "\n",
    "d = np.concatenate([x[:, 3], x[:, 4]])\n",
    "cov = np.loadtxt('shear_treecorr.txt')\n",
    "\n",
    "x = np.random.multivariate_normal(mean = d, cov = cov, size = 1000)\n",
    "\n",
    "\n",
    "xip_MC = x[:, :1000]\n",
    "xim_MC = x[:, 1000:]\n",
    "\n",
    "\n",
    "En = np.zeros([xip_MC.shape[0], 20])\n",
    "Bn = np.zeros([xip_MC.shape[0], 20])\n",
    "\n",
    "mean_ell = np.zeros(20)\n",
    "\n",
    "geb_saved = np.load('EB_Coefficients.npy', allow_pickle = True)\n",
    "\n",
    "for j in tqdm(range(xip_MC.shape[0])):\n",
    "    for i in range(20):\n",
    "\n",
    "        res = geb_saved[i]\n",
    "\n",
    "        # X+ = np.sum((fp*xip + fm*xim)/2)\n",
    "        # X- = np.sum((fp*xip - fm*xim)/2)\n",
    "        fp = res[1]\n",
    "        fm = res[2]\n",
    "        \n",
    "        Mask = (res[0]*180/np.pi * 60 < 250) & (res[0]*180/np.pi * 60 > 2.5)\n",
    "        \n",
    "#         fp[~Mask] = 0\n",
    "#         fm[~Mask] = 0\n",
    "\n",
    "        En[j, i] = np.sum(fp*xip_MC[j] + fm*xim_MC[j])/2\n",
    "        Bn[j, i] = np.sum(fp*xip_MC[j] - fm*xim_MC[j])/2\n",
    "        \n",
    "        if j == 0:\n",
    "            mean_ell[i] = np.sum(res[3]*res[4])/np.sum(res[4])\n",
    "\n",
    "En = np.array(En)\n",
    "Bn = np.array(Bn)"
   ]
  },
  {
   "cell_type": "code",
   "execution_count": null,
   "id": "e00a4d1d",
   "metadata": {},
   "outputs": [],
   "source": [
    "plt.fill_between(range(20), np.percentile(Bn, 16, 0), np.percentile(Bn, 84, 0), alpha = 0.4, label = 'X-')\n",
    "plt.fill_between(range(20), np.percentile(En, 16, 0), np.percentile(En, 84, 0), alpha = 0.4, label = 'X+')\n",
    "plt.yticks([], [])\n",
    "plt.xticks(np.arange(0, 20, 2), np.arange(0, 20, 2));\n",
    "plt.axhline(0, color = 'k')\n",
    "plt.legend(fontsize = 18)\n",
    "\n",
    "plt.xlabel('Mode index, i', size = 20)\n",
    "plt.ylabel('Nope  :)', size = 20)\n",
    "\n",
    "cov = np.cov(Bn.T)\n",
    "inv_cov = np.linalg.inv(cov)\n",
    "\n",
    "diff = np.mean(Bn, axis = 0)\n",
    "\n",
    "chi2 = diff @ inv_cov @ diff\n",
    "\n",
    "plt.title(r'$\\chi^2/N_{\\rm dof} = %0.1f/%d \\,\\,(%0.2f\\sigma)$' % (chi2, Bn.shape[1], chi2/Bn.shape[1]), size = 20)"
   ]
  }
 ],
 "metadata": {
  "kernelspec": {
   "display_name": "shear",
   "language": "python",
   "name": "shear"
  },
  "language_info": {
   "codemirror_mode": {
    "name": "ipython",
    "version": 3
   },
   "file_extension": ".py",
   "mimetype": "text/x-python",
   "name": "python",
   "nbconvert_exporter": "python",
   "pygments_lexer": "ipython3",
   "version": "3.9.16"
  }
 },
 "nbformat": 4,
 "nbformat_minor": 5
}
