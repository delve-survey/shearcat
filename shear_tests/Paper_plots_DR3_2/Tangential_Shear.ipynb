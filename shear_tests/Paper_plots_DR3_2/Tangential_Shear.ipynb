{
 "cells": [
  {
   "cell_type": "code",
   "execution_count": 1,
   "id": "dc96044b",
   "metadata": {},
   "outputs": [],
   "source": [
    "import numpy as np\n",
    "import matplotlib.pyplot as plt\n",
    "import glob, os\n",
    "\n",
    "from scipy import optimize, stats"
   ]
  },
  {
   "cell_type": "code",
   "execution_count": 2,
   "id": "a3d27e2e",
   "metadata": {},
   "outputs": [],
   "source": [
    "plt.rcParams[\"axes.linewidth\"]  = 1.0\n",
    "plt.rcParams[\"xtick.major.size\"]  = 10\n",
    "plt.rcParams[\"xtick.minor.size\"]  = 5\n",
    "plt.rcParams[\"ytick.major.size\"]  = 10\n",
    "plt.rcParams[\"ytick.minor.size\"]  = 5\n",
    "plt.rcParams[\"xtick.direction\"]  = \"in\"\n",
    "plt.rcParams[\"ytick.direction\"]  = \"in\"\n",
    "plt.rcParams[\"legend.frameon\"] = 'False'\n",
    "plt.rcParams['figure.figsize'] = [10, 10]\n",
    "plt.rc('text', usetex=True)\n",
    "plt.rc('font', family='serif', size=13)\n",
    "\n",
    "import os\n",
    "if os.environ['USER'] == 'dhayaa':\n",
    "    os.environ['PATH'] = f\"{os.environ['PATH']}:/software/texlive-2022-el8-x86_64/bin/x86_64-linux/\"\n",
    "\n",
    "    \n",
    "COLORS = [\"f07167\",\"219ebc\",\"c767ac\",\"ffba0a\",\"59a270\"]\n",
    "COLORS = ['#' + c if c[0] != '#' else c for c in COLORS ]\n",
    "\n",
    "from cycler import cycler\n",
    "\n",
    "# Update the default prop_cycle\n",
    "plt.rcParams['axes.prop_cycle'] = cycler(color=COLORS)"
   ]
  },
  {
   "cell_type": "markdown",
   "id": "8c9b1096",
   "metadata": {},
   "source": [
    "# Load tables"
   ]
  },
  {
   "cell_type": "code",
   "execution_count": 3,
   "id": "cd9a37f6",
   "metadata": {},
   "outputs": [],
   "source": [
    "DIR = '/scratch/midway3/dhayaa/SHEARTESTS_20241219/FIDUCIAL/'"
   ]
  },
  {
   "cell_type": "code",
   "execution_count": 6,
   "id": "819fbe91",
   "metadata": {},
   "outputs": [
    {
     "name": "stdout",
     "output_type": "stream",
     "text": [
      "----------BRIGHT STARS----------\n",
      "P-val: 0.06863933219518004\n",
      "Chi2, Chi2/ndof: 36.198646176539334 1.4479458470615734\n",
      "--------------------------------\n",
      "\n",
      "\n",
      "----------FAINT STARS----------\n",
      "P-val: 0.6988742767326139\n",
      "Chi2, Chi2/ndof: 20.88734477641821 0.8354937910567284\n",
      "--------------------------------\n",
      "\n",
      "\n",
      "----------FIELD CENTER----------\n",
      "P-val: 0.08176987935496416\n",
      "Chi2, Chi2/ndof: 35.36692946766259 1.4146771787065036\n",
      "--------------------------------\n",
      "\n",
      "\n"
     ]
    },
    {
     "data": {
      "image/png": "[encoded data removed]",
      "text/plain": [
       "<Figure size 500x350 with 2 Axes>"
      ]
     },
     "metadata": {},
     "output_type": "display_data"
    }
   ],
   "source": [
    "import matplotlib.pyplot as plt\n",
    "\n",
    "fig, ax = plt.subplots(2, 1, figsize = (5,3.5), sharex = True)\n",
    "\n",
    "plt.subplots_adjust(hspace = 0.05)\n",
    "plt.xscale('log')\n",
    "\n",
    "X = np.loadtxt(DIR + '/starshears_bright_treecorr.txt')\n",
    "Y = np.loadtxt(DIR + '/starshears_bright_rands_treecorr.txt')\n",
    "Z = np.loadtxt(DIR + '/starshears_bright_cov_treecorr.txt')[:25,:25]\n",
    "\n",
    "NJK = 150\n",
    "hartlap  = ((NJK - 25 - 2) / (NJK -  1))\n",
    "dodelson = 1 / (1 + (25 - 3) * (NJK - 25 - 2) / (NJK - 25 - 1) / (NJK - 25 - 4) )\n",
    "d = (X[:, 3] - Y[:, 3])\n",
    "inv = np.linalg.inv(Z) * hartlap * dodelson\n",
    "chi2 = d @ inv @ d\n",
    "print(\"----------BRIGHT STARS----------\")\n",
    "print(\"P-val:\", 1 - stats.chi2(df = len(d)).cdf(chi2))\n",
    "print(\"Chi2, Chi2/ndof:\", chi2, chi2/len(d))\n",
    "print(\"--------------------------------\\n\\n\")\n",
    "\n",
    "\n",
    "ax[0].scatter(X[:, 0], 1e5 * (X - Y)[:, 3], lw = 0, s=16, color = COLORS[0], label = r'$m_X < 16.5$')\n",
    "ax[0].errorbar(X[:, 0], 1e5 * (X - Y)[:, 3], yerr = 1e5 * (X)[:, 5], fmt = 'none', color = COLORS[0], lw = 0, elinewidth = 1)\n",
    "\n",
    "\n",
    "    # ax.flatten()[i].scatter(x[:, 0] * (1 + 0.05), np.abs(coeffs[i]) * np.abs(x[:, 3]), s=13, label = 'SNR $>$ 60', color = COLORS[1])\n",
    "\n",
    "    # ax.flatten()[i].errorbar(x[:, 0] * (1 + 0.05), np.abs(coeffs[i]) * np.abs(x[:, 3]), yerr = np.abs(coeffs[i]) * x[:, 7], \n",
    "    #                          alpha = 1, fmt = 'none', color = COLORS[1], lw = 0, elinewidth = 1)\n",
    "\n",
    "\n",
    "\n",
    "X = np.loadtxt(DIR + '/starshears_faint_treecorr.txt')\n",
    "Y = np.loadtxt(DIR + '/starshears_faint_rands_treecorr.txt')\n",
    "Z = np.loadtxt(DIR + '/starshears_faint_cov_treecorr.txt')[:25,:25]\n",
    "\n",
    "d = (X[:, 3] - Y[:, 3])\n",
    "inv = np.linalg.inv(Z) * hartlap * dodelson\n",
    "\n",
    "chi2 = d @ inv @ d\n",
    "\n",
    "print(\"----------FAINT STARS----------\")\n",
    "print(\"P-val:\", 1 - stats.chi2(df = len(d)).cdf(chi2))\n",
    "print(\"Chi2, Chi2/ndof:\", chi2, chi2/len(d))\n",
    "print(\"--------------------------------\\n\\n\")\n",
    "\n",
    "# plt.scatter(X[:, 0], (X - Y)[:, 3], s = 100)\n",
    "# ax[0].errorbar(X[:, 0] * (1 + 0.05), 1e5 * (X - Y)[:, 3], yerr = 1e5 * (X)[:, 5], lw = 0, elinewidth = 4, color = COLORS[1], label = r'$m_X > 16.5$')\n",
    "\n",
    "ax[0].scatter(X[:, 0] * (1 + 0.05), 1e5 * (X - Y)[:, 3], lw = 0, s=16, color = COLORS[1], label = r'$m_X > 16.5$')\n",
    "ax[0].errorbar(X[:, 0] * (1 + 0.05), 1e5 * (X - Y)[:, 3], yerr = 1e5 * (X)[:, 5], fmt = 'none', color = COLORS[1], lw = 0, elinewidth = 1)\n",
    "\n",
    "\n",
    "X = np.loadtxt(DIR + '/fieldcenter_treecorr.txt')\n",
    "Y = np.loadtxt(DIR + '/fieldcenter_rands_treecorr.txt')\n",
    "Z = np.loadtxt(DIR + '/fieldcenter_cov_treecorr.txt')[:25,:25]\n",
    "\n",
    "d = (X[:, 3] - Y[:, 3])\n",
    "inv = np.linalg.inv(Z) * hartlap * dodelson\n",
    "\n",
    "chi2 = d @ inv @ d\n",
    "\n",
    "print(\"----------FIELD CENTER----------\")\n",
    "print(\"P-val:\", 1 - stats.chi2(df = len(d)).cdf(chi2))\n",
    "print(\"Chi2, Chi2/ndof:\", chi2, chi2/len(d))\n",
    "print(\"--------------------------------\\n\\n\")\n",
    "\n",
    "# plt.scatter(X[:, 0], (X - Y)[:, 3], s = 100)\n",
    "# ax[1].errorbar(X[:, 0], 1e3 * (X - Y)[:, 3], yerr = 1e3 * (X)[:, 5], lw = 0, elinewidth = 4, color = COLORS[4], label = r'Field centers')\n",
    "\n",
    "ax[1].scatter(X[:, 0], 1e3 * (X - Y)[:, 3], lw = 0, s=16, color = COLORS[4], label = r'Field centers')\n",
    "ax[1].errorbar(X[:, 0], 1e3 * (X - Y)[:, 3], yerr = 1e3 * (X)[:, 5], fmt = 'none', color = COLORS[4], lw = 0, elinewidth = 1)\n",
    "\n",
    "\n",
    "ax[0].set_ylabel(r'$\\gamma_{\\rm t}$ [$10^{-5}$]', size = 13)\n",
    "ax[1].set_ylabel(r'$\\gamma_{\\rm t}$ [$10^{-3}$]', size = 13)\n",
    "ax[1].set_xlabel(r'$\\theta$ [arcmin]', size = 13)\n",
    "\n",
    "ax[0].legend(fontsize = 13, frameon = False, loc = 'lower right')\n",
    "ax[1].legend(fontsize = 13, frameon = False, loc = 'lower right')\n",
    "ax[0].axhline(0, color = 'k', ls = '--', alpha = 0.3)\n",
    "ax[1].axhline(0, color = 'k', ls = '--', alpha = 0.3)\n",
    "\n",
    "ax[0].set_xlim(2,300)\n",
    "ax[1].set_xlim(2,300)\n",
    "\n",
    "plt.savefig('./gammat.pdf', dpi = 300, bbox_inches = 'tight')\n",
    "plt.show()"
   ]
  },
  {
   "cell_type": "markdown",
   "id": "cc4d970b",
   "metadata": {},
   "source": [
    "# Cov"
   ]
  },
  {
   "cell_type": "code",
   "execution_count": 5,
   "id": "abf128d8",
   "metadata": {},
   "outputs": [
    {
     "data": {
      "image/png": "[encoded data removed]",
      "text/plain": [
       "<Figure size 500x400 with 2 Axes>"
      ]
     },
     "metadata": {},
     "output_type": "display_data"
    }
   ],
   "source": [
    "Z = np.loadtxt(DIR + '/starshears_faint_cov_treecorr.txt')[:25,:25]\n",
    "\n",
    "Z = Z / np.sqrt(np.outer(np.diagonal(Z), np.diagonal(Z)))\n",
    "\n",
    "plt.figure(figsize = (5,4))\n",
    "plt.imshow(Z, vmin = -1, vmax = 1)\n",
    "plt.colorbar()\n",
    "plt.show()"
   ]
  }
 ],
 "metadata": {
  "kernelspec": {
   "display_name": "shear",
   "language": "python",
   "name": "shear"
  },
  "language_info": {
   "codemirror_mode": {
    "name": "ipython",
    "version": 3
   },
   "file_extension": ".py",
   "mimetype": "text/x-python",
   "name": "python",
   "nbconvert_exporter": "python",
   "pygments_lexer": "ipython3",
   "version": "3.9.16"
  }
 },
 "nbformat": 4,
 "nbformat_minor": 5
}
