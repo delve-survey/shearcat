{
 "cells": [
  {
   "cell_type": "code",
   "execution_count": 12,
   "id": "34ec39ad",
   "metadata": {},
   "outputs": [
    {
     "name": "stdout",
     "output_type": "stream",
     "text": [
      "%pylab is deprecated, use %matplotlib inline and import the required libraries.\n",
      "Populating the interactive namespace from numpy and matplotlib\n"
     ]
    }
   ],
   "source": [
    "import sys\n",
    "import numpy as np\n",
    "import astropy.io.fits as pf\n",
    "from astropy.table import Table, vstack\n",
    "import pylab as mplot\n",
    "import yaml\n",
    "import h5py\n",
    "import healpy as hp\n",
    "import scipy\n",
    "from scipy import interpolate\n",
    "\n",
    "%pylab inline"
   ]
  },
  {
   "cell_type": "code",
   "execution_count": 13,
   "id": "2ef51b1c",
   "metadata": {},
   "outputs": [],
   "source": [
    "tag = '0613'\n",
    "project_dir = '/project/chihway/data/decade/'"
   ]
  },
  {
   "cell_type": "code",
   "execution_count": 14,
   "id": "657e77f2",
   "metadata": {},
   "outputs": [
    {
     "name": "stdout",
     "output_type": "stream",
     "text": [
      "<KeysViewHDF5 ['BDF_FLUX_ERR_G', 'BDF_FLUX_ERR_I', 'BDF_FLUX_ERR_R', 'BDF_FLUX_ERR_Z', 'BDF_FLUX_G', 'BDF_FLUX_I', 'BDF_FLUX_R', 'BDF_FLUX_Z', 'BDF_S2N', 'BDF_T', 'COADD_OBJECT_ID', 'DEC', 'FLAGS_FOREGROUND', 'FLUXERR_AUTO_G', 'FLUXERR_AUTO_I', 'FLUXERR_AUTO_R', 'FLUXERR_AUTO_Z', 'FLUX_AUTO_G', 'FLUX_AUTO_I', 'FLUX_AUTO_R', 'FLUX_AUTO_Z', 'FLUX_RADIUS_G', 'FLUX_RADIUS_I', 'FLUX_RADIUS_R', 'FLUX_RADIUS_Z', 'Ncutouts_raw', 'RA', 'badfrac', 'id', 'mcal_T_1m', 'mcal_T_1p', 'mcal_T_2m', 'mcal_T_2p', 'mcal_T_noshear', 'mcal_T_ratio_1m', 'mcal_T_ratio_1p', 'mcal_T_ratio_2m', 'mcal_T_ratio_2p', 'mcal_T_ratio_noshear', 'mcal_flags', 'mcal_flux_1m', 'mcal_flux_1p', 'mcal_flux_2m', 'mcal_flux_2p', 'mcal_flux_err_1m', 'mcal_flux_err_1p', 'mcal_flux_err_2m', 'mcal_flux_err_2p', 'mcal_flux_err_noshear', 'mcal_flux_noshear', 'mcal_g_1m', 'mcal_g_1p', 'mcal_g_2m', 'mcal_g_2p', 'mcal_g_cov_1m', 'mcal_g_cov_1p', 'mcal_g_cov_2m', 'mcal_g_cov_2p', 'mcal_g_cov_noshear', 'mcal_g_noshear', 'mcal_g_w', 'mcal_g_w_v2', 'mcal_psf_T_noshear', 'mcal_psf_g_noshear', 'mcal_s2n_1m', 'mcal_s2n_1p', 'mcal_s2n_2m', 'mcal_s2n_2p', 'mcal_s2n_noshear', 'sg_bdf', 'x', 'y']>\n"
     ]
    }
   ],
   "source": [
    "with h5py.File(project_dir+'metacal_gold_combined_2023'+tag+'.hdf', 'r') as h5r:\n",
    "\n",
    "    print(h5r.keys())\n",
    "    ids = h5r['COADD_OBJECT_ID'][:]"
   ]
  },
  {
   "cell_type": "code",
   "execution_count": 15,
   "id": "d453f8e4",
   "metadata": {},
   "outputs": [],
   "source": [
    "tomo = np.load('/project/chihway/raulteixeira/data/BPZ+SOM_mcal_gold_wide_26x26_ids+cells+fluxes_TomoBins.npz')"
   ]
  },
  {
   "cell_type": "code",
   "execution_count": 16,
   "id": "061e33c4",
   "metadata": {},
   "outputs": [
    {
     "data": {
      "text/plain": [
       "(47341776,)"
      ]
     },
     "execution_count": 16,
     "metadata": {},
     "output_type": "execute_result"
    }
   ],
   "source": [
    "tomo['arr_0'].shape\n",
    "\n",
    "#['COADD_OBJECT_ID', 'FLUX_R', 'FLUX_ERR_R', 'FLUX_I', 'FLUX_ERR_I',\n",
    "#        'FLUX_Z', 'FLUX_ERR_Z', 'cells', 'CHI_SQ', 'ID', 'M_0', 'ODDS', 'T_B',\n",
    "#        'T_ML', 'Z_B', 'Z_B_MAX', 'Z_B_MIN', 'Z_MEAN', 'Z_ML', 'Z_SAMP',\n",
    "#        'Z_SIG', 'MAG_R', 'MAG_I', 'MAG_Z', 'TomoBin']"
   ]
  },
  {
   "cell_type": "code",
   "execution_count": 17,
   "id": "f9bea12f",
   "metadata": {},
   "outputs": [
    {
     "data": {
      "text/plain": [
       "244200019"
      ]
     },
     "execution_count": 17,
     "metadata": {},
     "output_type": "execute_result"
    }
   ],
   "source": [
    "len(ids)"
   ]
  },
  {
   "cell_type": "code",
   "execution_count": 18,
   "id": "55d7ca49",
   "metadata": {},
   "outputs": [
    {
     "name": "stderr",
     "output_type": "stream",
     "text": [
      "/home/chihway/ipykernel_1072544/2547016843.py:13: RuntimeWarning: invalid value encountered in log10\n",
      "  mag_r = -2.5*np.log10(flux_r)+30\n",
      "/home/chihway/ipykernel_1072544/2547016843.py:14: RuntimeWarning: invalid value encountered in log10\n",
      "  mag_i = -2.5*np.log10(flux_i)+30\n",
      "/home/chihway/ipykernel_1072544/2547016843.py:15: RuntimeWarning: invalid value encountered in log10\n",
      "  mag_z = -2.5*np.log10(flux_z)+30\n",
      "/home/chihway/ipykernel_1072544/2547016843.py:29: RuntimeWarning: invalid value encountered in log10\n",
      "  Other_Mask = np.invert((T > 2) & (s2n < 30)) & np.invert((np.log10(T) < (22.25 - mag_r)/3.5) & (g1**2 + g2**2 > 0.8**2))\n"
     ]
    }
   ],
   "source": [
    "# first get mask total\n",
    "\n",
    "with h5py.File(project_dir+'metacal_gold_combined_2023'+tag+'.hdf', 'r') as h5r:\n",
    "    size_ratio = h5r['mcal_T_ratio_noshear'][:]\n",
    "    s2n = h5r['mcal_s2n_noshear'][:]\n",
    "    sg = h5r['sg_bdf'][:] \n",
    "    fg = h5r['FLAGS_FOREGROUND'][:] \n",
    "    T = h5r['mcal_T_noshear'][:]\n",
    "    mcal_flags = h5r['mcal_flags'][:]\n",
    "    g1, g2  = h5r['mcal_g_noshear'][:].T\n",
    "    flux_r, flux_i, flux_z = h5r['mcal_flux_noshear'][:].T\n",
    "\n",
    "mag_r = -2.5*np.log10(flux_r)+30\n",
    "mag_i = -2.5*np.log10(flux_i)+30\n",
    "mag_z = -2.5*np.log10(flux_z)+30\n",
    "\n",
    "# PZ mask\n",
    "mcal_pz_mask = ((mag_i < 23.5) & (mag_i > 18) & \n",
    "                    (mag_r < 26)   & (mag_r > 15) & \n",
    "                    (mag_z < 26)   & (mag_z > 15) & \n",
    "                    (mag_r - mag_i < 4)   & (mag_r - mag_i > -1.5) & \n",
    "                    (mag_i - mag_z < 4)   & (mag_i - mag_z > -1.5))\n",
    "\n",
    "# Metacal cuts based on DES Y3 ones (from here: https://des.ncsa.illinois.edu/releases/y3a2/Y3key-catalogs)\n",
    "SNR_Mask   = (s2n > 10) & (s2n < 1000)\n",
    "Tratio_Mask= size_ratio > 0.5\n",
    "T_Mask = T < 10\n",
    "Flag_Mask = (mcal_flags == 0)\n",
    "Other_Mask = np.invert((T > 2) & (s2n < 30)) & np.invert((np.log10(T) < (22.25 - mag_r)/3.5) & (g1**2 + g2**2 > 0.8**2))\n",
    "SG_Mask = (sg>=4)\n",
    "FG_Mask = (fg==0)\n",
    "\n",
    "mask_total = mcal_pz_mask & SNR_Mask & Tratio_Mask & T_Mask & Flag_Mask & Other_Mask & SG_Mask & FG_Mask\n",
    "\n",
    "del size_ratio, s2n, sg, fg, T, mcal_flags, g1, g2, flux_r, flux_i, flux_z, mag_r, mag_i, mag_z\n",
    "del mcal_pz_mask, SNR_Mask, Tratio_Mask, T_Mask, Flag_Mask, Other_Mask, SG_Mask"
   ]
  },
  {
   "cell_type": "code",
   "execution_count": 19,
   "id": "09fe4a93",
   "metadata": {},
   "outputs": [
    {
     "data": {
      "text/plain": [
       "47349243"
      ]
     },
     "execution_count": 19,
     "metadata": {},
     "output_type": "execute_result"
    }
   ],
   "source": [
    "len(ids[mask_total])"
   ]
  },
  {
   "cell_type": "code",
   "execution_count": 20,
   "id": "25f2653d",
   "metadata": {},
   "outputs": [
    {
     "name": "stdout",
     "output_type": "stream",
     "text": [
      "ra\n",
      "dec\n",
      "w\n",
      "g\n"
     ]
    }
   ],
   "source": [
    "with h5py.File(project_dir+'metacal_gold_combined_2023'+tag+'.hdf', 'r') as h5r:\n",
    "\n",
    "#     print(h5r.keys())\n",
    "    ra = h5r['RA'][:]\n",
    "    print('ra')\n",
    "    dec = h5r['DEC'][:]\n",
    "    print('dec')\n",
    "    w = h5r['mcal_g_w_v2'][:]   \n",
    "    print('w')\n",
    "    g1, g2  = h5r['mcal_g_noshear'][:].T\n",
    "    print('g')"
   ]
  },
  {
   "cell_type": "code",
   "execution_count": 21,
   "id": "25bb0613",
   "metadata": {},
   "outputs": [],
   "source": [
    "ra = ra[mask_total]\n",
    "dec = dec[mask_total]\n",
    "w = w[mask_total]\n",
    "g1 = g1[mask_total]\n",
    "g2 = g2[mask_total]"
   ]
  },
  {
   "cell_type": "code",
   "execution_count": 22,
   "id": "ded48d16",
   "metadata": {},
   "outputs": [],
   "source": [
    "ids_tomo = tomo['arr_0']['COADD_OBJECT_ID']\n",
    "tomo_tomo = tomo['arr_0']['TomoBin']\n",
    "z_samp_tomo = tomo['arr_0']['Z_SAMP']\n",
    "\n"
   ]
  },
  {
   "cell_type": "code",
   "execution_count": 23,
   "id": "ad03c11f",
   "metadata": {},
   "outputs": [
    {
     "data": {
      "image/png": "[encoded data removed]",
      "text/plain": [
       "<Figure size 640x480 with 1 Axes>"
      ]
     },
     "metadata": {},
     "output_type": "display_data"
    }
   ],
   "source": [
    "#Lucas' modifications below will save the nzs to cosmocov-ready format\n",
    "d_bins={}\n",
    "for i in range(4):\n",
    "    mask_bin = (tomo_tomo == i+1)\n",
    "    z_bin = z_samp_tomo[mask_bin]\n",
    "    #saving to a dictionary:\n",
    "    bins_z_,edges_z_ = np.histogram(z_bin,bins=80,range=[0,2.5],density=True)\n",
    "    mid_z_ = 0.5*(edges_z_[1:]+edges_z_[:-1])\n",
    "    d_bins['bin%d'%i]=[mid_z_,bins_z_]\n",
    "    #plot\n",
    "    mplot.hist(z_bin, range=(0,2.5), bins=80, histtype='step')\n",
    "\n",
    "outfile_z_ = open('delve_nzs_%s.nz'%tag,'w')\n",
    "for i in range(len(d_bins['bin0'][0])):\n",
    "    outfile_z_.write('%f %1.6e %1.6e %1.6e %1.6e\\n'%(d_bins['bin0'][0][i],\n",
    "                                            d_bins['bin0'][1][i],\n",
    "                                            d_bins['bin1'][1][i],\n",
    "                                            d_bins['bin2'][1][i],\n",
    "                                            d_bins['bin3'][1][i]))\n",
    "outfile_z_.close()\n",
    "del d_bins"
   ]
  },
  {
   "cell_type": "code",
   "execution_count": 24,
   "id": "21b0888b",
   "metadata": {},
   "outputs": [
    {
     "name": "stdout",
     "output_type": "stream",
     "text": [
      "47341776\n"
     ]
    }
   ],
   "source": [
    "# match tomo and metacal (there's a small number of missing galaxies in the tomo file)\n",
    "\n",
    "mask_tomo = np.in1d(ids[mask_total], ids_tomo)\n",
    "ids = ids[mask_total][mask_tomo]\n",
    "ra = ra[mask_tomo]\n",
    "dec = dec[mask_tomo]\n",
    "w = w[mask_tomo]\n",
    "g1 = g1[mask_tomo]\n",
    "g2 = g2[mask_tomo]\n",
    "\n",
    "print(len(ids))"
   ]
  },
  {
   "cell_type": "code",
   "execution_count": 25,
   "id": "9757362a",
   "metadata": {},
   "outputs": [],
   "source": [
    "# reorder by ids\n",
    "\n",
    "X = np.argsort(ids)\n",
    "ids = ids[X]\n",
    "ra = ra[X]\n",
    "dec = dec[X]\n",
    "\n",
    "Y = np.argsort(ids_tomo)\n",
    "ids_tomo = ids_tomo[Y]\n",
    "tomo_tomo = tomo_tomo[Y]\n",
    "z_samp_tomo = z_samp_tomo[Y]"
   ]
  },
  {
   "cell_type": "code",
   "execution_count": 26,
   "id": "b3bcc90c",
   "metadata": {},
   "outputs": [
    {
     "name": "stdout",
     "output_type": "stream",
     "text": [
      "[4 2 2 ... 2 4 3]\n",
      "[6901809260 6901809285 6901809304 ... 7255613797 7255613815 7255613822]\n",
      "[6901809260 6901809285 6901809304 ... 7255613797 7255613815 7255613822]\n"
     ]
    }
   ],
   "source": [
    "print(tomo_tomo)\n",
    "print(ids)\n",
    "print(ids_tomo)"
   ]
  },
  {
   "cell_type": "code",
   "execution_count": 27,
   "id": "9838926c",
   "metadata": {},
   "outputs": [
    {
     "name": "stdout",
     "output_type": "stream",
     "text": [
      "area 2376.2550507403184 deg^2\n",
      "total 5.534125357981384 /arcmin^2\n"
     ]
    }
   ],
   "source": [
    "nside = 4096\n",
    "map_counts = np.zeros(hp.nside2npix(nside))\n",
    "\n",
    "phi = ra/180*np.pi\n",
    "theta = (90.-dec)/180*np.pi\n",
    "\n",
    "pix = hp.ang2pix(nside, theta, phi)\n",
    "\n",
    "for i in range(len(pix)):\n",
    "    map_counts[pix[i]] += 1\n",
    "    \n",
    "area = len(map_counts[map_counts>0])/len(map_counts)*4*np.pi*(180./np.pi)**2*60*60\n",
    "print('area', area/60/60, 'deg^2')\n",
    "\n",
    "print('total', len(ra)/area, '/arcmin^2')"
   ]
  },
  {
   "cell_type": "code",
   "execution_count": 28,
   "id": "9348af71",
   "metadata": {},
   "outputs": [],
   "source": [
    "# use mean response for everything, this is from CalculateNeff notebook\n",
    "# R11 0.7443824304923087 R11s 0.047189013967600654\n",
    "# R22 0.7455737932558067 R22s 0.04767254335307269\n",
    "# R11tot 0.7915714444599093 R22tot 0.7932463366088794"
   ]
  },
  {
   "cell_type": "code",
   "execution_count": 29,
   "id": "74865d4d",
   "metadata": {},
   "outputs": [],
   "source": [
    "def neff_H12(w, A):\n",
    "    return 1./A * (np.sum(w)**2) / (np.sum(w**2))\n",
    "\n",
    "def sigmae2_H12(w, g1, R1, g2, R2, neff, A):\n",
    "    return 0.5*((np.sum(w**2*(g1/R1)**2)/(np.sum(w))**2)\n",
    "                        +(np.sum(w**2*(g2/R2)**2)/(np.sum(w))**2))*(A*neff)\n",
    "\n",
    "\n",
    "R1 = 0.7915714444599093\n",
    "R2 = 0.7932463366088794"
   ]
  },
  {
   "cell_type": "code",
   "execution_count": 30,
   "id": "95a7da02",
   "metadata": {},
   "outputs": [
    {
     "name": "stdout",
     "output_type": "stream",
     "text": [
      "Bin     total ngal    raw ngal(/arcmin^2)  neff(/arcmin^2)     sigmae \n",
      "======================================================================\n",
      "1\t11793578\t \t1.37863\t\t1.14119\t\t0.23765\n",
      "2\t11859295\t \t1.38631\t\t1.14746\t\t0.23764\n",
      "3\t11797811\t \t1.37913\t\t1.14160\t\t0.23756\n",
      "4\t11891092\t \t1.39003\t\t1.15051\t\t0.23760\n"
     ]
    }
   ],
   "source": [
    "print(\"Bin     total ngal    raw ngal(/arcmin^2)  neff(/arcmin^2)     sigmae \")\n",
    "print(\"======================================================================\")\n",
    "for i in range(4):\n",
    "    mask_bin = (tomo_tomo == i+1)\n",
    "    w_bin = w[mask_bin]\n",
    "    g1_bin = g1[mask_bin]\n",
    "    g2_bin = g2[mask_bin]\n",
    "    \n",
    "    neff = neff_H12(w_bin, area)\n",
    "    sigmae2 = sigmae2_H12(w_bin, g1_bin, R1, g2_bin, R2, neff, area)\n",
    "\n",
    "    print(str(i+1)+\"\\t\"+ str(len(ids[mask_bin]))+\"\\t \\t\"+str(len(ids[mask_bin])/area)[:7]+\"\\t\\t\"+str(neff)[:7]+\"\\t\\t\"+str(sigmae2**0.5)[:7])"
   ]
  },
  {
   "cell_type": "code",
   "execution_count": 31,
   "id": "65c27488",
   "metadata": {},
   "outputs": [
    {
     "data": {
      "text/plain": [
       "Text(0.5, 0, 'z')"
      ]
     },
     "execution_count": 31,
     "metadata": {},
     "output_type": "execute_result"
    },
    {
     "data": {
      "image/png": "[encoded data removed]",
      "text/plain": [
       "<Figure size 640x480 with 1 Axes>"
      ]
     },
     "metadata": {},
     "output_type": "display_data"
    }
   ],
   "source": [
    "for i in range(4):\n",
    "    mask_bin = (tomo_tomo == i+1)\n",
    "    z_bin = z_samp_tomo[mask_bin]\n",
    "    output = mplot.hist(z_bin, range=(0,2.5), bins=80, histtype='step', label='bin'+str(i))\n",
    "    np.savetxt('/project/chihway/data/decade/forecast/v1/zbin_'+str(i)+'.txt', np.vstack([(output[1][:-1]+output[1][1:])/2, output[0]/np.sum(output[0])]).T)\n",
    "mplot.legend()\n",
    "mplot.xlabel('z')"
   ]
  },
  {
   "cell_type": "code",
   "execution_count": null,
   "id": "f8a46ea1",
   "metadata": {},
   "outputs": [],
   "source": []
  },
  {
   "cell_type": "markdown",
   "id": "ef9ecdab",
   "metadata": {},
   "source": [
    "## Full catalog (1002)"
   ]
  },
  {
   "cell_type": "code",
   "execution_count": 32,
   "id": "5b0f5759",
   "metadata": {},
   "outputs": [],
   "source": [
    "tag = '1002'\n",
    "project_dir = '/project/chihway/data/decade/'"
   ]
  },
  {
   "cell_type": "code",
   "execution_count": 33,
   "id": "a9d88f69",
   "metadata": {},
   "outputs": [
    {
     "name": "stdout",
     "output_type": "stream",
     "text": [
      "<KeysViewHDF5 ['BDF_FLUX_ERR_G', 'BDF_FLUX_ERR_I', 'BDF_FLUX_ERR_R', 'BDF_FLUX_ERR_Z', 'BDF_FLUX_G', 'BDF_FLUX_I', 'BDF_FLUX_R', 'BDF_FLUX_Z', 'BDF_S2N', 'BDF_T', 'COADD_OBJECT_ID', 'DEC', 'FLAGS_FOREGROUND', 'FLUXERR_AUTO_G', 'FLUXERR_AUTO_I', 'FLUXERR_AUTO_R', 'FLUXERR_AUTO_Z', 'FLUX_AUTO_G', 'FLUX_AUTO_I', 'FLUX_AUTO_R', 'FLUX_AUTO_Z', 'FLUX_RADIUS_G', 'FLUX_RADIUS_I', 'FLUX_RADIUS_R', 'FLUX_RADIUS_Z', 'Ncutouts_raw', 'RA', 'badfrac', 'id', 'mcal_T_1m', 'mcal_T_1p', 'mcal_T_2m', 'mcal_T_2p', 'mcal_T_noshear', 'mcal_T_ratio_1m', 'mcal_T_ratio_1p', 'mcal_T_ratio_2m', 'mcal_T_ratio_2p', 'mcal_T_ratio_noshear', 'mcal_flags', 'mcal_flux_1m', 'mcal_flux_1p', 'mcal_flux_2m', 'mcal_flux_2p', 'mcal_flux_err_1m', 'mcal_flux_err_1p', 'mcal_flux_err_2m', 'mcal_flux_err_2p', 'mcal_flux_err_noshear', 'mcal_flux_noshear', 'mcal_g_1m', 'mcal_g_1p', 'mcal_g_2m', 'mcal_g_2p', 'mcal_g_cov_1m', 'mcal_g_cov_1p', 'mcal_g_cov_2m', 'mcal_g_cov_2p', 'mcal_g_cov_noshear', 'mcal_g_noshear', 'mcal_g_w', 'mcal_g_w_v2', 'mcal_psf_T_noshear', 'mcal_psf_g_noshear', 'mcal_s2n_1m', 'mcal_s2n_1p', 'mcal_s2n_2m', 'mcal_s2n_2p', 'mcal_s2n_noshear', 'sg_bdf', 'x', 'y']>\n"
     ]
    }
   ],
   "source": [
    "with h5py.File(project_dir+'metacal_gold_combined_2023'+tag+'.hdf', 'r') as h5r:\n",
    "\n",
    "    print(h5r.keys())\n",
    "    ids = h5r['COADD_OBJECT_ID'][:]"
   ]
  },
  {
   "cell_type": "code",
   "execution_count": null,
   "id": "2289f2fd",
   "metadata": {},
   "outputs": [],
   "source": []
  }
 ],
 "metadata": {
  "kernelspec": {
   "display_name": "shear",
   "language": "python",
   "name": "shear"
  },
  "language_info": {
   "codemirror_mode": {
    "name": "ipython",
    "version": 3
   },
   "file_extension": ".py",
   "mimetype": "text/x-python",
   "name": "python",
   "nbconvert_exporter": "python",
   "pygments_lexer": "ipython3",
   "version": "3.9.12"
  }
 },
 "nbformat": 4,
 "nbformat_minor": 5
}
