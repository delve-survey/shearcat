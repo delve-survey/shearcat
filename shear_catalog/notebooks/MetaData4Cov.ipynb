{
 "cells": [
  {
   "cell_type": "code",
   "execution_count": 1,
   "id": "5aae4c16",
   "metadata": {},
   "outputs": [
    {
     "name": "stdout",
     "output_type": "stream",
     "text": [
      "%pylab is deprecated, use %matplotlib inline and import the required libraries.\n",
      "Populating the interactive namespace from numpy and matplotlib\n"
     ]
    },
    {
     "name": "stderr",
     "output_type": "stream",
     "text": [
      "/home/chihway/.conda/envs/shear_decade/lib/python3.9/site-packages/IPython/core/magics/pylab.py:162: UserWarning: pylab import has clobbered these variables: ['vstack']\n",
      "`%matplotlib` prevents importing * from pylab and numpy\n",
      "  warn(\"pylab import has clobbered these variables: %s\"  % clobbered +\n"
     ]
    }
   ],
   "source": [
    "import sys\n",
    "import numpy as np\n",
    "import astropy.io.fits as pf\n",
    "from astropy.table import Table, vstack\n",
    "import pylab as mplot\n",
    "import yaml\n",
    "import h5py\n",
    "import healpy as hp\n",
    "import scipy\n",
    "from scipy import interpolate\n",
    "\n",
    "%pylab inline"
   ]
  },
  {
   "cell_type": "code",
   "execution_count": 2,
   "id": "54ba3384",
   "metadata": {},
   "outputs": [],
   "source": [
    "tag = '0613'\n",
    "project_dir = '/project2/chihway/data/decade/'"
   ]
  },
  {
   "cell_type": "code",
   "execution_count": 3,
   "id": "27ff6651",
   "metadata": {},
   "outputs": [
    {
     "name": "stdout",
     "output_type": "stream",
     "text": [
      "<KeysViewHDF5 ['BDF_FLUX_ERR_G', 'BDF_FLUX_ERR_I', 'BDF_FLUX_ERR_R', 'BDF_FLUX_ERR_Z', 'BDF_FLUX_G', 'BDF_FLUX_I', 'BDF_FLUX_R', 'BDF_FLUX_Z', 'BDF_S2N', 'BDF_T', 'COADD_OBJECT_ID', 'DEC', 'FLAGS_FOREGROUND', 'FLUXERR_AUTO_G', 'FLUXERR_AUTO_I', 'FLUXERR_AUTO_R', 'FLUXERR_AUTO_Z', 'FLUX_AUTO_G', 'FLUX_AUTO_I', 'FLUX_AUTO_R', 'FLUX_AUTO_Z', 'FLUX_RADIUS_G', 'FLUX_RADIUS_I', 'FLUX_RADIUS_R', 'FLUX_RADIUS_Z', 'Ncutouts_raw', 'RA', 'badfrac', 'id', 'mcal_T_1m', 'mcal_T_1p', 'mcal_T_2m', 'mcal_T_2p', 'mcal_T_noshear', 'mcal_T_ratio_1m', 'mcal_T_ratio_1p', 'mcal_T_ratio_2m', 'mcal_T_ratio_2p', 'mcal_T_ratio_noshear', 'mcal_flags', 'mcal_flux_1m', 'mcal_flux_1p', 'mcal_flux_2m', 'mcal_flux_2p', 'mcal_flux_err_1m', 'mcal_flux_err_1p', 'mcal_flux_err_2m', 'mcal_flux_err_2p', 'mcal_flux_err_noshear', 'mcal_flux_noshear', 'mcal_g_1m', 'mcal_g_1p', 'mcal_g_2m', 'mcal_g_2p', 'mcal_g_cov_1m', 'mcal_g_cov_1p', 'mcal_g_cov_2m', 'mcal_g_cov_2p', 'mcal_g_cov_noshear', 'mcal_g_noshear', 'mcal_g_w', 'mcal_g_w_v2', 'mcal_psf_T_noshear', 'mcal_psf_g_noshear', 'mcal_s2n_1m', 'mcal_s2n_1p', 'mcal_s2n_2m', 'mcal_s2n_2p', 'mcal_s2n_noshear', 'sg_bdf', 'x', 'y']>\n"
     ]
    }
   ],
   "source": [
    "with h5py.File(project_dir+'metacal_gold_combined_2023'+tag+'.hdf', 'r') as h5r:\n",
    "\n",
    "    print(h5r.keys())\n",
    "    ids = h5r['COADD_OBJECT_ID'][:]"
   ]
  },
  {
   "cell_type": "code",
   "execution_count": 4,
   "id": "ecae7eac",
   "metadata": {},
   "outputs": [],
   "source": [
    "tomo = np.load('/project/chihway/raulteixeira/data/BPZ+SOM_mcal_gold_wide_26x26_ids+cells+fluxes_TomoBins.npz')"
   ]
  },
  {
   "cell_type": "code",
   "execution_count": 5,
   "id": "4eabc8e6",
   "metadata": {},
   "outputs": [
    {
     "data": {
      "text/plain": [
       "(47341776,)"
      ]
     },
     "execution_count": 5,
     "metadata": {},
     "output_type": "execute_result"
    }
   ],
   "source": [
    "tomo['arr_0'].shape\n",
    "\n",
    "#['COADD_OBJECT_ID', 'FLUX_R', 'FLUX_ERR_R', 'FLUX_I', 'FLUX_ERR_I',\n",
    "#        'FLUX_Z', 'FLUX_ERR_Z', 'cells', 'CHI_SQ', 'ID', 'M_0', 'ODDS', 'T_B',\n",
    "#        'T_ML', 'Z_B', 'Z_B_MAX', 'Z_B_MIN', 'Z_MEAN', 'Z_ML', 'Z_SAMP',\n",
    "#        'Z_SIG', 'MAG_R', 'MAG_I', 'MAG_Z', 'TomoBin']"
   ]
  },
  {
   "cell_type": "code",
   "execution_count": 6,
   "id": "3d4fb816",
   "metadata": {},
   "outputs": [
    {
     "data": {
      "text/plain": [
       "244200019"
      ]
     },
     "execution_count": 6,
     "metadata": {},
     "output_type": "execute_result"
    }
   ],
   "source": [
    "len(ids)"
   ]
  },
  {
   "cell_type": "code",
   "execution_count": 7,
   "id": "8d58fd28",
   "metadata": {},
   "outputs": [
    {
     "name": "stderr",
     "output_type": "stream",
     "text": [
      "/tmp/jobs/30005660/ipykernel_65140/2547016843.py:13: RuntimeWarning: invalid value encountered in log10\n",
      "  mag_r = -2.5*np.log10(flux_r)+30\n",
      "/tmp/jobs/30005660/ipykernel_65140/2547016843.py:14: RuntimeWarning: invalid value encountered in log10\n",
      "  mag_i = -2.5*np.log10(flux_i)+30\n",
      "/tmp/jobs/30005660/ipykernel_65140/2547016843.py:15: RuntimeWarning: invalid value encountered in log10\n",
      "  mag_z = -2.5*np.log10(flux_z)+30\n",
      "/tmp/jobs/30005660/ipykernel_65140/2547016843.py:29: RuntimeWarning: invalid value encountered in log10\n",
      "  Other_Mask = np.invert((T > 2) & (s2n < 30)) & np.invert((np.log10(T) < (22.25 - mag_r)/3.5) & (g1**2 + g2**2 > 0.8**2))\n"
     ]
    }
   ],
   "source": [
    "# first get mask total\n",
    "\n",
    "with h5py.File(project_dir+'metacal_gold_combined_2023'+tag+'.hdf', 'r') as h5r:\n",
    "    size_ratio = h5r['mcal_T_ratio_noshear'][:]\n",
    "    s2n = h5r['mcal_s2n_noshear'][:]\n",
    "    sg = h5r['sg_bdf'][:] \n",
    "    fg = h5r['FLAGS_FOREGROUND'][:] \n",
    "    T = h5r['mcal_T_noshear'][:]\n",
    "    mcal_flags = h5r['mcal_flags'][:]\n",
    "    g1, g2  = h5r['mcal_g_noshear'][:].T\n",
    "    flux_r, flux_i, flux_z = h5r['mcal_flux_noshear'][:].T\n",
    "\n",
    "mag_r = -2.5*np.log10(flux_r)+30\n",
    "mag_i = -2.5*np.log10(flux_i)+30\n",
    "mag_z = -2.5*np.log10(flux_z)+30\n",
    "\n",
    "# PZ mask\n",
    "mcal_pz_mask = ((mag_i < 23.5) & (mag_i > 18) & \n",
    "                    (mag_r < 26)   & (mag_r > 15) & \n",
    "                    (mag_z < 26)   & (mag_z > 15) & \n",
    "                    (mag_r - mag_i < 4)   & (mag_r - mag_i > -1.5) & \n",
    "                    (mag_i - mag_z < 4)   & (mag_i - mag_z > -1.5))\n",
    "\n",
    "# Metacal cuts based on DES Y3 ones (from here: https://des.ncsa.illinois.edu/releases/y3a2/Y3key-catalogs)\n",
    "SNR_Mask   = (s2n > 10) & (s2n < 1000)\n",
    "Tratio_Mask= size_ratio > 0.5\n",
    "T_Mask = T < 10\n",
    "Flag_Mask = (mcal_flags == 0)\n",
    "Other_Mask = np.invert((T > 2) & (s2n < 30)) & np.invert((np.log10(T) < (22.25 - mag_r)/3.5) & (g1**2 + g2**2 > 0.8**2))\n",
    "SG_Mask = (sg>=4)\n",
    "FG_Mask = (fg==0)\n",
    "\n",
    "mask_total = mcal_pz_mask & SNR_Mask & Tratio_Mask & T_Mask & Flag_Mask & Other_Mask & SG_Mask & FG_Mask\n",
    "\n",
    "del size_ratio, s2n, sg, fg, T, mcal_flags, g1, g2, flux_r, flux_i, flux_z, mag_r, mag_i, mag_z\n",
    "del mcal_pz_mask, SNR_Mask, Tratio_Mask, T_Mask, Flag_Mask, Other_Mask, SG_Mask"
   ]
  },
  {
   "cell_type": "code",
   "execution_count": 8,
   "id": "f416fc56",
   "metadata": {},
   "outputs": [
    {
     "data": {
      "text/plain": [
       "47349243"
      ]
     },
     "execution_count": 8,
     "metadata": {},
     "output_type": "execute_result"
    }
   ],
   "source": [
    "len(ids[mask_total])"
   ]
  },
  {
   "cell_type": "code",
   "execution_count": 9,
   "id": "10047637",
   "metadata": {},
   "outputs": [
    {
     "name": "stdout",
     "output_type": "stream",
     "text": [
      "<KeysViewHDF5 ['BDF_FLUX_ERR_G', 'BDF_FLUX_ERR_I', 'BDF_FLUX_ERR_R', 'BDF_FLUX_ERR_Z', 'BDF_FLUX_G', 'BDF_FLUX_I', 'BDF_FLUX_R', 'BDF_FLUX_Z', 'BDF_S2N', 'BDF_T', 'COADD_OBJECT_ID', 'DEC', 'FLAGS_FOREGROUND', 'FLUXERR_AUTO_G', 'FLUXERR_AUTO_I', 'FLUXERR_AUTO_R', 'FLUXERR_AUTO_Z', 'FLUX_AUTO_G', 'FLUX_AUTO_I', 'FLUX_AUTO_R', 'FLUX_AUTO_Z', 'FLUX_RADIUS_G', 'FLUX_RADIUS_I', 'FLUX_RADIUS_R', 'FLUX_RADIUS_Z', 'Ncutouts_raw', 'RA', 'badfrac', 'id', 'mcal_T_1m', 'mcal_T_1p', 'mcal_T_2m', 'mcal_T_2p', 'mcal_T_noshear', 'mcal_T_ratio_1m', 'mcal_T_ratio_1p', 'mcal_T_ratio_2m', 'mcal_T_ratio_2p', 'mcal_T_ratio_noshear', 'mcal_flags', 'mcal_flux_1m', 'mcal_flux_1p', 'mcal_flux_2m', 'mcal_flux_2p', 'mcal_flux_err_1m', 'mcal_flux_err_1p', 'mcal_flux_err_2m', 'mcal_flux_err_2p', 'mcal_flux_err_noshear', 'mcal_flux_noshear', 'mcal_g_1m', 'mcal_g_1p', 'mcal_g_2m', 'mcal_g_2p', 'mcal_g_cov_1m', 'mcal_g_cov_1p', 'mcal_g_cov_2m', 'mcal_g_cov_2p', 'mcal_g_cov_noshear', 'mcal_g_noshear', 'mcal_g_w', 'mcal_g_w_v2', 'mcal_psf_T_noshear', 'mcal_psf_g_noshear', 'mcal_s2n_1m', 'mcal_s2n_1p', 'mcal_s2n_2m', 'mcal_s2n_2p', 'mcal_s2n_noshear', 'sg_bdf', 'x', 'y']>\n"
     ]
    }
   ],
   "source": [
    "with h5py.File(project_dir+'metacal_gold_combined_2023'+tag+'.hdf', 'r') as h5r:\n",
    "\n",
    "    print(h5r.keys())\n",
    "    ra = h5r['RA'][mask_total]\n",
    "    dec = h5r['DEC'][mask_total]\n",
    "    w = h5r['mcal_g_w_v2'][mask_total]   \n",
    "    g1, g2  = h5r['mcal_g_noshear'][:][mask_total].T"
   ]
  },
  {
   "cell_type": "code",
   "execution_count": 10,
   "id": "b38e8b1f",
   "metadata": {},
   "outputs": [
    {
     "data": {
      "image/png": "[encoded data removed]",
      "text/plain": [
       "<Figure size 432x288 with 1 Axes>"
      ]
     },
     "metadata": {
      "needs_background": "light"
     },
     "output_type": "display_data"
    }
   ],
   "source": [
    "ids_tomo = tomo['arr_0']['COADD_OBJECT_ID']\n",
    "tomo_tomo = tomo['arr_0']['TomoBin']\n",
    "z_samp_tomo = tomo['arr_0']['Z_SAMP']\n",
    "\n",
    "for i in range(4):\n",
    "    mask_bin = (tomo_tomo == i+1)\n",
    "    z_bin = z_samp_tomo[mask_bin]\n",
    "    mplot.hist(z_bin, range=(0,2.5), bins=50, histtype='step')"
   ]
  },
  {
   "cell_type": "code",
   "execution_count": 11,
   "id": "d48bb58f",
   "metadata": {},
   "outputs": [
    {
     "name": "stdout",
     "output_type": "stream",
     "text": [
      "47341776\n"
     ]
    }
   ],
   "source": [
    "# match tomo and metacal (there's a small number of missing galaxies in the tomo file)\n",
    "\n",
    "mask_tomo = np.in1d(ids[mask_total], ids_tomo)\n",
    "ids = ids[mask_total][mask_tomo]\n",
    "ra = ra[mask_tomo]\n",
    "dec = dec[mask_tomo]\n",
    "w = w[mask_tomo]\n",
    "g1 = g1[mask_tomo]\n",
    "g2 = g2[mask_tomo]\n",
    "\n",
    "print(len(ids))"
   ]
  },
  {
   "cell_type": "code",
   "execution_count": 12,
   "id": "b8933436",
   "metadata": {},
   "outputs": [],
   "source": [
    "# reorder by ids\n",
    "\n",
    "X = np.argsort(ids)\n",
    "ids = ids[X]\n",
    "ra = ra[X]\n",
    "dec = dec[X]\n",
    "\n",
    "Y = np.argsort(ids_tomo)\n",
    "ids_tomo = ids_tomo[Y]\n",
    "tomo_tomo = tomo_tomo[Y]\n",
    "z_samp_tomo = z_samp_tomo[Y]"
   ]
  },
  {
   "cell_type": "code",
   "execution_count": 13,
   "id": "451aebd4",
   "metadata": {},
   "outputs": [
    {
     "name": "stdout",
     "output_type": "stream",
     "text": [
      "[4 3 3 ... 3 4 4]\n",
      "[6901809260 6901809285 6901809304 ... 7255613797 7255613815 7255613822]\n",
      "[6901809260 6901809285 6901809304 ... 7255613797 7255613815 7255613822]\n"
     ]
    }
   ],
   "source": [
    "print(tomo_tomo)\n",
    "print(ids)\n",
    "print(ids_tomo)"
   ]
  },
  {
   "cell_type": "code",
   "execution_count": 14,
   "id": "08f88375",
   "metadata": {},
   "outputs": [
    {
     "name": "stdout",
     "output_type": "stream",
     "text": [
      "area 2376.2550507403184 deg^2\n",
      "total 5.534125357981384 /arcmin^2\n"
     ]
    }
   ],
   "source": [
    "nside = 4096\n",
    "map_counts = np.zeros(hp.nside2npix(nside))\n",
    "\n",
    "phi = ra/180*np.pi\n",
    "theta = (90.-dec)/180*np.pi\n",
    "\n",
    "pix = hp.ang2pix(nside, theta, phi)\n",
    "\n",
    "for i in range(len(pix)):\n",
    "    map_counts[pix[i]] += 1\n",
    "    \n",
    "area = len(map_counts[map_counts>0])/len(map_counts)*4*np.pi*(180./np.pi)**2*60*60\n",
    "print('area', area/60/60, 'deg^2')\n",
    "\n",
    "print('total', len(ra)/area, '/arcmin^2')"
   ]
  },
  {
   "cell_type": "code",
   "execution_count": 15,
   "id": "2fee5dc9",
   "metadata": {},
   "outputs": [],
   "source": [
    "# use mean response for everything, this is from CalculateNeff notebook\n",
    "# R11 0.7443824304923087 R11s 0.047189013967600654\n",
    "# R22 0.7455737932558067 R22s 0.04767254335307269\n",
    "# R11tot 0.7915714444599093 R22tot 0.7932463366088794"
   ]
  },
  {
   "cell_type": "code",
   "execution_count": 16,
   "id": "a87bde18",
   "metadata": {},
   "outputs": [],
   "source": [
    "def neff_H12(w, A):\n",
    "    return 1./A * (np.sum(w)**2) / (np.sum(w**2))\n",
    "\n",
    "def sigmae2_H12(w, g1, R1, g2, R2, neff, A):\n",
    "    return np.sqrt(0.5*((np.sum(w**2*(g1/R1)**2)/(np.sum(w))**2)\n",
    "                        +(np.sum(w**2*(g2/R2)**2)/(np.sum(w))**2))*(A*neff))\n",
    "\n",
    "R1 = 0.7915714444599093\n",
    "R2 = 0.7932463366088794"
   ]
  },
  {
   "cell_type": "code",
   "execution_count": 17,
   "id": "e1b873a4",
   "metadata": {},
   "outputs": [
    {
     "name": "stdout",
     "output_type": "stream",
     "text": [
      "Bin     total ngal    raw ngal(/arcmin^2)  neff(/arcmin^2)     sigmae \n",
      "======================================================================\n",
      "1\t11786749\t \t1.37783\t\t1.14047\t\t0.48748\n",
      "2\t11881478\t \t1.38891\t\t1.14957\t\t0.48743\n",
      "3\t11797219\t \t1.37906\t\t1.14157\t\t0.48747\n",
      "4\t11876330\t \t1.38831\t\t1.14915\t\t0.48744\n"
     ]
    }
   ],
   "source": [
    "print(\"Bin     total ngal    raw ngal(/arcmin^2)  neff(/arcmin^2)     sigmae \")\n",
    "print(\"======================================================================\")\n",
    "for i in range(4):\n",
    "    mask_bin = (tomo_tomo == i+1)\n",
    "    w_bin = w[mask_bin]\n",
    "    g1_bin = g1[mask_bin]\n",
    "    g2_bin = g2[mask_bin]\n",
    "    \n",
    "    neff = neff_H12(w_bin, area)\n",
    "    sigmae2 = sigmae2_H12(w_bin, g1_bin, R1, g2_bin, R2, neff, area)\n",
    "\n",
    "    print(str(i+1)+\"\\t\"+ str(len(ids[mask_bin]))+\"\\t \\t\"+str(len(ids[mask_bin])/area)[:7]+\"\\t\\t\"+str(neff)[:7]+\"\\t\\t\"+str(sigmae2**0.5)[:7])"
   ]
  },
  {
   "cell_type": "code",
   "execution_count": 27,
   "id": "79613239",
   "metadata": {},
   "outputs": [
    {
     "name": "stdout",
     "output_type": "stream",
     "text": [
      "(50,)\n",
      "(50,)\n",
      "(50,)\n",
      "(50,)\n"
     ]
    },
    {
     "data": {
      "text/plain": [
       "Text(0.5, 0, 'z')"
      ]
     },
     "execution_count": 27,
     "metadata": {},
     "output_type": "execute_result"
    },
    {
     "data": {
      "image/png": "[encoded data removed]",
      "text/plain": [
       "<Figure size 432x288 with 1 Axes>"
      ]
     },
     "metadata": {
      "needs_background": "light"
     },
     "output_type": "display_data"
    }
   ],
   "source": [
    "for i in range(4):\n",
    "    mask_bin = (tomo_tomo == i+1)\n",
    "    z_bin = z_samp_tomo[mask_bin]\n",
    "    output = mplot.hist(z_bin, range=(0,2.5), bins=50, histtype='step', label='bin'+str(i))\n",
    "    print(output[0].shape)\n",
    "    np.savetxt('/project/chihway/data/decade/forecast/v1/zbin_'+str(i)+'.txt', np.vstack([(output[1][:-1]+output[1][1:])/2, output[0]/np.sum(output[0])]).T)\n",
    "mplot.legend()\n",
    "mplot.xlabel('z')"
   ]
  },
  {
   "cell_type": "code",
   "execution_count": null,
   "id": "27b11f2f",
   "metadata": {},
   "outputs": [],
   "source": [
    "for i in range(4):\n",
    "    mask_bin = (tomo_tomo == i+1)\n",
    "    z_bin = z_samp_tomo[mask_bin]\n",
    "    mplot.hist(z_bin, range=(0,2.5), bins=50, histtype='step')"
   ]
  }
 ],
 "metadata": {
  "kernelspec": {
   "display_name": "shear_decade",
   "language": "python",
   "name": "shear_decade"
  },
  "language_info": {
   "codemirror_mode": {
    "name": "ipython",
    "version": 3
   },
   "file_extension": ".py",
   "mimetype": "text/x-python",
   "name": "python",
   "nbconvert_exporter": "python",
   "pygments_lexer": "ipython3",
   "version": "3.9.7"
  }
 },
 "nbformat": 4,
 "nbformat_minor": 5
}
