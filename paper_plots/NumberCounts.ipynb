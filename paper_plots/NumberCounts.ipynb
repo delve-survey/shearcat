{
 "cells": [
  {
   "cell_type": "code",
   "execution_count": 1,
   "id": "8ca261e0",
   "metadata": {},
   "outputs": [],
   "source": [
    "import sys\n",
    "sys.path.append('.conda/envs/shear/lib/python3.9/site-packages/')\n",
    "\n",
    "import numpy as np\n",
    "import astropy.io.fits as pf\n",
    "from astropy.table import Table, vstack\n",
    "import matplotlib.pylab as mplot\n",
    "import yaml\n",
    "import h5py\n",
    "import healpy as hp\n",
    "# import healsparse as hs\n",
    "import scipy\n",
    "from scipy import interpolate\n",
    "\n",
    "%matplotlib inline\n",
    "\n",
    "mplot.rc('text', usetex=True)\n",
    "mplot.rc('font', family='serif')\n",
    "\n",
    "\n",
    "# matplotlib.rcParams['font.family'] = \"sans-serif\"\n",
    "# matplotlib.rcParams['font.sans-serif'] = \"Times New Roman\"\n"
   ]
  },
  {
   "cell_type": "code",
   "execution_count": null,
   "id": "42f94a46",
   "metadata": {},
   "outputs": [],
   "source": []
  },
  {
   "cell_type": "code",
   "execution_count": 2,
   "id": "7e97bc90",
   "metadata": {},
   "outputs": [],
   "source": [
    "tag = '0613'\n",
    "project_dir = '/project/chihway/data/decade/'"
   ]
  },
  {
   "cell_type": "code",
   "execution_count": 3,
   "id": "87051533",
   "metadata": {},
   "outputs": [
    {
     "name": "stderr",
     "output_type": "stream",
     "text": [
      "/project/chihway/yomori/repo/anaconda3/envs/cosmosis/lib/python3.7/site-packages/ipykernel_launcher.py:13: RuntimeWarning: invalid value encountered in log10\n",
      "  del sys.path[0]\n",
      "/project/chihway/yomori/repo/anaconda3/envs/cosmosis/lib/python3.7/site-packages/ipykernel_launcher.py:14: RuntimeWarning: invalid value encountered in log10\n",
      "  \n",
      "/project/chihway/yomori/repo/anaconda3/envs/cosmosis/lib/python3.7/site-packages/ipykernel_launcher.py:15: RuntimeWarning: invalid value encountered in log10\n",
      "  from ipykernel import kernelapp as app\n",
      "/project/chihway/yomori/repo/anaconda3/envs/cosmosis/lib/python3.7/site-packages/ipykernel_launcher.py:29: RuntimeWarning: invalid value encountered in log10\n"
     ]
    }
   ],
   "source": [
    "# first get mask total\n",
    "\n",
    "with h5py.File(project_dir+'metacal_gold_combined_2023'+tag+'.hdf', 'r') as h5r:\n",
    "    size_ratio = h5r['mcal_T_ratio_noshear'][:]\n",
    "    s2n = h5r['mcal_s2n_noshear'][:]\n",
    "    sg = h5r['sg_bdf'][:] \n",
    "    fg = h5r['FLAGS_FOREGROUND'][:] \n",
    "    T = h5r['mcal_T_noshear'][:]\n",
    "    mcal_flags = h5r['mcal_flags'][:]\n",
    "    g1, g2  = h5r['mcal_g_noshear'][:].T\n",
    "    flux_r, flux_i, flux_z = h5r['mcal_flux_noshear'][:].T\n",
    "\n",
    "mag_r = -2.5*np.log10(flux_r)+30\n",
    "mag_i = -2.5*np.log10(flux_i)+30\n",
    "mag_z = -2.5*np.log10(flux_z)+30\n",
    "\n",
    "# PZ mask\n",
    "mcal_pz_mask = ((mag_i < 23.5) & (mag_i > 18) & \n",
    "                    (mag_r < 26)   & (mag_r > 15) & \n",
    "                    (mag_z < 26)   & (mag_z > 15) & \n",
    "                    (mag_r - mag_i < 4)   & (mag_r - mag_i > -1.5) & \n",
    "                    (mag_i - mag_z < 4)   & (mag_i - mag_z > -1.5))\n",
    "\n",
    "# Metacal cuts based on DES Y3 ones (from here: https://des.ncsa.illinois.edu/releases/y3a2/Y3key-catalogs)\n",
    "SNR_Mask   = (s2n > 10) & (s2n < 1000)\n",
    "Tratio_Mask= size_ratio > 0.5\n",
    "T_Mask = T < 10\n",
    "Flag_Mask = (mcal_flags == 0)\n",
    "Other_Mask = np.invert((T > 2) & (s2n < 30)) & np.invert((np.log10(T) < (22.25 - mag_r)/3.5) & (g1**2 + g2**2 > 0.8**2))\n",
    "SG_Mask = (sg>=4)\n",
    "FG_Mask = (fg==0)\n",
    "\n",
    "mask_total = mcal_pz_mask & SNR_Mask & Tratio_Mask & T_Mask & Flag_Mask & Other_Mask & SG_Mask & FG_Mask"
   ]
  },
  {
   "cell_type": "code",
   "execution_count": 4,
   "id": "325c8ea9",
   "metadata": {},
   "outputs": [
    {
     "data": {
      "text/plain": [
       "Text(0.5, 0, 'i mag')"
      ]
     },
     "execution_count": 4,
     "metadata": {},
     "output_type": "execute_result"
    },
    {
     "data": {
      "image/png": "[encoded data removed]",
      "text/plain": [
       "<Figure size 432x288 with 1 Axes>"
      ]
     },
     "metadata": {
      "needs_background": "light"
     },
     "output_type": "display_data"
    }
   ],
   "source": [
    "mplot.hist(mag_i, bins=100, range=(15,28), label='Gold cuts')\n",
    "mplot.hist(mag_i[FG_Mask], bins=100, range=(15,28), label='+ Foreground mask')\n",
    "mplot.hist(mag_i[FG_Mask*SNR_Mask*Tratio_Mask], bins=100, range=(15,28), label='+ Mcal cuts')\n",
    "mplot.hist(mag_i[FG_Mask*SNR_Mask*Tratio_Mask*SG_Mask], bins=100, range=(15,28), label='+ Star/Galaxy cut', histtype='step', lw=2)\n",
    "mplot.hist(mag_i[FG_Mask*SNR_Mask*Tratio_Mask*SG_Mask*T_Mask*Other_Mask*mcal_pz_mask], bins=100, range=(15,28), label='+ Othres', histtype='step', lw=2)\n",
    "\n",
    "mplot.legend()\n",
    "mplot.xlim(15,26)\n",
    "mplot.yscale('log')\n",
    "mplot.xlabel('i mag')\n"
   ]
  },
  {
   "cell_type": "code",
   "execution_count": 5,
   "id": "0dc79bd7",
   "metadata": {},
   "outputs": [],
   "source": [
    "# !echo $PATH"
   ]
  },
  {
   "cell_type": "code",
   "execution_count": 6,
   "id": "3e08f6b9",
   "metadata": {},
   "outputs": [
    {
     "data": {
      "image/png": "[encoded data removed]",
      "text/plain": [
       "<Figure size 432x288 with 1 Axes>"
      ]
     },
     "metadata": {
      "needs_background": "light"
     },
     "output_type": "display_data"
    }
   ],
   "source": [
    "mplot.figure(figsize=(6,4))\n",
    "mplot.hist(mag_i, bins=100, range=(15,28), label='Gold cuts', color='gold')\n",
    "mplot.hist(mag_i[FG_Mask], bins=100, range=(15,28), label='+ Foreground mask', color='orange')\n",
    "mplot.hist(mag_i[FG_Mask*SNR_Mask*Tratio_Mask], bins=100, range=(15,28), label='+ Metacal cuts', color='#e72222')\n",
    "mplot.hist(mag_i[FG_Mask*SNR_Mask*Tratio_Mask*SG_Mask], bins=100, range=(15,28), label='+ Star/Galaxy cut', histtype='step', lw=1, color='brown')\n",
    "mplot.hist(mag_i[FG_Mask*SNR_Mask*Tratio_Mask*SG_Mask*T_Mask*Other_Mask*mcal_pz_mask], bins=100, range=(15,28), label='+ Othres', histtype='step', lw=1, color='k') \n",
    "\n",
    "mplot.legend(fontsize=13)\n",
    "mplot.xlim(15,26)\n",
    "mplot.xlabel('$i$')\n",
    "\n",
    "mplot.savefig('mag_dist_cuts.pdf', bbox_inches='tight')\n"
   ]
  },
  {
   "cell_type": "code",
   "execution_count": 18,
   "id": "402da03a",
   "metadata": {},
   "outputs": [
    {
     "name": "stdout",
     "output_type": "stream",
     "text": [
      "244200019\n",
      "196160670\n",
      "49841218\n",
      "49586959\n",
      "47349243\n"
     ]
    }
   ],
   "source": [
    "print(len(mag_i))\n",
    "print(len(mag_i[FG_Mask]))\n",
    "print(len(mag_i[FG_Mask*SNR_Mask*Tratio_Mask]))\n",
    "print(len(mag_i[FG_Mask*SNR_Mask*Tratio_Mask*SG_Mask]))\n",
    "print(len(mag_i[FG_Mask*SNR_Mask*Tratio_Mask*SG_Mask*T_Mask*Other_Mask*mcal_pz_mask]))\n"
   ]
  },
  {
   "cell_type": "code",
   "execution_count": 25,
   "id": "c8bb73ef",
   "metadata": {},
   "outputs": [
    {
     "name": "stdout",
     "output_type": "stream",
     "text": [
      "244200019\n",
      "196160670\n",
      "59938572\n",
      "146535714\n",
      "163033587\n"
     ]
    }
   ],
   "source": [
    "print(len(mag_i))\n",
    "print(len(mag_i[FG_Mask]))\n",
    "print(len(mag_i[SNR_Mask*Tratio_Mask]))\n",
    "print(len(mag_i[SG_Mask]))\n",
    "print(len(mag_i[T_Mask*Other_Mask*mcal_pz_mask]))\n"
   ]
  },
  {
   "cell_type": "code",
   "execution_count": 19,
   "id": "8aca03f9",
   "metadata": {},
   "outputs": [
    {
     "data": {
      "text/plain": [
       "0.9948986198531504"
      ]
     },
     "execution_count": 19,
     "metadata": {},
     "output_type": "execute_result"
    }
   ],
   "source": [
    "49586959/49841218"
   ]
  },
  {
   "cell_type": "code",
   "execution_count": 31,
   "id": "5fca4093",
   "metadata": {},
   "outputs": [
    {
     "data": {
      "text/plain": [
       "0.6676231544437349"
      ]
     },
     "execution_count": 31,
     "metadata": {},
     "output_type": "execute_result"
    }
   ],
   "source": [
    "163033587/244200019"
   ]
  },
  {
   "cell_type": "code",
   "execution_count": 24,
   "id": "b4463d38",
   "metadata": {},
   "outputs": [
    {
     "data": {
      "text/plain": [
       "0.2040999759299773"
      ]
     },
     "execution_count": 24,
     "metadata": {},
     "output_type": "execute_result"
    }
   ],
   "source": [
    "49841218/244200019"
   ]
  },
  {
   "cell_type": "code",
   "execution_count": null,
   "id": "c77bfa07",
   "metadata": {},
   "outputs": [],
   "source": [
    "# should probably code this up..."
   ]
  }
 ],
 "metadata": {
  "kernelspec": {
   "display_name": "Python 3",
   "language": "python",
   "name": "python3"
  },
  "language_info": {
   "codemirror_mode": {
    "name": "ipython",
    "version": 3
   },
   "file_extension": ".py",
   "mimetype": "text/x-python",
   "name": "python",
   "nbconvert_exporter": "python",
   "pygments_lexer": "ipython3",
   "version": "3.7.10"
  }
 },
 "nbformat": 4,
 "nbformat_minor": 5
}
