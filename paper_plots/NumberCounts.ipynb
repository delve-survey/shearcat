{
 "cells": [
  {
   "cell_type": "code",
   "execution_count": 1,
   "id": "8ca261e0",
   "metadata": {},
   "outputs": [],
   "source": [
    "import sys\n",
    "sys.path.append('.conda/envs/shear/lib/python3.9/site-packages/')\n",
    "\n",
    "import numpy as np\n",
    "import astropy.io.fits as pf\n",
    "from astropy.table import Table, vstack\n",
    "import matplotlib.pylab as mplot\n",
    "import yaml\n",
    "import h5py\n",
    "import healpy as hp\n",
    "# import healsparse as hs\n",
    "import scipy\n",
    "from scipy import interpolate\n",
    "\n",
    "%matplotlib inline\n",
    "\n",
    "mplot.rc('text', usetex=True)\n",
    "mplot.rc('font', family='serif')\n",
    "\n",
    "\n",
    "# matplotlib.rcParams['font.family'] = \"sans-serif\"\n",
    "# matplotlib.rcParams['font.sans-serif'] = \"Times New Roman\"\n"
   ]
  },
  {
   "cell_type": "code",
   "execution_count": null,
   "id": "42f94a46",
   "metadata": {},
   "outputs": [],
   "source": []
  },
  {
   "cell_type": "code",
   "execution_count": 2,
   "id": "7e97bc90",
   "metadata": {},
   "outputs": [],
   "source": [
    "tag = '20240209'\n",
    "project_dir = '/project/chihway/data/decade/'"
   ]
  },
  {
   "cell_type": "code",
   "execution_count": 3,
   "id": "aebf3d37-cdf0-44bb-a4e9-16b19b38af87",
   "metadata": {},
   "outputs": [
    {
     "name": "stdout",
     "output_type": "stream",
     "text": [
      "<KeysViewHDF5 ['Ag_planck13', 'Ag_sfd98', 'Ai_planck13', 'Ai_sfd98', 'Ar_planck13', 'Ar_sfd98', 'Az_planck13', 'Az_sfd98', 'BDF_FLUX_ERR_G', 'BDF_FLUX_ERR_G_DERED_PLANCK13', 'BDF_FLUX_ERR_G_DERED_SFD98', 'BDF_FLUX_ERR_I', 'BDF_FLUX_ERR_I_DERED_PLANCK13', 'BDF_FLUX_ERR_I_DERED_SFD98', 'BDF_FLUX_ERR_R', 'BDF_FLUX_ERR_R_DERED_PLANCK13', 'BDF_FLUX_ERR_R_DERED_SFD98', 'BDF_FLUX_ERR_Z', 'BDF_FLUX_ERR_Z_DERED_PLANCK13', 'BDF_FLUX_ERR_Z_DERED_SFD98', 'BDF_FLUX_G', 'BDF_FLUX_G_DERED_PLANCK13', 'BDF_FLUX_G_DERED_SFD98', 'BDF_FLUX_I', 'BDF_FLUX_I_DERED_PLANCK13', 'BDF_FLUX_I_DERED_SFD98', 'BDF_FLUX_R', 'BDF_FLUX_R_DERED_PLANCK13', 'BDF_FLUX_R_DERED_SFD98', 'BDF_FLUX_Z', 'BDF_FLUX_Z_DERED_PLANCK13', 'BDF_FLUX_Z_DERED_SFD98', 'BDF_S2N', 'BDF_T', 'COADD_OBJECT_ID', 'DEC', 'FLAGS_BAD_COLOR', 'FLAGS_FOOTPRINT', 'FLAGS_FOREGROUND', 'FLAGS_SG_BDF', 'FLUXERR_AUTO_G', 'FLUXERR_AUTO_G_DERED_PLANCK13', 'FLUXERR_AUTO_G_DERED_SFD98', 'FLUXERR_AUTO_I', 'FLUXERR_AUTO_I_DERED_PLANCK13', 'FLUXERR_AUTO_I_DERED_SFD98', 'FLUXERR_AUTO_R', 'FLUXERR_AUTO_R_DERED_PLANCK13', 'FLUXERR_AUTO_R_DERED_SFD98', 'FLUXERR_AUTO_Z', 'FLUXERR_AUTO_Z_DERED_PLANCK13', 'FLUXERR_AUTO_Z_DERED_SFD98', 'FLUX_AUTO_G', 'FLUX_AUTO_G_DERED_PLANCK13', 'FLUX_AUTO_G_DERED_SFD98', 'FLUX_AUTO_I', 'FLUX_AUTO_I_DERED_PLANCK13', 'FLUX_AUTO_I_DERED_SFD98', 'FLUX_AUTO_R', 'FLUX_AUTO_R_DERED_PLANCK13', 'FLUX_AUTO_R_DERED_SFD98', 'FLUX_AUTO_Z', 'FLUX_AUTO_Z_DERED_PLANCK13', 'FLUX_AUTO_Z_DERED_SFD98', 'FLUX_RADIUS_G', 'FLUX_RADIUS_I', 'FLUX_RADIUS_R', 'FLUX_RADIUS_Z', 'Ncutouts_raw', 'RA', 'badfrac', 'baseline_mcal_mask_1m', 'baseline_mcal_mask_1p', 'baseline_mcal_mask_2m', 'baseline_mcal_mask_2p', 'baseline_mcal_mask_noshear', 'id', 'mcal_T_1m', 'mcal_T_1p', 'mcal_T_2m', 'mcal_T_2p', 'mcal_T_noshear', 'mcal_T_ratio_1m', 'mcal_T_ratio_1p', 'mcal_T_ratio_2m', 'mcal_T_ratio_2p', 'mcal_T_ratio_noshear', 'mcal_flags', 'mcal_flux_1m', 'mcal_flux_1m_dered_planck13', 'mcal_flux_1m_dered_sfd98', 'mcal_flux_1p', 'mcal_flux_1p_dered_planck13', 'mcal_flux_1p_dered_sfd98', 'mcal_flux_2m', 'mcal_flux_2m_dered_planck13', 'mcal_flux_2m_dered_sfd98', 'mcal_flux_2p', 'mcal_flux_2p_dered_planck13', 'mcal_flux_2p_dered_sfd98', 'mcal_flux_err_1m', 'mcal_flux_err_1m_dered_planck13', 'mcal_flux_err_1m_dered_sfd98', 'mcal_flux_err_1p', 'mcal_flux_err_1p_dered_planck13', 'mcal_flux_err_1p_dered_sfd98', 'mcal_flux_err_2m', 'mcal_flux_err_2m_dered_planck13', 'mcal_flux_err_2m_dered_sfd98', 'mcal_flux_err_2p', 'mcal_flux_err_2p_dered_planck13', 'mcal_flux_err_2p_dered_sfd98', 'mcal_flux_err_noshear', 'mcal_flux_err_noshear_dered_planck13', 'mcal_flux_err_noshear_dered_sfd98', 'mcal_flux_noshear', 'mcal_flux_noshear_dered_planck13', 'mcal_flux_noshear_dered_sfd98', 'mcal_g_1m', 'mcal_g_1p', 'mcal_g_2m', 'mcal_g_2p', 'mcal_g_cov_1m', 'mcal_g_cov_1p', 'mcal_g_cov_2m', 'mcal_g_cov_2p', 'mcal_g_cov_noshear', 'mcal_g_noshear', 'mcal_g_w', 'mcal_psf_T_noshear', 'mcal_psf_g_noshear', 'mcal_s2n_1m', 'mcal_s2n_1p', 'mcal_s2n_2m', 'mcal_s2n_2p', 'mcal_s2n_noshear', 'x', 'y']>\n"
     ]
    }
   ],
   "source": [
    "with h5py.File(project_dir+'metacal_gold_combined_'+tag+'.hdf', 'r') as h5r:\n",
    "    print(h5r.keys())"
   ]
  },
  {
   "cell_type": "code",
   "execution_count": null,
   "id": "e8ee55d1-b5e2-4c83-877e-16b8d083a136",
   "metadata": {},
   "outputs": [],
   "source": []
  },
  {
   "cell_type": "code",
   "execution_count": 4,
   "id": "87051533",
   "metadata": {},
   "outputs": [
    {
     "name": "stderr",
     "output_type": "stream",
     "text": [
      "/scratch/local/jobs/20112741/ipykernel_4026781/2574887582.py:12: RuntimeWarning: invalid value encountered in log10\n",
      "  mag_r = -2.5*np.log10(flux_r)+30\n",
      "/scratch/local/jobs/20112741/ipykernel_4026781/2574887582.py:13: RuntimeWarning: invalid value encountered in log10\n",
      "  mag_i = -2.5*np.log10(flux_i)+30\n",
      "/scratch/local/jobs/20112741/ipykernel_4026781/2574887582.py:14: RuntimeWarning: invalid value encountered in log10\n",
      "  mag_z = -2.5*np.log10(flux_z)+30\n",
      "/scratch/local/jobs/20112741/ipykernel_4026781/2574887582.py:32: RuntimeWarning: invalid value encountered in log10\n",
      "  binary_Mask = np.invert((np.log10(T) < (22.25 - mag_r)/3.5) & (g1**2 + g2**2 > 0.8**2))\n"
     ]
    }
   ],
   "source": [
    "with h5py.File(project_dir+'metacal_gold_combined_'+tag+'.hdf', 'r') as h5r:\n",
    "    flux_r, flux_i, flux_z = h5r['mcal_flux_noshear_dered_sfd98'][:].T\n",
    "    size_ratio = h5r['mcal_T_ratio_noshear'][:]\n",
    "    s2n = h5r['mcal_s2n_noshear'][:] \n",
    "    fg = h5r['FLAGS_FOREGROUND'][:] \n",
    "    bc = h5r['FLAGS_BAD_COLOR'][:] \n",
    "    ft = h5r['FLAGS_FOOTPRINT'][:] \n",
    "    T = h5r['mcal_T_noshear'][:]\n",
    "    mcal_flags = h5r['mcal_flags'][:]\n",
    "    g1, g2  = h5r['mcal_g_noshear'][:].T\n",
    "\n",
    "mag_r = -2.5*np.log10(flux_r)+30\n",
    "mag_i = -2.5*np.log10(flux_i)+30\n",
    "mag_z = -2.5*np.log10(flux_z)+30\n",
    "\n",
    "del flux_r, flux_i, flux_z\n",
    "\n",
    "# PZ mask\n",
    "mcal_pz_mask = ((mag_i < 23.5) & (mag_i > 18) & \n",
    "                    (mag_r < 26)   & (mag_r > 15) & \n",
    "                    (mag_z < 26)   & (mag_z > 15) & \n",
    "                    (mag_r - mag_i < 4)   & (mag_r - mag_i > -1.5) & \n",
    "                    (mag_i - mag_z < 4)   & (mag_i - mag_z > -1.5))\n",
    "\n",
    "# Metacal cuts based on DES Y3 ones (from here: https://des.ncsa.illinois.edu/releases/y3a2/Y3key-catalogs)\n",
    "SNR_Mask   = (s2n > 10) & (s2n < 1000)\n",
    "Tratio_Mask= size_ratio > 0.5\n",
    "T_Mask = T < 10\n",
    "Flag_Mask = (mcal_flags == 0)\n",
    "mcal_cut = SNR_Mask*Tratio_Mask*T_Mask*Flag_Mask\n",
    "mcal_cut = mcal_cut & np.invert((T > 2) & (s2n < 30)) \n",
    "binary_Mask = np.invert((np.log10(T) < (22.25 - mag_r)/3.5) & (g1**2 + g2**2 > 0.8**2))\n",
    "\n",
    "del s2n, T, size_ratio, mag_r, mag_i, mag_z, g1, g2\n",
    "\n",
    "FG_Mask = (fg==0)\n",
    "FT_Mask = (ft==0)\n",
    "BC_Mask = (bc==0)"
   ]
  },
  {
   "cell_type": "code",
   "execution_count": 5,
   "id": "325c8ea9",
   "metadata": {},
   "outputs": [],
   "source": [
    "# mplot.hist(mag_i, bins=100, range=(15,28), label='Gold cuts')\n",
    "# mplot.hist(mag_i[FG_Mask], bins=100, range=(15,28), label='+ Foreground mask')\n",
    "# mplot.hist(mag_i[FG_Mask*SNR_Mask*Tratio_Mask], bins=100, range=(15,28), label='+ Mcal cuts')\n",
    "# mplot.hist(mag_i[FG_Mask*SNR_Mask*Tratio_Mask*SG_Mask], bins=100, range=(15,28), label='+ Star/Galaxy cut', histtype='step', lw=2)\n",
    "# mplot.hist(mag_i[FG_Mask*SNR_Mask*Tratio_Mask*SG_Mask*T_Mask*Other_Mask*mcal_pz_mask], bins=100, range=(15,28), label='+ Othres', histtype='step', lw=2)\n",
    "\n",
    "# mplot.legend()\n",
    "# mplot.xlim(15,26)\n",
    "# mplot.yscale('log')\n",
    "# mplot.xlabel('i mag')\n"
   ]
  },
  {
   "cell_type": "code",
   "execution_count": 35,
   "id": "0dc79bd7",
   "metadata": {},
   "outputs": [],
   "source": [
    "# !echo $PATH"
   ]
  },
  {
   "cell_type": "code",
   "execution_count": 7,
   "id": "7b9931b4-b8ff-4731-8887-9985371b1fe0",
   "metadata": {},
   "outputs": [
    {
     "name": "stderr",
     "output_type": "stream",
     "text": [
      "/scratch/local/jobs/20112741/ipykernel_4026781/3887210661.py:3: RuntimeWarning: invalid value encountered in log10\n",
      "  mag_i = -2.5*np.log10(flux_i)+30\n"
     ]
    }
   ],
   "source": [
    "with h5py.File(project_dir+'metacal_gold_combined_'+tag+'.hdf', 'r') as h5r:\n",
    "    flux_r, flux_i, flux_z = h5r['mcal_flux_noshear_dered_sfd98'][:].T\n",
    "mag_i = -2.5*np.log10(flux_i)+30"
   ]
  },
  {
   "cell_type": "code",
   "execution_count": 9,
   "id": "3e08f6b9",
   "metadata": {},
   "outputs": [
    {
     "name": "stdout",
     "output_type": "stream",
     "text": [
      "107371478\n",
      "0.15994783004714114\n"
     ]
    },
    {
     "data": {
      "image/png": "[encoded data removed]",
      "text/plain": [
       "<Figure size 500x300 with 1 Axes>"
      ]
     },
     "metadata": {},
     "output_type": "display_data"
    }
   ],
   "source": [
    "mplot.figure(figsize=(5,3))\n",
    "mplot.hist(mag_i, bins=100, range=(15,28), label='\\\\textsc{SExtractor} and SOF cuts', color='gold')\n",
    "mplot.hist(mag_i[FG_Mask*FT_Mask*BC_Mask], bins=100, range=(15,28), label='+ foreground and other base cuts', color='orange')\n",
    "mplot.hist(mag_i[FG_Mask*FT_Mask*BC_Mask*mcal_cut], bins=100, range=(15,28), label='+ \\\\textsc{Metacalibration} cuts', color='#e72222')\n",
    "# mplot.hist(mag_i[FG_Mask*FT_Mask*BC_Mask*mcal_cut*mcal_pz_mask], bins=100, range=(15,28), label='+ extreme color cuts', histtype='step', lw=1, color='w')\n",
    "mplot.hist(mag_i[FG_Mask*FT_Mask*BC_Mask*mcal_cut*mcal_pz_mask*binary_Mask], bins=100, range=(15,28), label='+ other cut', histtype='step', lw=1, color='k') \n",
    "\n",
    "print(len(mag_i[FG_Mask*FT_Mask*BC_Mask*mcal_cut*mcal_pz_mask*binary_Mask]))\n",
    "print(len(mag_i[FG_Mask*FT_Mask*BC_Mask*mcal_cut*mcal_pz_mask*binary_Mask])/len(mag_i))\n",
    "\n",
    "mplot.legend(fontsize=10, frameon = False)\n",
    "mplot.xlim(15,26)\n",
    "mplot.xlabel('$i$')\n",
    "\n",
    "mplot.savefig('mag_dist_cuts.pdf', bbox_inches='tight')\n"
   ]
  },
  {
   "cell_type": "code",
   "execution_count": 45,
   "id": "402da03a",
   "metadata": {},
   "outputs": [
    {
     "name": "stdout",
     "output_type": "stream",
     "text": [
      "671290620\n",
      "470812637 70.13544104042448\n",
      "111400589 16.594986684008784\n",
      "107371478 15.994783004714114\n"
     ]
    }
   ],
   "source": [
    "N = len(mag_i)\n",
    "print(len(mag_i))\n",
    "print(len(mag_i[FG_Mask*FT_Mask*BC_Mask]), len(mag_i[FG_Mask*FT_Mask*BC_Mask])/N*100)\n",
    "print(len(mag_i[FG_Mask*FT_Mask*BC_Mask*mcal_cut]), len(mag_i[FG_Mask*FT_Mask*BC_Mask*mcal_cut])/N*100)\n",
    "print(len(mag_i[FG_Mask*FT_Mask*BC_Mask*mcal_cut*mcal_pz_mask*binary_Mask]), len(mag_i[FG_Mask*FT_Mask*BC_Mask*mcal_cut*mcal_pz_mask*binary_Mask])/N*100)\n"
   ]
  },
  {
   "cell_type": "code",
   "execution_count": 46,
   "id": "64af4bfb-c69a-4f75-b407-405ab4779578",
   "metadata": {},
   "outputs": [
    {
     "name": "stdout",
     "output_type": "stream",
     "text": [
      "671290620\n",
      "470812637 70.13544104042448\n",
      "140432055 20.91971060164672\n",
      "480429730 71.56806838742958\n"
     ]
    }
   ],
   "source": [
    "N = len(mag_i)\n",
    "print(len(mag_i))\n",
    "print(len(mag_i[FG_Mask*FT_Mask*BC_Mask]), len(mag_i[FG_Mask*FT_Mask*BC_Mask])/N*100)\n",
    "print(len(mag_i[mcal_cut]), len(mag_i[mcal_cut])/N*100)\n",
    "print(len(mag_i[mcal_pz_mask*binary_Mask]), len(mag_i[mcal_pz_mask*binary_Mask])/N*100)\n"
   ]
  },
  {
   "cell_type": "code",
   "execution_count": null,
   "id": "95549389-57ed-4e58-8679-a45799ad345b",
   "metadata": {},
   "outputs": [],
   "source": []
  },
  {
   "cell_type": "code",
   "execution_count": null,
   "id": "c424a373-b148-4cfe-9b59-f60512804c59",
   "metadata": {},
   "outputs": [],
   "source": []
  },
  {
   "cell_type": "code",
   "execution_count": 8,
   "id": "c8bb73ef",
   "metadata": {},
   "outputs": [
    {
     "name": "stdout",
     "output_type": "stream",
     "text": [
      "244200019\n",
      "196160670\n",
      "59938572\n",
      "146535714\n",
      "163033587\n"
     ]
    }
   ],
   "source": [
    "print(len(mag_i))\n",
    "print(len(mag_i[FG_Mask]))\n",
    "print(len(mag_i[SNR_Mask*Tratio_Mask]))\n",
    "print(len(mag_i[SG_Mask]))\n",
    "print(len(mag_i[T_Mask*Other_Mask*mcal_pz_mask]))\n"
   ]
  },
  {
   "cell_type": "code",
   "execution_count": 9,
   "id": "8aca03f9",
   "metadata": {},
   "outputs": [
    {
     "data": {
      "text/plain": [
       "0.9948986198531504"
      ]
     },
     "execution_count": 9,
     "metadata": {},
     "output_type": "execute_result"
    }
   ],
   "source": [
    "49586959/49841218"
   ]
  },
  {
   "cell_type": "code",
   "execution_count": 10,
   "id": "5fca4093",
   "metadata": {},
   "outputs": [
    {
     "data": {
      "text/plain": [
       "0.6676231544437349"
      ]
     },
     "execution_count": 10,
     "metadata": {},
     "output_type": "execute_result"
    }
   ],
   "source": [
    "163033587/244200019"
   ]
  },
  {
   "cell_type": "code",
   "execution_count": 11,
   "id": "b4463d38",
   "metadata": {},
   "outputs": [
    {
     "data": {
      "text/plain": [
       "0.2040999759299773"
      ]
     },
     "execution_count": 11,
     "metadata": {},
     "output_type": "execute_result"
    }
   ],
   "source": [
    "49841218/244200019"
   ]
  },
  {
   "cell_type": "code",
   "execution_count": 12,
   "id": "c77bfa07",
   "metadata": {},
   "outputs": [],
   "source": [
    "# should probably code this up..."
   ]
  },
  {
   "cell_type": "code",
   "execution_count": 26,
   "id": "5efe78d5",
   "metadata": {},
   "outputs": [],
   "source": []
  },
  {
   "cell_type": "code",
   "execution_count": 3,
   "id": "94cfe708-53a6-4485-ae2c-50eacef0351c",
   "metadata": {},
   "outputs": [
    {
     "data": {
      "text/plain": [
       "Text(0, 0.5, 'r')"
      ]
     },
     "execution_count": 3,
     "metadata": {},
     "output_type": "execute_result"
    },
    {
     "data": {
      "image/png": "[encoded data removed]",
      "text/plain": [
       "<Figure size 640x480 with 1 Axes>"
      ]
     },
     "metadata": {},
     "output_type": "display_data"
    }
   ],
   "source": [
    "logT = np.arange(10)/10*2-1\n",
    "r_35 = 22.25-(logT*3.5)\n",
    "r_25 = 22.5-(logT*2.5)\n",
    "\n",
    "mplot.plot(logT, r_35, label='3.5')\n",
    "mplot.plot(logT, r_25, label='2.5')\n",
    "mplot.legend()\n",
    "mplot.xlim(-1,1)\n",
    "mplot.ylim(20,25)\n",
    "mplot.xlabel('logT')\n",
    "mplot.ylabel('r')\n"
   ]
  },
  {
   "cell_type": "code",
   "execution_count": 7,
   "id": "e9aa3bb7-eb21-4e67-9446-aa743b6018bc",
   "metadata": {},
   "outputs": [],
   "source": [
    "with h5py.File(project_dir+'metacal_gold_combined_'+tag+'.hdf', 'r') as h5r:\n",
    "    mask = h5r['baseline_mcal_mask_noshear'][:]\n",
    "    s2n = h5r['mcal_s2n_noshear'][:] \n",
    "    size_ratio = h5r['mcal_T_ratio_noshear'][:]\n",
    "    ra = h5r['RA'][:]"
   ]
  },
  {
   "cell_type": "code",
   "execution_count": 8,
   "id": "8f2c9bdb-62b1-46ea-81a0-c525d9889e3e",
   "metadata": {},
   "outputs": [
    {
     "data": {
      "text/plain": [
       "107371478"
      ]
     },
     "execution_count": 8,
     "metadata": {},
     "output_type": "execute_result"
    }
   ],
   "source": [
    "len(ra[mask>0])"
   ]
  },
  {
   "cell_type": "code",
   "execution_count": 13,
   "id": "b7425966-d807-4ffc-9799-bfaa39c80809",
   "metadata": {},
   "outputs": [
    {
     "data": {
      "text/plain": [
       "104610038"
      ]
     },
     "execution_count": 13,
     "metadata": {},
     "output_type": "execute_result"
    }
   ],
   "source": [
    "len(ra[(mask>0)*(s2n>=10)*(s2n<=400)*(size_ratio>=0.5)*(size_ratio<=6)])"
   ]
  },
  {
   "cell_type": "code",
   "execution_count": 10,
   "id": "cc7097b3-36b5-4aff-b394-ba3fe56564b1",
   "metadata": {},
   "outputs": [
    {
     "data": {
      "text/plain": [
       "0.9742814381301522"
      ]
     },
     "execution_count": 10,
     "metadata": {},
     "output_type": "execute_result"
    }
   ],
   "source": [
    "104610038/107371478"
   ]
  },
  {
   "cell_type": "code",
   "execution_count": null,
   "id": "90bfa26b-d386-4229-8748-15c5d31bedc8",
   "metadata": {},
   "outputs": [],
   "source": []
  }
 ],
 "metadata": {
  "kernelspec": {
   "display_name": "Python 3 (ipykernel)",
   "language": "python",
   "name": "python3"
  },
  "language_info": {
   "codemirror_mode": {
    "name": "ipython",
    "version": 3
   },
   "file_extension": ".py",
   "mimetype": "text/x-python",
   "name": "python",
   "nbconvert_exporter": "python",
   "pygments_lexer": "ipython3",
   "version": "3.11.5"
  }
 },
 "nbformat": 4,
 "nbformat_minor": 5
}
